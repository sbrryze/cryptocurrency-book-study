{
 "cells": [
  {
   "cell_type": "markdown",
   "metadata": {},
   "source": [
    "### 6.3.1 이동평균 Moving Average"
   ]
  },
  {
   "cell_type": "code",
   "execution_count": 1,
   "metadata": {},
   "outputs": [],
   "source": [
    "import pyupbit"
   ]
  },
  {
   "cell_type": "code",
   "execution_count": 2,
   "metadata": {},
   "outputs": [
    {
     "name": "stdout",
     "output_type": "stream",
     "text": [
      "2023-04-22 09:00:00         NaN\n",
      "2023-04-23 09:00:00         NaN\n",
      "2023-04-24 09:00:00         NaN\n",
      "2023-04-25 09:00:00         NaN\n",
      "2023-04-26 09:00:00    0.066832\n",
      "                         ...   \n",
      "2023-11-03 09:00:00    0.052143\n",
      "2023-11-04 09:00:00    0.052248\n",
      "2023-11-05 09:00:00    0.052672\n",
      "2023-11-06 09:00:00    0.053181\n",
      "2023-11-07 09:00:00    0.053600\n",
      "Name: close, Length: 200, dtype: float64\n"
     ]
    }
   ],
   "source": [
    "df = pyupbit.get_ohlcv('BTC-ETH')\n",
    "close = df['close']\n",
    "ma5 = close.rolling(5).mean()\n",
    "print(ma5)"
   ]
  },
  {
   "cell_type": "code",
   "execution_count": 3,
   "metadata": {},
   "outputs": [],
   "source": [
    "def get_yesterdat_ma5(ticker):\n",
    "    df = pyupbit.get_ohlcv(ticker)\n",
    "    close = df['close']\n",
    "    ma5 = close.rolling(5).mean()\n",
    "    return ma5[-2]"
   ]
  },
  {
   "cell_type": "markdown",
   "metadata": {},
   "source": [
    "### 6.3.2 매수 조건 업데이트"
   ]
  },
  {
   "cell_type": "code",
   "execution_count": null,
   "metadata": {},
   "outputs": [],
   "source": [
    "def get_yesterday_ma5(ticker):\n",
    "    df = pybithumb.get_ohlcv(ticker)\n",
    "    close = df['close']\n",
    "    ma = close.rolling(5).mean()\n",
    "    return ma[-2]\n",
    "\n",
    "now = datetime.datetime.now()\n",
    "mid = datetime.datetime(now.year, now.month, now.day) + datetime.timedelta(1)\n",
    "ma5 = get_yesterday_ma5(\"BTC\")\n",
    "target_price = get_target_price(\"BTC\")\n",
    "\n",
    "while True:\n",
    "    try:\n",
    "        now = datetime.datetime.now()\n",
    "        if mid < now < mid + datetime.delta(seconds=10): \n",
    "            target_price = get_target_price(\"BTC\")\n",
    "            mid = datetime.datetime(now.year, now.month, now.day) + datetime.timedelta(1)\n",
    "            ma5 = get_yesterday_ma5(\"BTC\")\n",
    "            sell_crypto_currency(\"BTC\")\n",
    "    \n",
    "        current_price = pybithumb.get_current_price(\"BTC\")        \n",
    "        if (current_price > target_price) and (current_price > ma5):\n",
    "            buy_crypto_currency(\"BTC\")        \n",
    "    except:\n",
    "        print(\"에러 발생\")        \n",
    "    time.sleep(1)"
   ]
  }
 ],
 "metadata": {
  "kernelspec": {
   "display_name": "Python 3",
   "language": "python",
   "name": "python3"
  },
  "language_info": {
   "codemirror_mode": {
    "name": "ipython",
    "version": 3
   },
   "file_extension": ".py",
   "mimetype": "text/x-python",
   "name": "python",
   "nbconvert_exporter": "python",
   "pygments_lexer": "ipython3",
   "version": "3.8.3"
  }
 },
 "nbformat": 4,
 "nbformat_minor": 4
}
