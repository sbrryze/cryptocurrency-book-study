{
 "cells": [
  {
   "cell_type": "markdown",
   "metadata": {},
   "source": [
    "### 6.2.1 변동성 돌파 전략\n",
    "1) 가격 변동폭 계산: 투자하려는 가상화폐의 전일 고가(high)에서 전일 저가(low)를 빼서 가상화폐의 가격 변동폭을 구한다.  \n",
    "2) 매수 기준: 당일 시간에서 (변동폭 * 0.5) 이상 상승하면 해당 가격에 바로 매수한다  \n",
    "3) 매도 기준: 당일 종가에서 매도한다."
   ]
  },
  {
   "cell_type": "markdown",
   "metadata": {},
   "source": [
    "### 6.2.2 1단계: 주기적으로 현재가 얻어오기"
   ]
  },
  {
   "cell_type": "code",
   "execution_count": 1,
   "metadata": {},
   "outputs": [],
   "source": [
    "import pyupbit\n",
    "import time"
   ]
  },
  {
   "cell_type": "code",
   "execution_count": 2,
   "metadata": {},
   "outputs": [
    {
     "name": "stdout",
     "output_type": "stream",
     "text": [
      "0.054\n",
      "0.054\n",
      "0.054\n",
      "0.054\n",
      "0.054\n",
      "0.054\n",
      "0.054\n",
      "0.054\n",
      "0.054\n",
      "0.054\n",
      "0.054\n"
     ]
    },
    {
     "ename": "KeyboardInterrupt",
     "evalue": "",
     "output_type": "error",
     "traceback": [
      "\u001b[1;31m---------------------------------------------------------------------------\u001b[0m",
      "\u001b[1;31mKeyboardInterrupt\u001b[0m                         Traceback (most recent call last)",
      "\u001b[1;32m<ipython-input-2-153afe5268f7>\u001b[0m in \u001b[0;36m<module>\u001b[1;34m\u001b[0m\n\u001b[0;32m      2\u001b[0m     \u001b[0mprice\u001b[0m \u001b[1;33m=\u001b[0m \u001b[0mpyupbit\u001b[0m\u001b[1;33m.\u001b[0m\u001b[0mget_current_price\u001b[0m\u001b[1;33m(\u001b[0m\u001b[1;34m'BTC-ETH'\u001b[0m\u001b[1;33m)\u001b[0m\u001b[1;33m\u001b[0m\u001b[1;33m\u001b[0m\u001b[0m\n\u001b[0;32m      3\u001b[0m     \u001b[0mprint\u001b[0m\u001b[1;33m(\u001b[0m\u001b[0mprice\u001b[0m\u001b[1;33m)\u001b[0m\u001b[1;33m\u001b[0m\u001b[1;33m\u001b[0m\u001b[0m\n\u001b[1;32m----> 4\u001b[1;33m     \u001b[0mtime\u001b[0m\u001b[1;33m.\u001b[0m\u001b[0msleep\u001b[0m\u001b[1;33m(\u001b[0m\u001b[1;36m0.2\u001b[0m\u001b[1;33m)\u001b[0m\u001b[1;33m\u001b[0m\u001b[1;33m\u001b[0m\u001b[0m\n\u001b[0m",
      "\u001b[1;31mKeyboardInterrupt\u001b[0m: "
     ]
    }
   ],
   "source": [
    "while True:\n",
    "    price = pyupbit.get_current_price('BTC-ETH')\n",
    "    print(price)\n",
    "    time.sleep(0.2)"
   ]
  },
  {
   "cell_type": "markdown",
   "metadata": {},
   "source": [
    "### 6.2.3 2단계: 목표가 계산하기"
   ]
  },
  {
   "cell_type": "code",
   "execution_count": 3,
   "metadata": {},
   "outputs": [
    {
     "name": "stdout",
     "output_type": "stream",
     "text": [
      "                         open      high       low     close     volume  \\\n",
      "2023-11-03 09:00:00  0.051905  0.053141  0.051460  0.052513  17.839899   \n",
      "2023-11-04 09:00:00  0.052443  0.053151  0.052443  0.052745  31.925513   \n",
      "2023-11-05 09:00:00  0.052745  0.054200  0.051950  0.054169  37.295196   \n",
      "2023-11-06 09:00:00  0.053777  0.054572  0.053669  0.054572   7.690913   \n",
      "2023-11-07 09:00:00  0.054411  0.054478  0.054000  0.054000   5.198513   \n",
      "\n",
      "                        value  \n",
      "2023-11-03 09:00:00  0.929879  \n",
      "2023-11-04 09:00:00  1.680360  \n",
      "2023-11-05 09:00:00  1.987149  \n",
      "2023-11-06 09:00:00  0.415187  \n",
      "2023-11-07 09:00:00  0.280954  \n"
     ]
    }
   ],
   "source": [
    "# get_ohlcv(): 시가/고가/저가/종가/거래량 일봉 데이터를 데이터프레임 객체로 반환\n",
    "df = pyupbit.get_ohlcv('BTC-ETH')\n",
    "print(df.tail())"
   ]
  },
  {
   "cell_type": "code",
   "execution_count": 4,
   "metadata": {},
   "outputs": [],
   "source": [
    "yesterday = df.iloc[-2]"
   ]
  },
  {
   "cell_type": "code",
   "execution_count": 6,
   "metadata": {},
   "outputs": [
    {
     "data": {
      "text/plain": [
       "0.05502357000000001"
      ]
     },
     "execution_count": 6,
     "metadata": {},
     "output_type": "execute_result"
    }
   ],
   "source": [
    "today_open = yesterday['close']\n",
    "yesterday_high = yesterday['high']\n",
    "yesterday_low = yesterday['low']\n",
    "target = today_open + (yesterday_high - yesterday_low) * 0.5\n",
    "target"
   ]
  },
  {
   "cell_type": "code",
   "execution_count": 7,
   "metadata": {},
   "outputs": [],
   "source": [
    "def get_target_price(ticker):\n",
    "    df = pyupbit.get_ohlcv(ticker)\n",
    "    yesterday = df.iloc[-2]\n",
    "    \n",
    "    today_open = yesterday['close']\n",
    "    yesterday_high = yesterday['high']\n",
    "    yesterday_low = yesterday['low']\n",
    "    target = today_open + (yesterday_high - yesterday_low) * 0.5\n",
    "    return target"
   ]
  },
  {
   "cell_type": "markdown",
   "metadata": {},
   "source": [
    "### 6.2.4 3단계: 자정에 목표가 갱신하기"
   ]
  },
  {
   "cell_type": "code",
   "execution_count": 8,
   "metadata": {},
   "outputs": [],
   "source": [
    "import datetime"
   ]
  },
  {
   "cell_type": "code",
   "execution_count": 9,
   "metadata": {},
   "outputs": [
    {
     "name": "stdout",
     "output_type": "stream",
     "text": [
      "2018-12-01 00:00:00\n",
      "2018 12 1\n"
     ]
    }
   ],
   "source": [
    "dt = datetime.datetime(2018, 12, 1)\n",
    "print(dt)\n",
    "print(dt.year, dt.month, dt.day)"
   ]
  },
  {
   "cell_type": "code",
   "execution_count": 10,
   "metadata": {},
   "outputs": [
    {
     "name": "stdout",
     "output_type": "stream",
     "text": [
      "2023-11-07 23:12:29.917087\n"
     ]
    }
   ],
   "source": [
    "now = datetime.datetime.now()\n",
    "print(now)"
   ]
  },
  {
   "cell_type": "code",
   "execution_count": 11,
   "metadata": {},
   "outputs": [
    {
     "name": "stdout",
     "output_type": "stream",
     "text": [
      "False\n",
      "True\n"
     ]
    }
   ],
   "source": [
    "print(now == dt)\n",
    "print(now > dt)"
   ]
  },
  {
   "cell_type": "code",
   "execution_count": 12,
   "metadata": {},
   "outputs": [
    {
     "name": "stdout",
     "output_type": "stream",
     "text": [
      "2023-11-08 00:00:00\n"
     ]
    }
   ],
   "source": [
    "mid = datetime.datetime(now.year, now.month, now.day) + datetime.timedelta(1) # timedelta(n): n일의 시간\n",
    "print(mid)"
   ]
  },
  {
   "cell_type": "code",
   "execution_count": 13,
   "metadata": {},
   "outputs": [
    {
     "name": "stdout",
     "output_type": "stream",
     "text": [
      "2023-11-07 23:25:25.785711 vs 2023-11-08 00:00:00\n",
      "2023-11-07 23:25:26.800190 vs 2023-11-08 00:00:00\n",
      "2023-11-07 23:25:27.811531 vs 2023-11-08 00:00:00\n",
      "2023-11-07 23:25:28.826270 vs 2023-11-08 00:00:00\n",
      "2023-11-07 23:25:29.839084 vs 2023-11-08 00:00:00\n",
      "2023-11-07 23:25:30.855266 vs 2023-11-08 00:00:00\n",
      "2023-11-07 23:25:31.867759 vs 2023-11-08 00:00:00\n",
      "2023-11-07 23:25:32.881380 vs 2023-11-08 00:00:00\n",
      "2023-11-07 23:25:33.893100 vs 2023-11-08 00:00:00\n"
     ]
    },
    {
     "ename": "KeyboardInterrupt",
     "evalue": "",
     "output_type": "error",
     "traceback": [
      "\u001b[1;31m---------------------------------------------------------------------------\u001b[0m",
      "\u001b[1;31mKeyboardInterrupt\u001b[0m                         Traceback (most recent call last)",
      "\u001b[1;32m<ipython-input-13-7f29b08ab5c9>\u001b[0m in \u001b[0;36m<module>\u001b[1;34m\u001b[0m\n\u001b[0;32m     13\u001b[0m \u001b[1;33m\u001b[0m\u001b[0m\n\u001b[0;32m     14\u001b[0m     \u001b[0mprint\u001b[0m\u001b[1;33m(\u001b[0m\u001b[0mnow\u001b[0m\u001b[1;33m,\u001b[0m \u001b[1;34m'vs'\u001b[0m\u001b[1;33m,\u001b[0m \u001b[0mmid\u001b[0m\u001b[1;33m)\u001b[0m\u001b[1;33m\u001b[0m\u001b[1;33m\u001b[0m\u001b[0m\n\u001b[1;32m---> 15\u001b[1;33m     \u001b[0mtime\u001b[0m\u001b[1;33m.\u001b[0m\u001b[0msleep\u001b[0m\u001b[1;33m(\u001b[0m\u001b[1;36m1\u001b[0m\u001b[1;33m)\u001b[0m\u001b[1;33m\u001b[0m\u001b[1;33m\u001b[0m\u001b[0m\n\u001b[0m",
      "\u001b[1;31mKeyboardInterrupt\u001b[0m: "
     ]
    }
   ],
   "source": [
    "import time\n",
    "import datetime\n",
    "\n",
    "now = datetime.datetime.now()\n",
    "mid = datetime.datetime(now.year, now.month, now.day) + datetime.timedelta(1)\n",
    "\n",
    "# 프로그램에서 정확하기 1초 단위로 시각을 비교할 수 없음\n",
    "while True:\n",
    "    now = datetime.datetime.now()\n",
    "    if now == mid:\n",
    "        print('정각입니다')\n",
    "        now = datetime.datetime.now()\n",
    "        mid = datetime.datetime(now.year, now.month, now.day) + datetime.timedelta(1)\n",
    "        \n",
    "    print(now, 'vs', mid)\n",
    "    time.sleep(1)"
   ]
  },
  {
   "cell_type": "code",
   "execution_count": null,
   "metadata": {},
   "outputs": [],
   "source": [
    "import time\n",
    "import datetime\n",
    "\n",
    "now = datetime.datetime.now()\n",
    "mid = datetime.datetime(now.year, now.month, now.day) + datetime.timedelta(1)\n",
    "\n",
    "# 프로그램에서 정확하기 1초 단위로 시각을 비교할 수 없음\n",
    "while True:\n",
    "    now = datetime.datetime.now()\n",
    "    if mid < now < mid + datetime.timedelta(seconds=10): # seconds=n: n초를 더함\n",
    "        print('정각입니다')\n",
    "        mid = datetime.datetime(now.year, now.month, now.day) + datetime.timedelta(1)\n",
    "        \n",
    "    time.sleep(1)"
   ]
  },
  {
   "cell_type": "markdown",
   "metadata": {},
   "source": [
    "### 6.2.5 4단계: 매수 시도"
   ]
  },
  {
   "cell_type": "code",
   "execution_count": null,
   "metadata": {},
   "outputs": [],
   "source": [
    "import time\n",
    "import datetime\n",
    "\n",
    "now = datetime.datetime.now()\n",
    "mid = datetime.datetime(now.year, now.month, now.day) + datetime.timedelta(1)\n",
    "\n",
    "# 프로그램에서 정확하기 1초 단위로 시각을 비교할 수 없음\n",
    "while True:\n",
    "    now = datetime.datetime.now()\n",
    "    if mid < now < mid + datetime.timedelta(seconds=10): # seconds=n: n초를 더함\n",
    "        print('정각입니다')\n",
    "        mid = datetime.datetime(now.year, now.month, now.day) + datetime.timedelta(1)\n",
    "        \n",
    "        \n",
    "    current_price = pyupbit.get_current_price('BTC-ETH')\n",
    "    if current_price > target_price: # 현재가가 목표가보다 큰 경우 실행\n",
    "        krw = upbit.get_balance('BTC-ETH')[2] # 잔고 조회 > 보유 중인 원화 얻어옴\n",
    "        orderbook = pyupbit.get_orderbook('BTC-ETH') # 호가창 및 최우선 매도 호가 조회\n",
    "        sell_price = orderbook['asks'][0]['price']\n",
    "        unit = krw / float(sell_price) # 구매 가능 수량 계산\n",
    "        upbit.buy_market_order('BTC-ETH', unit) # 시장가 주문 매수\n",
    "    \n",
    "    time.sleep(1)"
   ]
  },
  {
   "cell_type": "code",
   "execution_count": 14,
   "metadata": {},
   "outputs": [],
   "source": [
    "def buy_crypto_currency(ticker):\n",
    "        krw = upbit.get_balance(ticker)[2] # 잔고 조회 > 보유 중인 원화 얻어옴\n",
    "        orderbook = pyupbit.get_orderbook(ticker) # 호가창 및 최우선 매도 호가 조회\n",
    "        sell_price = orderbook['asks'][0]['price']\n",
    "        unit = krw / float(sell_price) # 구매 가능 수량 계산\n",
    "        upbit.buy_market_order(ticker, unit) # 시장가 주문 매수"
   ]
  },
  {
   "cell_type": "markdown",
   "metadata": {},
   "source": [
    "### 6.2.6 5단계: 매도 시도\n",
    "* 변동성 돌파 전략 5단계: 보유 중인 비트코인을 다음 날 시초가에 전량 매도"
   ]
  },
  {
   "cell_type": "code",
   "execution_count": null,
   "metadata": {},
   "outputs": [],
   "source": [
    "while True:\n",
    "    now = datetime.datetime.now()\n",
    "    if mid < now < mid + datetime.timedelta(seconds=10): # seconds=n: n초를 더함\n",
    "        target_price = get_target_price('BTC-ETH')\n",
    "        now = datetime.datetime.now()\n",
    "        mid = datetime.datetime(now.year, now.month, now.day) + datetime.timedelta(1)\n",
    "        sell_crypto_currency('BTC-ETH')"
   ]
  },
  {
   "cell_type": "code",
   "execution_count": 15,
   "metadata": {},
   "outputs": [],
   "source": [
    "def sell_crypto_currency(ticker):\n",
    "    unit = upbit.get_balance(ticker)[0]\n",
    "    upbit.sell_market_order(ticker, unit)"
   ]
  },
  {
   "cell_type": "code",
   "execution_count": null,
   "metadata": {},
   "outputs": [],
   "source": [
    "while True:\n",
    "    now = datetime.datetime.now()\n",
    "    if mid < now < mid + datetime.timedelta(seconds=10): # seconds=n: n초를 더함\n",
    "        target_price = get_target_price('BTC-ETH')\n",
    "        now = datetime.datetime.now()\n",
    "        mid = datetime.datetime(now.year, now.month, now.day) + datetime.timedelta(1)\n",
    "        sell_crypto_currency('BTC-ETH')\n",
    "        \n",
    "    current_price = pyupbit.get_current_price('BTC-ETH')\n",
    "    if current_price > target_price:\n",
    "        buy_crypto_currency('BTC-ETH')\n",
    "        \n",
    "    time.sleep(1)"
   ]
  },
  {
   "cell_type": "markdown",
   "metadata": {},
   "source": [
    "### 6.2.7 6단계: 보안 및 예외처리"
   ]
  },
  {
   "cell_type": "code",
   "execution_count": 17,
   "metadata": {},
   "outputs": [],
   "source": [
    "with open('upbit.txt') as f:\n",
    "    lines = f.readlines()\n",
    "    key = lines[0].strip()\n",
    "    secret = lines[1].strip()\n",
    "    upbit = pyupbit.Upbit(key, secret)"
   ]
  },
  {
   "cell_type": "code",
   "execution_count": null,
   "metadata": {},
   "outputs": [],
   "source": [
    "while True:\n",
    "    try:\n",
    "        now = datetime.datetime.now()\n",
    "        if mid < now < mid + datetime.timedelta(seconds=10): # seconds=n: n초를 더함\n",
    "            target_price = get_target_price('BTC-ETH')\n",
    "            now = datetime.datetime.now()\n",
    "            mid = datetime.datetime(now.year, now.month, now.day) + datetime.timedelta(1)\n",
    "            sell_crypto_currency('BTC-ETH')\n",
    "\n",
    "        current_price = pyupbit.get_current_price('BTC-ETH')\n",
    "        if current_price > target_price:\n",
    "            buy_crypto_currency('BTC-ETH')\n",
    "        \n",
    "    except:\n",
    "        print('에러 발생')\n",
    "        \n",
    "    time.sleep(1)"
   ]
  }
 ],
 "metadata": {
  "kernelspec": {
   "display_name": "Python 3",
   "language": "python",
   "name": "python3"
  },
  "language_info": {
   "codemirror_mode": {
    "name": "ipython",
    "version": 3
   },
   "file_extension": ".py",
   "mimetype": "text/x-python",
   "name": "python",
   "nbconvert_exporter": "python",
   "pygments_lexer": "ipython3",
   "version": "3.8.3"
  }
 },
 "nbformat": 4,
 "nbformat_minor": 4
}
