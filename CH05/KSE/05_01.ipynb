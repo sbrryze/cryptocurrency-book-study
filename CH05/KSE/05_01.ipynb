{
 "cells": [
  {
   "cell_type": "code",
   "execution_count": 2,
   "metadata": {},
   "outputs": [
    {
     "name": "stdout",
     "output_type": "stream",
     "text": [
      "Collecting pybithumb\n",
      "  Using cached pybithumb-1.0.21-py3-none-any.whl (9.9 kB)\n",
      "Collecting websockets\n",
      "  Downloading websockets-12.0-cp38-cp38-win_amd64.whl (124 kB)\n",
      "     -------------------------------------- 125.0/125.0 kB 3.6 MB/s eta 0:00:00\n",
      "Requirement already satisfied: requests in c:\\users\\kimsu\\anaconda3\\lib\\site-packages (from pybithumb) (2.24.0)\n",
      "Collecting bs4\n",
      "  Using cached bs4-0.0.1.tar.gz (1.1 kB)\n",
      "  Preparing metadata (setup.py): started\n",
      "  Preparing metadata (setup.py): finished with status 'done'\n",
      "Requirement already satisfied: pandas in c:\\users\\kimsu\\anaconda3\\lib\\site-packages (from pybithumb) (1.1.4)\n",
      "Collecting datetime\n",
      "  Using cached DateTime-5.2-py3-none-any.whl (52 kB)\n",
      "Requirement already satisfied: html5lib in c:\\users\\kimsu\\anaconda3\\lib\\site-packages (from pybithumb) (1.1)\n",
      "Requirement already satisfied: beautifulsoup4 in c:\\users\\kimsu\\anaconda3\\lib\\site-packages (from bs4->pybithumb) (4.9.1)\n",
      "Requirement already satisfied: pytz in c:\\users\\kimsu\\anaconda3\\lib\\site-packages (from datetime->pybithumb) (2020.1)\n",
      "Requirement already satisfied: zope.interface in c:\\users\\kimsu\\anaconda3\\lib\\site-packages (from datetime->pybithumb) (4.7.1)\n",
      "Requirement already satisfied: six>=1.9 in c:\\users\\kimsu\\anaconda3\\lib\\site-packages (from html5lib->pybithumb) (1.15.0)\n",
      "Requirement already satisfied: webencodings in c:\\users\\kimsu\\anaconda3\\lib\\site-packages (from html5lib->pybithumb) (0.5.1)\n",
      "Requirement already satisfied: python-dateutil>=2.7.3 in c:\\users\\kimsu\\anaconda3\\lib\\site-packages (from pandas->pybithumb) (2.8.1)\n",
      "Requirement already satisfied: numpy>=1.15.4 in c:\\users\\kimsu\\anaconda3\\lib\\site-packages (from pandas->pybithumb) (1.18.5)\n",
      "Requirement already satisfied: urllib3!=1.25.0,!=1.25.1,<1.26,>=1.21.1 in c:\\users\\kimsu\\anaconda3\\lib\\site-packages (from requests->pybithumb) (1.25.9)\n",
      "Requirement already satisfied: idna<3,>=2.5 in c:\\users\\kimsu\\anaconda3\\lib\\site-packages (from requests->pybithumb) (2.10)\n",
      "Requirement already satisfied: certifi>=2017.4.17 in c:\\users\\kimsu\\anaconda3\\lib\\site-packages (from requests->pybithumb) (2020.6.20)\n",
      "Requirement already satisfied: chardet<4,>=3.0.2 in c:\\users\\kimsu\\anaconda3\\lib\\site-packages (from requests->pybithumb) (3.0.4)\n",
      "Requirement already satisfied: soupsieve>1.2 in c:\\users\\kimsu\\anaconda3\\lib\\site-packages (from beautifulsoup4->bs4->pybithumb) (2.0.1)\n",
      "Requirement already satisfied: setuptools in c:\\users\\kimsu\\anaconda3\\lib\\site-packages (from zope.interface->datetime->pybithumb) (49.2.0.post20200714)\n",
      "Building wheels for collected packages: bs4\n",
      "  Building wheel for bs4 (setup.py): started\n",
      "  Building wheel for bs4 (setup.py): finished with status 'done'\n",
      "  Created wheel for bs4: filename=bs4-0.0.1-py3-none-any.whl size=1279 sha256=39fd86f33e38a1241ca689aba044d6b9af3840eb07d2687c6ea5922be47b3ddb\n",
      "  Stored in directory: c:\\users\\kimsu\\appdata\\local\\pip\\cache\\wheels\\ed\\34\\70\\793aad3a97d75912e528af7c5039a198db5d17027f9b7f9a5b\n",
      "Successfully built bs4\n",
      "Installing collected packages: websockets, datetime, bs4, pybithumb\n",
      "Successfully installed bs4-0.0.1 datetime-5.2 pybithumb-1.0.21 websockets-12.0\n"
     ]
    },
    {
     "name": "stderr",
     "output_type": "stream",
     "text": [
      "\n",
      "[notice] A new release of pip available: 22.3 -> 23.3.1\n",
      "[notice] To update, run: python.exe -m pip install --upgrade pip\n"
     ]
    }
   ],
   "source": [
    "!pip install pybithumb"
   ]
  },
  {
   "cell_type": "markdown",
   "metadata": {},
   "source": [
    "### 5.1.2 가상화폐 티커 목록 얻기\n",
    "\n",
    ">가상화폐의 **ticker**: 가상화폐에 붙은 **고유한 이름**"
   ]
  },
  {
   "cell_type": "code",
   "execution_count": 17,
   "metadata": {},
   "outputs": [],
   "source": [
    "import pybithumb"
   ]
  },
  {
   "cell_type": "code",
   "execution_count": 4,
   "metadata": {
    "scrolled": true
   },
   "outputs": [
    {
     "data": {
      "text/plain": [
       "['BTC',\n",
       " 'ETH',\n",
       " 'ETC',\n",
       " 'XRP',\n",
       " 'BCH',\n",
       " 'QTUM',\n",
       " 'BTG',\n",
       " 'EOS',\n",
       " 'ICX',\n",
       " 'TRX',\n",
       " 'ELF',\n",
       " 'KNC',\n",
       " 'GLM',\n",
       " 'ZIL',\n",
       " 'WAXP',\n",
       " 'POWR',\n",
       " 'LRC',\n",
       " 'STEEM',\n",
       " 'STRAX',\n",
       " 'ZRX',\n",
       " 'SNT',\n",
       " 'ADA',\n",
       " 'CTXC',\n",
       " 'BAT',\n",
       " 'THETA',\n",
       " 'LOOM',\n",
       " 'WAVES',\n",
       " 'LINK',\n",
       " 'ENJ',\n",
       " 'VET',\n",
       " 'MTL',\n",
       " 'IOST',\n",
       " 'AMO',\n",
       " 'BSV',\n",
       " 'ORBS',\n",
       " 'TFUEL',\n",
       " 'VALOR',\n",
       " 'CON',\n",
       " 'ANKR',\n",
       " 'MIX',\n",
       " 'CRO',\n",
       " 'FX',\n",
       " 'CHR',\n",
       " 'MBL',\n",
       " 'MXC',\n",
       " 'FCT2',\n",
       " 'WOM',\n",
       " 'BOA',\n",
       " 'MEV',\n",
       " 'SXP',\n",
       " 'COS',\n",
       " 'EL',\n",
       " 'HIVE',\n",
       " 'XPR',\n",
       " 'VRA',\n",
       " 'FIT',\n",
       " 'EGG',\n",
       " 'BORA',\n",
       " 'ARPA',\n",
       " 'CTC',\n",
       " 'APM',\n",
       " 'CKB',\n",
       " 'AERGO',\n",
       " 'EVZ',\n",
       " 'QTCON',\n",
       " 'UNI',\n",
       " 'YFI',\n",
       " 'UMA',\n",
       " 'AAVE',\n",
       " 'COMP',\n",
       " 'BAL',\n",
       " 'RSR',\n",
       " 'NMR',\n",
       " 'RLC',\n",
       " 'UOS',\n",
       " 'SAND',\n",
       " 'STPT',\n",
       " 'BEL',\n",
       " 'OBSR',\n",
       " 'ORC',\n",
       " 'POLA',\n",
       " 'ADP',\n",
       " 'DVI',\n",
       " 'GHX',\n",
       " 'MVC',\n",
       " 'BLY',\n",
       " 'WOZX',\n",
       " 'ANV',\n",
       " 'GRT',\n",
       " 'BIOT',\n",
       " 'SNX',\n",
       " 'SOFI',\n",
       " 'GRACY',\n",
       " 'OXT',\n",
       " 'MAP',\n",
       " 'AQT',\n",
       " 'PLA',\n",
       " 'WIKEN',\n",
       " 'CTSI',\n",
       " 'MANA',\n",
       " 'LPT',\n",
       " 'MKR',\n",
       " 'SUSHI',\n",
       " 'ASM',\n",
       " 'PUNDIX',\n",
       " 'CELR',\n",
       " 'FRONT',\n",
       " 'RLY',\n",
       " 'OCEAN',\n",
       " 'BFC',\n",
       " 'ALICE',\n",
       " 'OGN',\n",
       " 'COTI',\n",
       " 'CAKE',\n",
       " 'BNT',\n",
       " 'XVS',\n",
       " 'SWAP',\n",
       " 'CHZ',\n",
       " 'AXS',\n",
       " 'DAO',\n",
       " 'SIX',\n",
       " 'DAI',\n",
       " 'SHIB',\n",
       " 'MATIC',\n",
       " 'WOO',\n",
       " 'ACH',\n",
       " 'VELO',\n",
       " 'XLM',\n",
       " 'ONT',\n",
       " 'META',\n",
       " 'KLAY',\n",
       " 'ONG',\n",
       " 'ALGO',\n",
       " 'JST',\n",
       " 'XTZ',\n",
       " 'MLK',\n",
       " 'DOT',\n",
       " 'ATOM',\n",
       " 'SSX',\n",
       " 'TEMCO',\n",
       " 'DOGE',\n",
       " 'KSM',\n",
       " 'CTK',\n",
       " 'BNB',\n",
       " 'NFT',\n",
       " 'SUN',\n",
       " 'XEC',\n",
       " 'AGIX',\n",
       " 'SOL',\n",
       " 'FNSA',\n",
       " 'EGLD',\n",
       " 'MASK',\n",
       " 'DFA',\n",
       " 'C98',\n",
       " 'MED',\n",
       " '1INCH',\n",
       " 'CRV',\n",
       " 'BOBA',\n",
       " 'DYDX',\n",
       " 'FLOW',\n",
       " 'JOE',\n",
       " 'GALA',\n",
       " 'BTT',\n",
       " 'JASMY',\n",
       " 'TITAN',\n",
       " 'REQ',\n",
       " 'CSPR',\n",
       " 'AVAX',\n",
       " 'TDROP',\n",
       " 'HBAR',\n",
       " 'FANC',\n",
       " 'NPT',\n",
       " 'REI',\n",
       " 'T',\n",
       " 'MBX',\n",
       " 'GMT',\n",
       " 'TAVA',\n",
       " 'DAR',\n",
       " 'APE',\n",
       " 'WNCG',\n",
       " 'ALT',\n",
       " 'XCN',\n",
       " 'GXA',\n",
       " 'AZIT',\n",
       " 'FLR',\n",
       " 'SFP',\n",
       " 'FITFI',\n",
       " 'STAT',\n",
       " 'CRTS',\n",
       " 'VIX',\n",
       " 'LBL',\n",
       " 'FLZ',\n",
       " 'LM',\n",
       " 'GRND',\n",
       " 'APT',\n",
       " 'BLUR',\n",
       " 'OAS',\n",
       " 'HOOK',\n",
       " 'ENTC',\n",
       " 'ONIT',\n",
       " 'OP',\n",
       " 'ROA',\n",
       " 'EVER',\n",
       " 'GMX',\n",
       " 'STX',\n",
       " 'XPLA',\n",
       " 'ARB',\n",
       " 'INJ',\n",
       " 'HFT',\n",
       " 'RPL',\n",
       " 'IMX',\n",
       " 'CFX',\n",
       " 'ACS',\n",
       " 'FXS',\n",
       " 'CELO',\n",
       " 'LDO',\n",
       " 'FTM',\n",
       " 'FET',\n",
       " 'SUI',\n",
       " 'NCT',\n",
       " 'FLOKI',\n",
       " 'ALEX',\n",
       " 'ID',\n",
       " 'RNDR',\n",
       " 'STG',\n",
       " 'GAL',\n",
       " 'ILV',\n",
       " 'MAV',\n",
       " 'RSS3',\n",
       " 'AGI',\n",
       " 'RDNT',\n",
       " 'ASTR',\n",
       " 'WLD',\n",
       " 'FLUX',\n",
       " 'LEVER',\n",
       " 'EDU',\n",
       " 'SEI',\n",
       " 'PEPE',\n",
       " 'CYBER',\n",
       " 'ARKM',\n",
       " 'PYR',\n",
       " 'ZTX']"
      ]
     },
     "execution_count": 4,
     "metadata": {},
     "output_type": "execute_result"
    }
   ],
   "source": [
    "tickers = pybithumb.get_tickers()\n",
    "tickers"
   ]
  },
  {
   "cell_type": "code",
   "execution_count": 5,
   "metadata": {},
   "outputs": [
    {
     "data": {
      "text/plain": [
       "242"
      ]
     },
     "execution_count": 5,
     "metadata": {},
     "output_type": "execute_result"
    }
   ],
   "source": [
    "len(tickers)"
   ]
  },
  {
   "cell_type": "markdown",
   "metadata": {},
   "source": [
    "### 5.1.3 현재가 얻기\n",
    "    pybithumb.get_current_price(ticker_name)"
   ]
  },
  {
   "cell_type": "code",
   "execution_count": 6,
   "metadata": {},
   "outputs": [
    {
     "data": {
      "text/plain": [
       "46994000.0"
      ]
     },
     "execution_count": 6,
     "metadata": {},
     "output_type": "execute_result"
    }
   ],
   "source": [
    "price = pybithumb.get_current_price('BTC') \n",
    "price"
   ]
  },
  {
   "cell_type": "code",
   "execution_count": 7,
   "metadata": {},
   "outputs": [
    {
     "name": "stdout",
     "output_type": "stream",
     "text": [
      "46979000.0\n",
      "46979000.0\n",
      "46979000.0\n",
      "46979000.0\n",
      "46979000.0\n",
      "46979000.0\n",
      "46979000.0\n",
      "46979000.0\n"
     ]
    },
    {
     "ename": "KeyboardInterrupt",
     "evalue": "",
     "output_type": "error",
     "traceback": [
      "\u001b[1;31m---------------------------------------------------------------------------\u001b[0m",
      "\u001b[1;31mKeyboardInterrupt\u001b[0m                         Traceback (most recent call last)",
      "\u001b[1;32m<ipython-input-7-536bc60216ac>\u001b[0m in \u001b[0;36m<module>\u001b[1;34m\u001b[0m\n\u001b[0;32m      4\u001b[0m     \u001b[0mprice\u001b[0m \u001b[1;33m=\u001b[0m \u001b[0mpybithumb\u001b[0m\u001b[1;33m.\u001b[0m\u001b[0mget_current_price\u001b[0m\u001b[1;33m(\u001b[0m\u001b[1;34m'BTC'\u001b[0m\u001b[1;33m)\u001b[0m\u001b[1;33m\u001b[0m\u001b[1;33m\u001b[0m\u001b[0m\n\u001b[0;32m      5\u001b[0m     \u001b[0mprint\u001b[0m\u001b[1;33m(\u001b[0m\u001b[0mprice\u001b[0m\u001b[1;33m)\u001b[0m\u001b[1;33m\u001b[0m\u001b[1;33m\u001b[0m\u001b[0m\n\u001b[1;32m----> 6\u001b[1;33m     \u001b[0mtime\u001b[0m\u001b[1;33m.\u001b[0m\u001b[0msleep\u001b[0m\u001b[1;33m(\u001b[0m\u001b[1;36m1\u001b[0m\u001b[1;33m)\u001b[0m\u001b[1;33m\u001b[0m\u001b[1;33m\u001b[0m\u001b[0m\n\u001b[0m",
      "\u001b[1;31mKeyboardInterrupt\u001b[0m: "
     ]
    }
   ],
   "source": [
    "import time\n",
    "\n",
    "while True:\n",
    "    price = pybithumb.get_current_price('BTC')\n",
    "    print(price)\n",
    "    time.sleep(1)"
   ]
  },
  {
   "cell_type": "markdown",
   "metadata": {},
   "source": [
    "    pybithumb.get_tickers()\n",
    "> 가상화폐 티커 목록 불러오는 함수"
   ]
  },
  {
   "cell_type": "code",
   "execution_count": 8,
   "metadata": {},
   "outputs": [
    {
     "name": "stdout",
     "output_type": "stream",
     "text": [
      "BTC 46900000.0\n",
      "ETH 46900000.0\n",
      "ETC 46900000.0\n",
      "XRP 46900000.0\n",
      "BCH 46900000.0\n",
      "QTUM 46900000.0\n",
      "BTG 46900000.0\n",
      "EOS 46901000.0\n",
      "ICX 46900000.0\n",
      "TRX 46901000.0\n",
      "ELF 46900000.0\n",
      "KNC 46900000.0\n",
      "GLM 46900000.0\n",
      "ZIL 46902000.0\n",
      "WAXP 46900000.0\n",
      "POWR 46900000.0\n",
      "LRC 46900000.0\n",
      "STEEM 46902000.0\n",
      "STRAX 46902000.0\n",
      "ZRX 46900000.0\n",
      "SNT 46902000.0\n",
      "ADA 46902000.0\n"
     ]
    },
    {
     "ename": "KeyboardInterrupt",
     "evalue": "",
     "output_type": "error",
     "traceback": [
      "\u001b[1;31m---------------------------------------------------------------------------\u001b[0m",
      "\u001b[1;31mKeyboardInterrupt\u001b[0m                         Traceback (most recent call last)",
      "\u001b[1;32m<ipython-input-8-4a7272969510>\u001b[0m in \u001b[0;36m<module>\u001b[1;34m\u001b[0m\n\u001b[0;32m      2\u001b[0m \u001b[1;33m\u001b[0m\u001b[0m\n\u001b[0;32m      3\u001b[0m \u001b[1;32mfor\u001b[0m \u001b[0mticker\u001b[0m \u001b[1;32min\u001b[0m \u001b[0mtickers\u001b[0m\u001b[1;33m:\u001b[0m\u001b[1;33m\u001b[0m\u001b[1;33m\u001b[0m\u001b[0m\n\u001b[1;32m----> 4\u001b[1;33m     \u001b[0mprice\u001b[0m \u001b[1;33m=\u001b[0m \u001b[0mpybithumb\u001b[0m\u001b[1;33m.\u001b[0m\u001b[0mget_current_price\u001b[0m\u001b[1;33m(\u001b[0m\u001b[1;34m'BTC'\u001b[0m\u001b[1;33m)\u001b[0m\u001b[1;33m\u001b[0m\u001b[1;33m\u001b[0m\u001b[0m\n\u001b[0m\u001b[0;32m      5\u001b[0m     \u001b[0mprint\u001b[0m\u001b[1;33m(\u001b[0m\u001b[0mticker\u001b[0m\u001b[1;33m,\u001b[0m \u001b[0mprice\u001b[0m\u001b[1;33m)\u001b[0m\u001b[1;33m\u001b[0m\u001b[1;33m\u001b[0m\u001b[0m\n\u001b[0;32m      6\u001b[0m     \u001b[0mtime\u001b[0m\u001b[1;33m.\u001b[0m\u001b[0msleep\u001b[0m\u001b[1;33m(\u001b[0m\u001b[1;36m0.1\u001b[0m\u001b[1;33m)\u001b[0m\u001b[1;33m\u001b[0m\u001b[1;33m\u001b[0m\u001b[0m\n",
      "\u001b[1;32m~\\anaconda3\\lib\\site-packages\\pybithumb\\__init__.py\u001b[0m in \u001b[0;36mget_current_price\u001b[1;34m(order_currency, payment_currency)\u001b[0m\n\u001b[0;32m     15\u001b[0m \u001b[1;33m\u001b[0m\u001b[0m\n\u001b[0;32m     16\u001b[0m \u001b[1;32mdef\u001b[0m \u001b[0mget_current_price\u001b[0m\u001b[1;33m(\u001b[0m\u001b[0morder_currency\u001b[0m\u001b[1;33m,\u001b[0m \u001b[0mpayment_currency\u001b[0m\u001b[1;33m=\u001b[0m\u001b[1;34m\"KRW\"\u001b[0m\u001b[1;33m)\u001b[0m\u001b[1;33m:\u001b[0m\u001b[1;33m\u001b[0m\u001b[1;33m\u001b[0m\u001b[0m\n\u001b[1;32m---> 17\u001b[1;33m     \u001b[1;32mreturn\u001b[0m \u001b[0mBithumb\u001b[0m\u001b[1;33m.\u001b[0m\u001b[0mget_current_price\u001b[0m\u001b[1;33m(\u001b[0m\u001b[0morder_currency\u001b[0m\u001b[1;33m,\u001b[0m \u001b[0mpayment_currency\u001b[0m\u001b[1;33m)\u001b[0m\u001b[1;33m\u001b[0m\u001b[1;33m\u001b[0m\u001b[0m\n\u001b[0m\u001b[0;32m     18\u001b[0m \u001b[1;33m\u001b[0m\u001b[0m\n\u001b[0;32m     19\u001b[0m \u001b[1;33m\u001b[0m\u001b[0m\n",
      "\u001b[1;32m~\\anaconda3\\lib\\site-packages\\pybithumb\\client.py\u001b[0m in \u001b[0;36mget_current_price\u001b[1;34m(order_currency, payment_currency)\u001b[0m\n\u001b[0;32m     97\u001b[0m         \u001b[0mresp\u001b[0m \u001b[1;33m=\u001b[0m \u001b[1;32mNone\u001b[0m\u001b[1;33m\u001b[0m\u001b[1;33m\u001b[0m\u001b[0m\n\u001b[0;32m     98\u001b[0m         \u001b[1;32mtry\u001b[0m\u001b[1;33m:\u001b[0m\u001b[1;33m\u001b[0m\u001b[1;33m\u001b[0m\u001b[0m\n\u001b[1;32m---> 99\u001b[1;33m             \u001b[0mresp\u001b[0m \u001b[1;33m=\u001b[0m \u001b[0mPublicApi\u001b[0m\u001b[1;33m.\u001b[0m\u001b[0mticker\u001b[0m\u001b[1;33m(\u001b[0m\u001b[0morder_currency\u001b[0m\u001b[1;33m,\u001b[0m \u001b[0mpayment_currency\u001b[0m\u001b[1;33m)\u001b[0m\u001b[1;33m\u001b[0m\u001b[1;33m\u001b[0m\u001b[0m\n\u001b[0m\u001b[0;32m    100\u001b[0m             \u001b[1;32mif\u001b[0m \u001b[0morder_currency\u001b[0m \u001b[1;33m!=\u001b[0m \u001b[1;34m\"ALL\"\u001b[0m\u001b[1;33m:\u001b[0m\u001b[1;33m\u001b[0m\u001b[1;33m\u001b[0m\u001b[0m\n\u001b[0;32m    101\u001b[0m                 \u001b[1;32mreturn\u001b[0m \u001b[0mfloat\u001b[0m\u001b[1;33m(\u001b[0m\u001b[0mresp\u001b[0m\u001b[1;33m[\u001b[0m\u001b[1;34m'data'\u001b[0m\u001b[1;33m]\u001b[0m\u001b[1;33m[\u001b[0m\u001b[1;34m'closing_price'\u001b[0m\u001b[1;33m]\u001b[0m\u001b[1;33m)\u001b[0m\u001b[1;33m\u001b[0m\u001b[1;33m\u001b[0m\u001b[0m\n",
      "\u001b[1;32m~\\anaconda3\\lib\\site-packages\\pybithumb\\core.py\u001b[0m in \u001b[0;36mticker\u001b[1;34m(order_currency, payment_currency)\u001b[0m\n\u001b[0;32m     13\u001b[0m     \u001b[1;32mdef\u001b[0m \u001b[0mticker\u001b[0m\u001b[1;33m(\u001b[0m\u001b[0morder_currency\u001b[0m\u001b[1;33m,\u001b[0m \u001b[0mpayment_currency\u001b[0m\u001b[1;33m=\u001b[0m\u001b[1;34m\"KRW\"\u001b[0m\u001b[1;33m)\u001b[0m\u001b[1;33m:\u001b[0m\u001b[1;33m\u001b[0m\u001b[1;33m\u001b[0m\u001b[0m\n\u001b[0;32m     14\u001b[0m         \u001b[0muri\u001b[0m \u001b[1;33m=\u001b[0m \u001b[1;34m\"/public/ticker/{}_{}\"\u001b[0m\u001b[1;33m.\u001b[0m\u001b[0mformat\u001b[0m\u001b[1;33m(\u001b[0m\u001b[0morder_currency\u001b[0m\u001b[1;33m,\u001b[0m \u001b[0mpayment_currency\u001b[0m\u001b[1;33m)\u001b[0m\u001b[1;33m\u001b[0m\u001b[1;33m\u001b[0m\u001b[0m\n\u001b[1;32m---> 15\u001b[1;33m         \u001b[1;32mreturn\u001b[0m \u001b[0mBithumbHttp\u001b[0m\u001b[1;33m(\u001b[0m\u001b[1;33m)\u001b[0m\u001b[1;33m.\u001b[0m\u001b[0mget\u001b[0m\u001b[1;33m(\u001b[0m\u001b[0muri\u001b[0m\u001b[1;33m)\u001b[0m\u001b[1;33m\u001b[0m\u001b[1;33m\u001b[0m\u001b[0m\n\u001b[0m\u001b[0;32m     16\u001b[0m \u001b[1;33m\u001b[0m\u001b[0m\n\u001b[0;32m     17\u001b[0m     \u001b[1;33m@\u001b[0m\u001b[0mstaticmethod\u001b[0m\u001b[1;33m\u001b[0m\u001b[1;33m\u001b[0m\u001b[0m\n",
      "\u001b[1;32m~\\anaconda3\\lib\\site-packages\\pybithumb\\core.py\u001b[0m in \u001b[0;36mget\u001b[1;34m(self, path, timeout, **kwargs)\u001b[0m\n\u001b[0;32m    110\u001b[0m         \u001b[1;32mtry\u001b[0m\u001b[1;33m:\u001b[0m\u001b[1;33m\u001b[0m\u001b[1;33m\u001b[0m\u001b[0m\n\u001b[0;32m    111\u001b[0m             \u001b[0muri\u001b[0m \u001b[1;33m=\u001b[0m \u001b[0mself\u001b[0m\u001b[1;33m.\u001b[0m\u001b[0mbase_url\u001b[0m \u001b[1;33m+\u001b[0m \u001b[0mpath\u001b[0m\u001b[1;33m\u001b[0m\u001b[1;33m\u001b[0m\u001b[0m\n\u001b[1;32m--> 112\u001b[1;33m             \u001b[1;32mreturn\u001b[0m \u001b[0mself\u001b[0m\u001b[1;33m.\u001b[0m\u001b[0msession\u001b[0m\u001b[1;33m.\u001b[0m\u001b[0mget\u001b[0m\u001b[1;33m(\u001b[0m\u001b[0murl\u001b[0m\u001b[1;33m=\u001b[0m\u001b[0muri\u001b[0m\u001b[1;33m,\u001b[0m \u001b[0mparams\u001b[0m\u001b[1;33m=\u001b[0m\u001b[0mkwargs\u001b[0m\u001b[1;33m,\u001b[0m \u001b[0mtimeout\u001b[0m\u001b[1;33m=\u001b[0m\u001b[0mtimeout\u001b[0m\u001b[1;33m)\u001b[0m\u001b[1;33m.\u001b[0m\u001b[0;31m\\\u001b[0m\u001b[1;33m\u001b[0m\u001b[1;33m\u001b[0m\u001b[0m\n\u001b[0m\u001b[0;32m    113\u001b[0m                 \u001b[0mjson\u001b[0m\u001b[1;33m(\u001b[0m\u001b[1;33m)\u001b[0m\u001b[1;33m\u001b[0m\u001b[1;33m\u001b[0m\u001b[0m\n\u001b[0;32m    114\u001b[0m         \u001b[1;32mexcept\u001b[0m \u001b[0mException\u001b[0m \u001b[1;32mas\u001b[0m \u001b[0mx\u001b[0m\u001b[1;33m:\u001b[0m\u001b[1;33m\u001b[0m\u001b[1;33m\u001b[0m\u001b[0m\n",
      "\u001b[1;32m~\\anaconda3\\lib\\site-packages\\requests\\sessions.py\u001b[0m in \u001b[0;36mget\u001b[1;34m(self, url, **kwargs)\u001b[0m\n\u001b[0;32m    541\u001b[0m \u001b[1;33m\u001b[0m\u001b[0m\n\u001b[0;32m    542\u001b[0m         \u001b[0mkwargs\u001b[0m\u001b[1;33m.\u001b[0m\u001b[0msetdefault\u001b[0m\u001b[1;33m(\u001b[0m\u001b[1;34m'allow_redirects'\u001b[0m\u001b[1;33m,\u001b[0m \u001b[1;32mTrue\u001b[0m\u001b[1;33m)\u001b[0m\u001b[1;33m\u001b[0m\u001b[1;33m\u001b[0m\u001b[0m\n\u001b[1;32m--> 543\u001b[1;33m         \u001b[1;32mreturn\u001b[0m \u001b[0mself\u001b[0m\u001b[1;33m.\u001b[0m\u001b[0mrequest\u001b[0m\u001b[1;33m(\u001b[0m\u001b[1;34m'GET'\u001b[0m\u001b[1;33m,\u001b[0m \u001b[0murl\u001b[0m\u001b[1;33m,\u001b[0m \u001b[1;33m**\u001b[0m\u001b[0mkwargs\u001b[0m\u001b[1;33m)\u001b[0m\u001b[1;33m\u001b[0m\u001b[1;33m\u001b[0m\u001b[0m\n\u001b[0m\u001b[0;32m    544\u001b[0m \u001b[1;33m\u001b[0m\u001b[0m\n\u001b[0;32m    545\u001b[0m     \u001b[1;32mdef\u001b[0m \u001b[0moptions\u001b[0m\u001b[1;33m(\u001b[0m\u001b[0mself\u001b[0m\u001b[1;33m,\u001b[0m \u001b[0murl\u001b[0m\u001b[1;33m,\u001b[0m \u001b[1;33m**\u001b[0m\u001b[0mkwargs\u001b[0m\u001b[1;33m)\u001b[0m\u001b[1;33m:\u001b[0m\u001b[1;33m\u001b[0m\u001b[1;33m\u001b[0m\u001b[0m\n",
      "\u001b[1;32m~\\anaconda3\\lib\\site-packages\\requests\\sessions.py\u001b[0m in \u001b[0;36mrequest\u001b[1;34m(self, method, url, params, data, headers, cookies, files, auth, timeout, allow_redirects, proxies, hooks, stream, verify, cert, json)\u001b[0m\n\u001b[0;32m    528\u001b[0m         }\n\u001b[0;32m    529\u001b[0m         \u001b[0msend_kwargs\u001b[0m\u001b[1;33m.\u001b[0m\u001b[0mupdate\u001b[0m\u001b[1;33m(\u001b[0m\u001b[0msettings\u001b[0m\u001b[1;33m)\u001b[0m\u001b[1;33m\u001b[0m\u001b[1;33m\u001b[0m\u001b[0m\n\u001b[1;32m--> 530\u001b[1;33m         \u001b[0mresp\u001b[0m \u001b[1;33m=\u001b[0m \u001b[0mself\u001b[0m\u001b[1;33m.\u001b[0m\u001b[0msend\u001b[0m\u001b[1;33m(\u001b[0m\u001b[0mprep\u001b[0m\u001b[1;33m,\u001b[0m \u001b[1;33m**\u001b[0m\u001b[0msend_kwargs\u001b[0m\u001b[1;33m)\u001b[0m\u001b[1;33m\u001b[0m\u001b[1;33m\u001b[0m\u001b[0m\n\u001b[0m\u001b[0;32m    531\u001b[0m \u001b[1;33m\u001b[0m\u001b[0m\n\u001b[0;32m    532\u001b[0m         \u001b[1;32mreturn\u001b[0m \u001b[0mresp\u001b[0m\u001b[1;33m\u001b[0m\u001b[1;33m\u001b[0m\u001b[0m\n",
      "\u001b[1;32m~\\anaconda3\\lib\\site-packages\\requests\\sessions.py\u001b[0m in \u001b[0;36msend\u001b[1;34m(self, request, **kwargs)\u001b[0m\n\u001b[0;32m    641\u001b[0m \u001b[1;33m\u001b[0m\u001b[0m\n\u001b[0;32m    642\u001b[0m         \u001b[1;31m# Send the request\u001b[0m\u001b[1;33m\u001b[0m\u001b[1;33m\u001b[0m\u001b[1;33m\u001b[0m\u001b[0m\n\u001b[1;32m--> 643\u001b[1;33m         \u001b[0mr\u001b[0m \u001b[1;33m=\u001b[0m \u001b[0madapter\u001b[0m\u001b[1;33m.\u001b[0m\u001b[0msend\u001b[0m\u001b[1;33m(\u001b[0m\u001b[0mrequest\u001b[0m\u001b[1;33m,\u001b[0m \u001b[1;33m**\u001b[0m\u001b[0mkwargs\u001b[0m\u001b[1;33m)\u001b[0m\u001b[1;33m\u001b[0m\u001b[1;33m\u001b[0m\u001b[0m\n\u001b[0m\u001b[0;32m    644\u001b[0m \u001b[1;33m\u001b[0m\u001b[0m\n\u001b[0;32m    645\u001b[0m         \u001b[1;31m# Total elapsed time of the request (approximately)\u001b[0m\u001b[1;33m\u001b[0m\u001b[1;33m\u001b[0m\u001b[1;33m\u001b[0m\u001b[0m\n",
      "\u001b[1;32m~\\anaconda3\\lib\\site-packages\\requests\\adapters.py\u001b[0m in \u001b[0;36msend\u001b[1;34m(self, request, stream, timeout, verify, cert, proxies)\u001b[0m\n\u001b[0;32m    437\u001b[0m         \u001b[1;32mtry\u001b[0m\u001b[1;33m:\u001b[0m\u001b[1;33m\u001b[0m\u001b[1;33m\u001b[0m\u001b[0m\n\u001b[0;32m    438\u001b[0m             \u001b[1;32mif\u001b[0m \u001b[1;32mnot\u001b[0m \u001b[0mchunked\u001b[0m\u001b[1;33m:\u001b[0m\u001b[1;33m\u001b[0m\u001b[1;33m\u001b[0m\u001b[0m\n\u001b[1;32m--> 439\u001b[1;33m                 resp = conn.urlopen(\n\u001b[0m\u001b[0;32m    440\u001b[0m                     \u001b[0mmethod\u001b[0m\u001b[1;33m=\u001b[0m\u001b[0mrequest\u001b[0m\u001b[1;33m.\u001b[0m\u001b[0mmethod\u001b[0m\u001b[1;33m,\u001b[0m\u001b[1;33m\u001b[0m\u001b[1;33m\u001b[0m\u001b[0m\n\u001b[0;32m    441\u001b[0m                     \u001b[0murl\u001b[0m\u001b[1;33m=\u001b[0m\u001b[0murl\u001b[0m\u001b[1;33m,\u001b[0m\u001b[1;33m\u001b[0m\u001b[1;33m\u001b[0m\u001b[0m\n",
      "\u001b[1;32m~\\anaconda3\\lib\\site-packages\\urllib3\\connectionpool.py\u001b[0m in \u001b[0;36murlopen\u001b[1;34m(self, method, url, body, headers, retries, redirect, assert_same_host, timeout, pool_timeout, release_conn, chunked, body_pos, **response_kw)\u001b[0m\n\u001b[0;32m    668\u001b[0m \u001b[1;33m\u001b[0m\u001b[0m\n\u001b[0;32m    669\u001b[0m             \u001b[1;31m# Make the request on the httplib connection object.\u001b[0m\u001b[1;33m\u001b[0m\u001b[1;33m\u001b[0m\u001b[1;33m\u001b[0m\u001b[0m\n\u001b[1;32m--> 670\u001b[1;33m             httplib_response = self._make_request(\n\u001b[0m\u001b[0;32m    671\u001b[0m                 \u001b[0mconn\u001b[0m\u001b[1;33m,\u001b[0m\u001b[1;33m\u001b[0m\u001b[1;33m\u001b[0m\u001b[0m\n\u001b[0;32m    672\u001b[0m                 \u001b[0mmethod\u001b[0m\u001b[1;33m,\u001b[0m\u001b[1;33m\u001b[0m\u001b[1;33m\u001b[0m\u001b[0m\n",
      "\u001b[1;32m~\\anaconda3\\lib\\site-packages\\urllib3\\connectionpool.py\u001b[0m in \u001b[0;36m_make_request\u001b[1;34m(self, conn, method, url, timeout, chunked, **httplib_request_kw)\u001b[0m\n\u001b[0;32m    379\u001b[0m         \u001b[1;31m# Trigger any extra validation we need to do.\u001b[0m\u001b[1;33m\u001b[0m\u001b[1;33m\u001b[0m\u001b[1;33m\u001b[0m\u001b[0m\n\u001b[0;32m    380\u001b[0m         \u001b[1;32mtry\u001b[0m\u001b[1;33m:\u001b[0m\u001b[1;33m\u001b[0m\u001b[1;33m\u001b[0m\u001b[0m\n\u001b[1;32m--> 381\u001b[1;33m             \u001b[0mself\u001b[0m\u001b[1;33m.\u001b[0m\u001b[0m_validate_conn\u001b[0m\u001b[1;33m(\u001b[0m\u001b[0mconn\u001b[0m\u001b[1;33m)\u001b[0m\u001b[1;33m\u001b[0m\u001b[1;33m\u001b[0m\u001b[0m\n\u001b[0m\u001b[0;32m    382\u001b[0m         \u001b[1;32mexcept\u001b[0m \u001b[1;33m(\u001b[0m\u001b[0mSocketTimeout\u001b[0m\u001b[1;33m,\u001b[0m \u001b[0mBaseSSLError\u001b[0m\u001b[1;33m)\u001b[0m \u001b[1;32mas\u001b[0m \u001b[0me\u001b[0m\u001b[1;33m:\u001b[0m\u001b[1;33m\u001b[0m\u001b[1;33m\u001b[0m\u001b[0m\n\u001b[0;32m    383\u001b[0m             \u001b[1;31m# Py2 raises this as a BaseSSLError, Py3 raises it as socket timeout.\u001b[0m\u001b[1;33m\u001b[0m\u001b[1;33m\u001b[0m\u001b[1;33m\u001b[0m\u001b[0m\n",
      "\u001b[1;32m~\\anaconda3\\lib\\site-packages\\urllib3\\connectionpool.py\u001b[0m in \u001b[0;36m_validate_conn\u001b[1;34m(self, conn)\u001b[0m\n\u001b[0;32m    974\u001b[0m         \u001b[1;31m# Force connect early to allow us to validate the connection.\u001b[0m\u001b[1;33m\u001b[0m\u001b[1;33m\u001b[0m\u001b[1;33m\u001b[0m\u001b[0m\n\u001b[0;32m    975\u001b[0m         \u001b[1;32mif\u001b[0m \u001b[1;32mnot\u001b[0m \u001b[0mgetattr\u001b[0m\u001b[1;33m(\u001b[0m\u001b[0mconn\u001b[0m\u001b[1;33m,\u001b[0m \u001b[1;34m\"sock\"\u001b[0m\u001b[1;33m,\u001b[0m \u001b[1;32mNone\u001b[0m\u001b[1;33m)\u001b[0m\u001b[1;33m:\u001b[0m  \u001b[1;31m# AppEngine might not have  `.sock`\u001b[0m\u001b[1;33m\u001b[0m\u001b[1;33m\u001b[0m\u001b[0m\n\u001b[1;32m--> 976\u001b[1;33m             \u001b[0mconn\u001b[0m\u001b[1;33m.\u001b[0m\u001b[0mconnect\u001b[0m\u001b[1;33m(\u001b[0m\u001b[1;33m)\u001b[0m\u001b[1;33m\u001b[0m\u001b[1;33m\u001b[0m\u001b[0m\n\u001b[0m\u001b[0;32m    977\u001b[0m \u001b[1;33m\u001b[0m\u001b[0m\n\u001b[0;32m    978\u001b[0m         \u001b[1;32mif\u001b[0m \u001b[1;32mnot\u001b[0m \u001b[0mconn\u001b[0m\u001b[1;33m.\u001b[0m\u001b[0mis_verified\u001b[0m\u001b[1;33m:\u001b[0m\u001b[1;33m\u001b[0m\u001b[1;33m\u001b[0m\u001b[0m\n",
      "\u001b[1;32m~\\anaconda3\\lib\\site-packages\\urllib3\\connection.py\u001b[0m in \u001b[0;36mconnect\u001b[1;34m(self)\u001b[0m\n\u001b[0;32m    359\u001b[0m             \u001b[0mcontext\u001b[0m\u001b[1;33m.\u001b[0m\u001b[0mload_default_certs\u001b[0m\u001b[1;33m(\u001b[0m\u001b[1;33m)\u001b[0m\u001b[1;33m\u001b[0m\u001b[1;33m\u001b[0m\u001b[0m\n\u001b[0;32m    360\u001b[0m \u001b[1;33m\u001b[0m\u001b[0m\n\u001b[1;32m--> 361\u001b[1;33m         self.sock = ssl_wrap_socket(\n\u001b[0m\u001b[0;32m    362\u001b[0m             \u001b[0msock\u001b[0m\u001b[1;33m=\u001b[0m\u001b[0mconn\u001b[0m\u001b[1;33m,\u001b[0m\u001b[1;33m\u001b[0m\u001b[1;33m\u001b[0m\u001b[0m\n\u001b[0;32m    363\u001b[0m             \u001b[0mkeyfile\u001b[0m\u001b[1;33m=\u001b[0m\u001b[0mself\u001b[0m\u001b[1;33m.\u001b[0m\u001b[0mkey_file\u001b[0m\u001b[1;33m,\u001b[0m\u001b[1;33m\u001b[0m\u001b[1;33m\u001b[0m\u001b[0m\n",
      "\u001b[1;32m~\\anaconda3\\lib\\site-packages\\urllib3\\util\\ssl_.py\u001b[0m in \u001b[0;36mssl_wrap_socket\u001b[1;34m(sock, keyfile, certfile, cert_reqs, ca_certs, server_hostname, ssl_version, ciphers, ssl_context, ca_cert_dir, key_password, ca_cert_data)\u001b[0m\n\u001b[0;32m    341\u001b[0m     \u001b[1;32mif\u001b[0m \u001b[0mca_certs\u001b[0m \u001b[1;32mor\u001b[0m \u001b[0mca_cert_dir\u001b[0m \u001b[1;32mor\u001b[0m \u001b[0mca_cert_data\u001b[0m\u001b[1;33m:\u001b[0m\u001b[1;33m\u001b[0m\u001b[1;33m\u001b[0m\u001b[0m\n\u001b[0;32m    342\u001b[0m         \u001b[1;32mtry\u001b[0m\u001b[1;33m:\u001b[0m\u001b[1;33m\u001b[0m\u001b[1;33m\u001b[0m\u001b[0m\n\u001b[1;32m--> 343\u001b[1;33m             \u001b[0mcontext\u001b[0m\u001b[1;33m.\u001b[0m\u001b[0mload_verify_locations\u001b[0m\u001b[1;33m(\u001b[0m\u001b[0mca_certs\u001b[0m\u001b[1;33m,\u001b[0m \u001b[0mca_cert_dir\u001b[0m\u001b[1;33m,\u001b[0m \u001b[0mca_cert_data\u001b[0m\u001b[1;33m)\u001b[0m\u001b[1;33m\u001b[0m\u001b[1;33m\u001b[0m\u001b[0m\n\u001b[0m\u001b[0;32m    344\u001b[0m         \u001b[1;32mexcept\u001b[0m \u001b[0mIOError\u001b[0m \u001b[1;32mas\u001b[0m \u001b[0me\u001b[0m\u001b[1;33m:\u001b[0m  \u001b[1;31m# Platform-specific: Python 2.7\u001b[0m\u001b[1;33m\u001b[0m\u001b[1;33m\u001b[0m\u001b[0m\n\u001b[0;32m    345\u001b[0m             \u001b[1;32mraise\u001b[0m \u001b[0mSSLError\u001b[0m\u001b[1;33m(\u001b[0m\u001b[0me\u001b[0m\u001b[1;33m)\u001b[0m\u001b[1;33m\u001b[0m\u001b[1;33m\u001b[0m\u001b[0m\n",
      "\u001b[1;31mKeyboardInterrupt\u001b[0m: "
     ]
    }
   ],
   "source": [
    "tickers = pybithumb.get_tickers()\n",
    "\n",
    "for ticker in tickers:\n",
    "    price = pybithumb.get_current_price('BTC')\n",
    "    print(ticker, price)\n",
    "    time.sleep(0.1)"
   ]
  },
  {
   "cell_type": "markdown",
   "metadata": {},
   "source": [
    "### 5.1.4 거래소 거래 정보\n",
    "    pybithumb.get_market_detail(ticker_name)\n",
    "> 24시간 동안의 시가, 고가, 저가, 종가(현재가), 거래량을 불러오는 함수  \n",
    "> tuple로 반환"
   ]
  },
  {
   "cell_type": "code",
   "execution_count": 9,
   "metadata": {},
   "outputs": [
    {
     "data": {
      "text/plain": [
       "(46805000.0, 47150000.0, 46437000.0, 46900000.0, 3521.27179952)"
      ]
     },
     "execution_count": 9,
     "metadata": {},
     "output_type": "execute_result"
    }
   ],
   "source": [
    "detail = pybithumb.get_market_detail('BTC')\n",
    "detail"
   ]
  },
  {
   "cell_type": "markdown",
   "metadata": {},
   "source": [
    "### 5.1.5 호가\n",
    "> 매도호가: 가상화폐를 **팔고자** 하는 사람이 제시한 가격과 수량  \n",
    "> 매수호가: 가상화폐를 **사고자** 하는 사람이 제시한 가격과 수량"
   ]
  },
  {
   "cell_type": "markdown",
   "metadata": {},
   "source": [
    "    pybithumb.get_orderbook(ticker_name)\n",
    "> ticker에 대한 호가 정보를 딕셔너리 형태로 반환"
   ]
  },
  {
   "cell_type": "code",
   "execution_count": 10,
   "metadata": {},
   "outputs": [
    {
     "data": {
      "text/plain": [
       "{'timestamp': '1698674384575',\n",
       " 'payment_currency': 'KRW',\n",
       " 'order_currency': 'BTC',\n",
       " 'bids': [{'price': 46900000.0, 'quantity': 0.7397},\n",
       "  {'price': 46896000.0, 'quantity': 0.0583},\n",
       "  {'price': 46895000.0, 'quantity': 0.0919},\n",
       "  {'price': 46893000.0, 'quantity': 0.1449},\n",
       "  {'price': 46892000.0, 'quantity': 0.3048}],\n",
       " 'asks': [{'price': 46908000.0, 'quantity': 0.6608},\n",
       "  {'price': 46909000.0, 'quantity': 0.1154},\n",
       "  {'price': 46910000.0, 'quantity': 0.0029},\n",
       "  {'price': 46912000.0, 'quantity': 0.1372},\n",
       "  {'price': 46914000.0, 'quantity': 0.0836}]}"
      ]
     },
     "execution_count": 10,
     "metadata": {},
     "output_type": "execute_result"
    }
   ],
   "source": [
    "orderbook = pybithumb.get_orderbook('BTC')\n",
    "orderbook"
   ]
  },
  {
   "cell_type": "code",
   "execution_count": 11,
   "metadata": {},
   "outputs": [
    {
     "name": "stdout",
     "output_type": "stream",
     "text": [
      "timestamp\n",
      "payment_currency\n",
      "order_currency\n",
      "bids\n",
      "asks\n"
     ]
    }
   ],
   "source": [
    "for k in orderbook:\n",
    "    print(k)"
   ]
  },
  {
   "cell_type": "code",
   "execution_count": 12,
   "metadata": {},
   "outputs": [
    {
     "data": {
      "text/plain": [
       "'KRW'"
      ]
     },
     "execution_count": 12,
     "metadata": {},
     "output_type": "execute_result"
    }
   ],
   "source": [
    "orderbook['payment_currency'] # 빗썸이 원화 결제만 지원하므로 고정값"
   ]
  },
  {
   "cell_type": "code",
   "execution_count": 13,
   "metadata": {},
   "outputs": [
    {
     "data": {
      "text/plain": [
       "'BTC'"
      ]
     },
     "execution_count": 13,
     "metadata": {},
     "output_type": "execute_result"
    }
   ],
   "source": [
    "orderbook['order_currency'] # 조회한 가상화폐 ticker"
   ]
  },
  {
   "cell_type": "code",
   "execution_count": 14,
   "metadata": {},
   "outputs": [
    {
     "data": {
      "text/plain": [
       "'1698674384575'"
      ]
     },
     "execution_count": 14,
     "metadata": {},
     "output_type": "execute_result"
    }
   ],
   "source": [
    "orderbook['timestamp'] # 호가 조회 시간"
   ]
  },
  {
   "cell_type": "code",
   "execution_count": 16,
   "metadata": {},
   "outputs": [
    {
     "data": {
      "text/plain": [
       "54.11514445922268"
      ]
     },
     "execution_count": 16,
     "metadata": {},
     "output_type": "execute_result"
    }
   ],
   "source": [
    "int(orderbook['timestamp']) / 1000 / 86000 / 365"
   ]
  },
  {
   "cell_type": "code",
   "execution_count": 19,
   "metadata": {},
   "outputs": [
    {
     "name": "stdout",
     "output_type": "stream",
     "text": [
      "2023-11-01 09:37:35.853000\n"
     ]
    }
   ],
   "source": [
    "import datetime\n",
    "\n",
    "orderbook = pybithumb.get_orderbook('BTC')\n",
    "ms = int(orderbook['timestamp'])\n",
    "\n",
    "dt = datetime.datetime.fromtimestamp(ms / 1000)\n",
    "print(dt)"
   ]
  },
  {
   "cell_type": "code",
   "execution_count": 21,
   "metadata": {},
   "outputs": [
    {
     "name": "stdout",
     "output_type": "stream",
     "text": [
      "[{'price': 46955000.0, 'quantity': 0.2006}, {'price': 46952000.0, 'quantity': 0.0379}, {'price': 46951000.0, 'quantity': 0.0118}, {'price': 46950000.0, 'quantity': 0.4558}, {'price': 46949000.0, 'quantity': 0.0457}]\n",
      "[{'price': 46963000.0, 'quantity': 0.0215}, {'price': 46964000.0, 'quantity': 0.7394}, {'price': 46968000.0, 'quantity': 0.0889}, {'price': 46969000.0, 'quantity': 0.0031}, {'price': 46970000.0, 'quantity': 0.0039}]\n"
     ]
    }
   ],
   "source": [
    "orderbook = pybithumb.get_orderbook('BTC')\n",
    "bids = orderbook['bids'] # 매수 호가\n",
    "asks = orderbook['asks'] # 매도 호가\n",
    "print(bids)\n",
    "print(asks)"
   ]
  },
  {
   "cell_type": "code",
   "execution_count": 22,
   "metadata": {},
   "outputs": [
    {
     "name": "stdout",
     "output_type": "stream",
     "text": [
      "{'price': 46955000.0, 'quantity': 0.2006}\n",
      "{'price': 46952000.0, 'quantity': 0.0379}\n",
      "{'price': 46951000.0, 'quantity': 0.0118}\n",
      "{'price': 46950000.0, 'quantity': 0.4558}\n",
      "{'price': 46949000.0, 'quantity': 0.0457}\n"
     ]
    }
   ],
   "source": [
    "for bid in bids:\n",
    "    print(bid)"
   ]
  },
  {
   "cell_type": "code",
   "execution_count": 24,
   "metadata": {},
   "outputs": [
    {
     "name": "stdout",
     "output_type": "stream",
     "text": [
      "매수호가:  46955000.0 매수잔량:  0.2006\n",
      "매수호가:  46952000.0 매수잔량:  0.0379\n",
      "매수호가:  46951000.0 매수잔량:  0.0118\n",
      "매수호가:  46950000.0 매수잔량:  0.4558\n",
      "매수호가:  46949000.0 매수잔량:  0.0457\n"
     ]
    }
   ],
   "source": [
    "for bid in bids:\n",
    "    price = bid['price']\n",
    "    quant = bid['quantity']\n",
    "    print('매수호가: ', price, '매수잔량: ', quant)"
   ]
  },
  {
   "cell_type": "code",
   "execution_count": 25,
   "metadata": {},
   "outputs": [
    {
     "name": "stdout",
     "output_type": "stream",
     "text": [
      "{'price': 46963000.0, 'quantity': 0.0215}\n",
      "{'price': 46964000.0, 'quantity': 0.7394}\n",
      "{'price': 46968000.0, 'quantity': 0.0889}\n",
      "{'price': 46969000.0, 'quantity': 0.0031}\n",
      "{'price': 46970000.0, 'quantity': 0.0039}\n"
     ]
    }
   ],
   "source": [
    "for ask in asks:\n",
    "    print(ask)"
   ]
  },
  {
   "cell_type": "markdown",
   "metadata": {},
   "source": [
    "### 5.1.6 여러 가상화폐에 대한 정보 한번에 얻기\n",
    "    pybithumb.get_currnet_price('ALL')\n",
    "> API 호출 횟수 제한을 방지하기 위해 한번에 모든 정보를 불러오는 함수\n",
    "  \n",
    "* opening_pirce: 시가 00시 기준\n",
    "* closing_pirce: 종가 00시 기준\n",
    "* min_price: 저가 00시 기준\n",
    "* max_price: 고가 00시 기준\n",
    "* acc_trade_value: 거래금액 00시 기준\n",
    "* units_traded: 거래량 00시 기준\n",
    "* prev_closing_price: 전일 종가\n",
    "* units_traded_24H: 최근 24시간 거래량\n",
    "* acc_trade_value_24H: 최근 24시간 거래 금액\n",
    "* fluctate_24H: 최근 24시간 변동가\n",
    "* fluctate_rate_24H: 최근 24시간 변동률"
   ]
  },
  {
   "cell_type": "code",
   "execution_count": 28,
   "metadata": {},
   "outputs": [
    {
     "name": "stdout",
     "output_type": "stream",
     "text": [
      "BTC {'opening_price': '46506000', 'closing_price': '46925000', 'min_price': '46390000', 'max_price': '47050000', 'units_traded': '1950.29354235', 'acc_trade_value': '91143385845.9469', 'prev_closing_price': '46503000', 'units_traded_24H': '3983.88597329', 'acc_trade_value_24H': '185919092115.6839', 'fluctate_24H': '93000', 'fluctate_rate_24H': '0.2'}\n",
      "ETH {'opening_price': '2439000', 'closing_price': '2478000', 'min_price': '2422000', 'max_price': '2484000', 'units_traded': '3446.97823819', 'acc_trade_value': '8436950263.1999', 'prev_closing_price': '2439000', 'units_traded_24H': '10816.37631994', 'acc_trade_value_24H': '26450497181.5335', 'fluctate_24H': '18000', 'fluctate_rate_24H': '0.73'}\n",
      "ETC {'opening_price': '23580', 'closing_price': '24250', 'min_price': '22910', 'max_price': '24350', 'units_traded': '324083.88703021', 'acc_trade_value': '7648398926.1125', 'prev_closing_price': '23560', 'units_traded_24H': '1270539.30142362', 'acc_trade_value_24H': '29896836850.8681', 'fluctate_24H': '1380', 'fluctate_rate_24H': '6.03'}\n",
      "XRP {'opening_price': '805.8', 'closing_price': '810.6', 'min_price': '795', 'max_price': '819.5', 'units_traded': '60899957.76566267', 'acc_trade_value': '49298709768.114', 'prev_closing_price': '805.7', 'units_traded_24H': '220234023.0892117', 'acc_trade_value_24H': '177629993724.6803', 'fluctate_24H': '25.6', 'fluctate_rate_24H': '3.26'}\n",
      "BCH {'opening_price': '328600', 'closing_price': '332400', 'min_price': '321400', 'max_price': '334000', 'units_traded': '7591.93329975', 'acc_trade_value': '2505174215.1938', 'prev_closing_price': '328300', 'units_traded_24H': '21569.18096984', 'acc_trade_value_24H': '7156531015.5754', 'fluctate_24H': '-4200', 'fluctate_rate_24H': '-1.25'}\n",
      "QTUM {'opening_price': '4013', 'closing_price': '4232', 'min_price': '3865', 'max_price': '4294', 'units_traded': '189328.43632951', 'acc_trade_value': '784452213.7838', 'prev_closing_price': '4011', 'units_traded_24H': '388251.21436108', 'acc_trade_value_24H': '1584985727.9891', 'fluctate_24H': '128', 'fluctate_rate_24H': '3.12'}\n",
      "BTG {'opening_price': '20290', 'closing_price': '20530', 'min_price': '20100', 'max_price': '20750', 'units_traded': '46366.12487252', 'acc_trade_value': '947554912.3671', 'prev_closing_price': '20290', 'units_traded_24H': '146637.43003682', 'acc_trade_value_24H': '3015179130.482', 'fluctate_24H': '170', 'fluctate_rate_24H': '0.83'}\n",
      "EOS {'opening_price': '847.1', 'closing_price': '865.2', 'min_price': '826.2', 'max_price': '867.1', 'units_traded': '1351495.26051832', 'acc_trade_value': '1152228613.567', 'prev_closing_price': '847.1', 'units_traded_24H': '6029829.65623689', 'acc_trade_value_24H': '5170645744.3826', 'fluctate_24H': '1.2', 'fluctate_rate_24H': '0.14'}\n",
      "ICX {'opening_price': '293.5', 'closing_price': '299', 'min_price': '285.2', 'max_price': '303.8', 'units_traded': '820844.28536829', 'acc_trade_value': '240501387.6834', 'prev_closing_price': '293', 'units_traded_24H': '5729019.55369834', 'acc_trade_value_24H': '1777847505.0259', 'fluctate_24H': '-5', 'fluctate_rate_24H': '-1.64'}\n",
      "TRX {'opening_price': '130.5', 'closing_price': '132.4', 'min_price': '129.9', 'max_price': '132.6', 'units_traded': '16410560.95225033', 'acc_trade_value': '2148592580.3015', 'prev_closing_price': '130.6', 'units_traded_24H': '51588836.95136376', 'acc_trade_value_24H': '6741334328.5038', 'fluctate_24H': '2.6', 'fluctate_rate_24H': '2.00'}\n",
      "ELF {'opening_price': '486', 'closing_price': '488.3', 'min_price': '481', 'max_price': '491.8', 'units_traded': '142279.04251696', 'acc_trade_value': '69565510.5849', 'prev_closing_price': '485.9', 'units_traded_24H': '306856.22387085', 'acc_trade_value_24H': '150748244.7195', 'fluctate_24H': '-8.6', 'fluctate_rate_24H': '-1.73'}\n",
      "KNC {'opening_price': '997.3', 'closing_price': '1023', 'min_price': '963', 'max_price': '1023', 'units_traded': '184291.58037627', 'acc_trade_value': '183726389.9961', 'prev_closing_price': '997.2', 'units_traded_24H': '893763.17611889', 'acc_trade_value_24H': '918396690.1169', 'fluctate_24H': '-28', 'fluctate_rate_24H': '-2.66'}\n",
      "GLM {'opening_price': '290.3', 'closing_price': '297.2', 'min_price': '285.1', 'max_price': '298', 'units_traded': '215950.81444401', 'acc_trade_value': '63072433.3401', 'prev_closing_price': '290.3', 'units_traded_24H': '1050252.21370436', 'acc_trade_value_24H': '311421030.4646', 'fluctate_24H': '-7.2', 'fluctate_rate_24H': '-2.37'}\n",
      "ZIL {'opening_price': '25.01', 'closing_price': '26.67', 'min_price': '24.43', 'max_price': '26.76', 'units_traded': '21755706.90892955', 'acc_trade_value': '559043514.8628', 'prev_closing_price': '25.04', 'units_traded_24H': '38663727.81647268', 'acc_trade_value_24H': '994727385.4957', 'fluctate_24H': '0.29', 'fluctate_rate_24H': '1.1'}\n",
      "WAXP {'opening_price': '80.19', 'closing_price': '83.9', 'min_price': '77.3', 'max_price': '85.26', 'units_traded': '9348482.38051025', 'acc_trade_value': '763927924.4645', 'prev_closing_price': '80', 'units_traded_24H': '54512330.7918475', 'acc_trade_value_24H': '4726038392.3573', 'fluctate_24H': '0.28', 'fluctate_rate_24H': '0.33'}\n",
      "POWR {'opening_price': '319', 'closing_price': '318.4', 'min_price': '305', 'max_price': '322.2', 'units_traded': '1899229.85026536', 'acc_trade_value': '596614505.7393', 'prev_closing_price': '319', 'units_traded_24H': '5781735.45857324', 'acc_trade_value_24H': '1894045488.7366', 'fluctate_24H': '-24.7', 'fluctate_rate_24H': '-7.2'}\n",
      "LRC {'opening_price': '270.2', 'closing_price': '269.6', 'min_price': '263.2', 'max_price': '270.2', 'units_traded': '109609.66483179', 'acc_trade_value': '29082866.2376', 'prev_closing_price': '272.2', 'units_traded_24H': '482401.3888439', 'acc_trade_value_24H': '130396005.0635', 'fluctate_24H': '-1.2', 'fluctate_rate_24H': '-0.44'}\n",
      "STEEM {'opening_price': '288.4', 'closing_price': '299.9', 'min_price': '280.2', 'max_price': '301.6', 'units_traded': '1892249.70176035', 'acc_trade_value': '551278384.7063', 'prev_closing_price': '288.8', 'units_traded_24H': '8190984.81364302', 'acc_trade_value_24H': '2458075461.8201', 'fluctate_24H': '1.6', 'fluctate_rate_24H': '0.54'}\n",
      "STRAX {'opening_price': '1303', 'closing_price': '1311', 'min_price': '1201', 'max_price': '1369', 'units_traded': '5329116.80630271', 'acc_trade_value': '6803147444.5208', 'prev_closing_price': '1305', 'units_traded_24H': '17812076.39907107', 'acc_trade_value_24H': '23856986537.4918', 'fluctate_24H': '106', 'fluctate_rate_24H': '8.8'}\n",
      "ZRX {'opening_price': '371.6', 'closing_price': '378.7', 'min_price': '364.3', 'max_price': '394.1', 'units_traded': '1388942.20336223', 'acc_trade_value': '525862242.9635', 'prev_closing_price': '373', 'units_traded_24H': '12465650.43091626', 'acc_trade_value_24H': '5087076724.1485', 'fluctate_24H': '-12.4', 'fluctate_rate_24H': '-3.17'}\n",
      "SNT {'opening_price': '38.54', 'closing_price': '69.78', 'min_price': '37.93', 'max_price': '79', 'units_traded': '259039268.7396514', 'acc_trade_value': '16751405666.3725', 'prev_closing_price': '38.41', 'units_traded_24H': '264707763.01842342', 'acc_trade_value_24H': '16973970132.5861', 'fluctate_24H': '30.07', 'fluctate_rate_24H': '75.69'}\n",
      "ADA {'opening_price': '396.2', 'closing_price': '398.8', 'min_price': '387.4', 'max_price': '399.7', 'units_traded': '5976282.2015006', 'acc_trade_value': '2361644431.4399', 'prev_closing_price': '396', 'units_traded_24H': '13408044.11574714', 'acc_trade_value_24H': '5372574787.3199', 'fluctate_24H': '-13.3', 'fluctate_rate_24H': '-3.23'}\n",
      "CTXC {'opening_price': '180.5', 'closing_price': '185.4', 'min_price': '177', 'max_price': '185.9', 'units_traded': '554936.77122961', 'acc_trade_value': '100628965.9783', 'prev_closing_price': '180.5', 'units_traded_24H': '1392328.591171', 'acc_trade_value_24H': '255954911.8674', 'fluctate_24H': '-4.6', 'fluctate_rate_24H': '-2.42'}\n",
      "BAT {'opening_price': '274.7', 'closing_price': '285', 'min_price': '267.8', 'max_price': '285', 'units_traded': '318758.8479475', 'acc_trade_value': '88043045.8139', 'prev_closing_price': '274.6', 'units_traded_24H': '1684073.07295021', 'acc_trade_value_24H': '473165075.6759', 'fluctate_24H': '-3', 'fluctate_rate_24H': '-1.04'}\n",
      "THETA {'opening_price': '919.8', 'closing_price': '1038', 'min_price': '907', 'max_price': '1158', 'units_traded': '1313658.46147827', 'acc_trade_value': '1361477165.6317', 'prev_closing_price': '923.7', 'units_traded_24H': '1396784.22345955', 'acc_trade_value_24H': '1439623802.3692', 'fluctate_24H': '93.3', 'fluctate_rate_24H': '9.88'}\n",
      "LOOM {'opening_price': '160.3', 'closing_price': '161.5', 'min_price': '153.4', 'max_price': '163.1', 'units_traded': '9192695.67160953', 'acc_trade_value': '1454010008.6951', 'prev_closing_price': '160.5', 'units_traded_24H': '30018372.98479285', 'acc_trade_value_24H': '4947913214.0207', 'fluctate_24H': '-12.8', 'fluctate_rate_24H': '-7.34'}\n",
      "WAVES {'opening_price': '2373', 'closing_price': '2408', 'min_price': '2308', 'max_price': '2414', 'units_traded': '230179.659777', 'acc_trade_value': '544037518.6892', 'prev_closing_price': '2372', 'units_traded_24H': '693539.75831901', 'acc_trade_value_24H': '1668409746.5636', 'fluctate_24H': '-53', 'fluctate_rate_24H': '-2.15'}\n",
      "LINK {'opening_price': '15240', 'closing_price': '15440', 'min_price': '14900', 'max_price': '15570', 'units_traded': '324251.09404974', 'acc_trade_value': '4942495000.9319', 'prev_closing_price': '15240', 'units_traded_24H': '1357057.10016574', 'acc_trade_value_24H': '21045441958.2769', 'fluctate_24H': '-80', 'fluctate_rate_24H': '-0.52'}\n",
      "ENJ {'opening_price': '336.3', 'closing_price': '334.1', 'min_price': '325.2', 'max_price': '339.5', 'units_traded': '631382.15194639', 'acc_trade_value': '211473230.0639', 'prev_closing_price': '336.6', 'units_traded_24H': '3549763.73823916', 'acc_trade_value_24H': '1245314456.6401', 'fluctate_24H': '-28.4', 'fluctate_rate_24H': '-7.83'}\n",
      "VET {'opening_price': '25.21', 'closing_price': '25.77', 'min_price': '24.78', 'max_price': '25.77', 'units_traded': '3110687.0193433', 'acc_trade_value': '78522989.5858', 'prev_closing_price': '25.21', 'units_traded_24H': '15662920.74432157', 'acc_trade_value_24H': '401334237.2207', 'fluctate_24H': '-0.29', 'fluctate_rate_24H': '-1.11'}\n",
      "MTL {'opening_price': '2041', 'closing_price': '2135', 'min_price': '1972', 'max_price': '2200', 'units_traded': '2674194.51628897', 'acc_trade_value': '5585926024.7686', 'prev_closing_price': '2048', 'units_traded_24H': '4666770.66326053', 'acc_trade_value_24H': '9537361418.1214', 'fluctate_24H': '201', 'fluctate_rate_24H': '10.39'}\n",
      "IOST {'opening_price': '10.71', 'closing_price': '11.23', 'min_price': '10.48', 'max_price': '11.29', 'units_traded': '14707989.79125763', 'acc_trade_value': '160189855.2239', 'prev_closing_price': '10.74', 'units_traded_24H': '24829326.51873953', 'acc_trade_value_24H': '271736433.7784', 'fluctate_24H': '-0.09', 'fluctate_rate_24H': '-0.8'}\n",
      "AMO {'opening_price': '0.6595', 'closing_price': '0.6688', 'min_price': '0.65', 'max_price': '0.67', 'units_traded': '374324528.6154952', 'acc_trade_value': '246363697.1137', 'prev_closing_price': '0.6593', 'units_traded_24H': '941151102.04731884', 'acc_trade_value_24H': '621475081.5455', 'fluctate_24H': '-0.0014', 'fluctate_rate_24H': '-0.21'}\n",
      "BSV {'opening_price': '65700', 'closing_price': '66150', 'min_price': '64150', 'max_price': '67050', 'units_traded': '26682.32966173', 'acc_trade_value': '1744184961.2901', 'prev_closing_price': '65700', 'units_traded_24H': '66511.42723295', 'acc_trade_value_24H': '4413124874.6521', 'fluctate_24H': '-2100', 'fluctate_rate_24H': '-3.08'}\n",
      "ORBS {'opening_price': '59.15', 'closing_price': '59.66', 'min_price': '56.79', 'max_price': '61.16', 'units_traded': '35788028.36134274', 'acc_trade_value': '2124378034.7887', 'prev_closing_price': '59.13', 'units_traded_24H': '183730592.06841799', 'acc_trade_value_24H': '11588497323.3592', 'fluctate_24H': '-6.75', 'fluctate_rate_24H': '-10.16'}\n",
      "TFUEL {'opening_price': '50.64', 'closing_price': '54.31', 'min_price': '49.82', 'max_price': '58.49', 'units_traded': '9471562.87974013', 'acc_trade_value': '514304460.2597', 'prev_closing_price': '50.45', 'units_traded_24H': '12089600.74281269', 'acc_trade_value_24H': '649625642.1918', 'fluctate_24H': '1.87', 'fluctate_rate_24H': '3.57'}\n",
      "VALOR {'opening_price': '172.5', 'closing_price': '172', 'min_price': '169', 'max_price': '173.1', 'units_traded': '223721.93845073', 'acc_trade_value': '38237518.7144', 'prev_closing_price': '171.4', 'units_traded_24H': '567146.05552033', 'acc_trade_value_24H': '97393878.513', 'fluctate_24H': '-0.1', 'fluctate_rate_24H': '-0.06'}\n",
      "CON {'opening_price': '8.69', 'closing_price': '7.596', 'min_price': '7.375', 'max_price': '8.699', 'units_traded': '50980659.73360294', 'acc_trade_value': '406605794.2342', 'prev_closing_price': '8.699', 'units_traded_24H': '122134614.97488069', 'acc_trade_value_24H': '1016491031.6866', 'fluctate_24H': '-1.201', 'fluctate_rate_24H': '-13.65'}\n",
      "ANKR {'opening_price': '29.99', 'closing_price': '31.44', 'min_price': '29.31', 'max_price': '31.49', 'units_traded': '6649656.88344676', 'acc_trade_value': '204135850.3493', 'prev_closing_price': '30', 'units_traded_24H': '18001070.63350717', 'acc_trade_value_24H': '551778623.464', 'fluctate_24H': '-0.01', 'fluctate_rate_24H': '-0.03'}\n",
      "MIX {'opening_price': '1.719', 'closing_price': '1.669', 'min_price': '1.64', 'max_price': '1.926', 'units_traded': '445181939.59684179', 'acc_trade_value': '799645893.8054', 'prev_closing_price': '1.725', 'units_traded_24H': '529898057.09686844', 'acc_trade_value_24H': '939835084.4659', 'fluctate_24H': '0.055', 'fluctate_rate_24H': '3.41'}\n",
      "CRO {'opening_price': '81.93', 'closing_price': '82.92', 'min_price': '81.25', 'max_price': '85.5', 'units_traded': '139929.38053791', 'acc_trade_value': '11644665.0274', 'prev_closing_price': '82', 'units_traded_24H': '815992.83584901', 'acc_trade_value_24H': '67562239.2941', 'fluctate_24H': '0.34', 'fluctate_rate_24H': '0.41'}\n",
      "FX {'opening_price': '176.6', 'closing_price': '172.9', 'min_price': '170.8', 'max_price': '180.3', 'units_traded': '1120515.98696473', 'acc_trade_value': '194147853.7371', 'prev_closing_price': '176.7', 'units_traded_24H': '7257966.03353104', 'acc_trade_value_24H': '1325940403.7033', 'fluctate_24H': '-0.3', 'fluctate_rate_24H': '-0.17'}\n",
      "CHR {'opening_price': '150.7', 'closing_price': '157.9', 'min_price': '146.2', 'max_price': '157.9', 'units_traded': '439936.7909', 'acc_trade_value': '67612982.851', 'prev_closing_price': '151.6', 'units_traded_24H': '2125021.81773579', 'acc_trade_value_24H': '330627494.6043', 'fluctate_24H': '-2.7', 'fluctate_rate_24H': '-1.68'}\n",
      "MBL {'opening_price': '4.615', 'closing_price': '4.97', 'min_price': '4.579', 'max_price': '5.068', 'units_traded': '54680448.59582253', 'acc_trade_value': '263431481.5376', 'prev_closing_price': '4.64', 'units_traded_24H': '114718700.44592121', 'acc_trade_value_24H': '547042162.6232', 'fluctate_24H': '0.128', 'fluctate_rate_24H': '2.64'}\n",
      "MXC {'opening_price': '9.186', 'closing_price': '8.845', 'min_price': '8.6', 'max_price': '9.272', 'units_traded': '21467252.36300807', 'acc_trade_value': '190784225.5404', 'prev_closing_price': '9.008', 'units_traded_24H': '50181124.6799413', 'acc_trade_value_24H': '449440047.4998', 'fluctate_24H': '0.077', 'fluctate_rate_24H': '0.88'}\n",
      "FCT2 {'opening_price': '82.01', 'closing_price': '85.47', 'min_price': '81.74', 'max_price': '89.23', 'units_traded': '2598733.80777168', 'acc_trade_value': '222044880.144', 'prev_closing_price': '82.28', 'units_traded_24H': '5638854.95724087', 'acc_trade_value_24H': '476548197.6096', 'fluctate_24H': '-0.72', 'fluctate_rate_24H': '-0.84'}\n",
      "WOM {'opening_price': '21.21', 'closing_price': '21', 'min_price': '20.58', 'max_price': '21.3', 'units_traded': '1670940.1149', 'acc_trade_value': '34983890.9845', 'prev_closing_price': '21.1', 'units_traded_24H': '3759452.72926521', 'acc_trade_value_24H': '79179660.2528', 'fluctate_24H': '-0.15', 'fluctate_rate_24H': '-0.71'}\n",
      "BOA {'opening_price': '12.79', 'closing_price': '12.77', 'min_price': '12.47', 'max_price': '12.86', 'units_traded': '4219562.5518244', 'acc_trade_value': '53721897.52', 'prev_closing_price': '12.78', 'units_traded_24H': '9361784.9554713', 'acc_trade_value_24H': '119075206.9649', 'fluctate_24H': '-0.11', 'fluctate_rate_24H': '-0.85'}\n",
      "MEV {'opening_price': '6.197', 'closing_price': '6.145', 'min_price': '6.052', 'max_price': '6.488', 'units_traded': '8272002.94705397', 'acc_trade_value': '51718175.9658', 'prev_closing_price': '6.197', 'units_traded_24H': '19526499.16561434', 'acc_trade_value_24H': '120077464.3084', 'fluctate_24H': '0.117', 'fluctate_rate_24H': '1.94'}\n",
      "SXP {'opening_price': '407.4', 'closing_price': '419.5', 'min_price': '397.2', 'max_price': '421.2', 'units_traded': '409992.62655629', 'acc_trade_value': '168339277.768', 'prev_closing_price': '410', 'units_traded_24H': '1140182.32259948', 'acc_trade_value_24H': '473761478.0725', 'fluctate_24H': '-8', 'fluctate_rate_24H': '-1.87'}\n",
      "COS {'opening_price': '6.559', 'closing_price': '6.591', 'min_price': '6.432', 'max_price': '6.642', 'units_traded': '7886616.09862225', 'acc_trade_value': '51554482.949', 'prev_closing_price': '6.573', 'units_traded_24H': '25704517.75764788', 'acc_trade_value_24H': '171003734.0396', 'fluctate_24H': '0.012', 'fluctate_rate_24H': '0.18'}\n",
      "EL {'opening_price': '2.859', 'closing_price': '2.682', 'min_price': '2.65', 'max_price': '2.859', 'units_traded': '100434599.54202471', 'acc_trade_value': '271258628.4328', 'prev_closing_price': '2.859', 'units_traded_24H': '493007113.9506739', 'acc_trade_value_24H': '1390845538.1954', 'fluctate_24H': '-0.148', 'fluctate_rate_24H': '-5.23'}\n",
      "HIVE {'opening_price': '447.4', 'closing_price': '457.4', 'min_price': '442.6', 'max_price': '459.8', 'units_traded': '170825.47726062', 'acc_trade_value': '77456649.452', 'prev_closing_price': '448.3', 'units_traded_24H': '716441.13009391', 'acc_trade_value_24H': '326636824.3503', 'fluctate_24H': '-8.6', 'fluctate_rate_24H': '-1.85'}\n",
      "XPR {'opening_price': '0.8923', 'closing_price': '0.8969', 'min_price': '0.8768', 'max_price': '0.8995', 'units_traded': '25812248.25474999', 'acc_trade_value': '22924379.4541', 'prev_closing_price': '0.8974', 'units_traded_24H': '70067687.69842635', 'acc_trade_value_24H': '62133447.2408', 'fluctate_24H': '0.0168', 'fluctate_rate_24H': '1.91'}\n",
      "VRA {'opening_price': '8.592', 'closing_price': '8.347', 'min_price': '8.331', 'max_price': '8.647', 'units_traded': '5627169.70290768', 'acc_trade_value': '47659005.6223', 'prev_closing_price': '8.647', 'units_traded_24H': '35659873.03146313', 'acc_trade_value_24H': '308989160.5928', 'fluctate_24H': '-0.187', 'fluctate_rate_24H': '-2.19'}\n",
      "FIT {'opening_price': '0.5343', 'closing_price': '0.5329', 'min_price': '0.5282', 'max_price': '0.5348', 'units_traded': '27559768.79410388', 'acc_trade_value': '14614501.3646', 'prev_closing_price': '0.5301', 'units_traded_24H': '56419831.99763783', 'acc_trade_value_24H': '29926744.9773', 'fluctate_24H': '0.0029', 'fluctate_rate_24H': '0.55'}\n",
      "EGG {'opening_price': '4.48', 'closing_price': '4.358', 'min_price': '4.314', 'max_price': '4.48', 'units_traded': '5267775.65090172', 'acc_trade_value': '22947122.4943', 'prev_closing_price': '4.48', 'units_traded_24H': '18270048.64976611', 'acc_trade_value_24H': '79914767.3194', 'fluctate_24H': '-0.173', 'fluctate_rate_24H': '-3.82'}\n",
      "BORA {'opening_price': '170.4', 'closing_price': '174', 'min_price': '167.6', 'max_price': '174', 'units_traded': '392123.00236302', 'acc_trade_value': '67102734.6579', 'prev_closing_price': '169.9', 'units_traded_24H': '1337023.75426934', 'acc_trade_value_24H': '230905071.7871', 'fluctate_24H': '-3.8', 'fluctate_rate_24H': '-2.14'}\n",
      "ARPA {'opening_price': '64.07', 'closing_price': '64.88', 'min_price': '61.95', 'max_price': '64.88', 'units_traded': '1490188.7506', 'acc_trade_value': '94411228.0273', 'prev_closing_price': '64.19', 'units_traded_24H': '4160774.08021085', 'acc_trade_value_24H': '269668091.7675', 'fluctate_24H': '-2.99', 'fluctate_rate_24H': '-4.41'}\n",
      "CTC {'opening_price': '215.7', 'closing_price': '218.2', 'min_price': '208', 'max_price': '225.2', 'units_traded': '3210459.5637877', 'acc_trade_value': '684695868.0301', 'prev_closing_price': '215.8', 'units_traded_24H': '18323403.86488432', 'acc_trade_value_24H': '4055493143.9311', 'fluctate_24H': '9.8', 'fluctate_rate_24H': '4.70'}\n",
      "APM {'opening_price': '7.947', 'closing_price': '7.892', 'min_price': '7.861', 'max_price': '7.948', 'units_traded': '181782720.41750698', 'acc_trade_value': '1435081477.7354', 'prev_closing_price': '7.947', 'units_traded_24H': '366666245.71415904', 'acc_trade_value_24H': '2905104326.0108', 'fluctate_24H': '-0.05', 'fluctate_rate_24H': '-0.63'}\n",
      "CKB {'opening_price': '3.934', 'closing_price': '3.958', 'min_price': '3.803', 'max_price': '3.961', 'units_traded': '13043011.78457075', 'acc_trade_value': '50377137.7013', 'prev_closing_price': '3.935', 'units_traded_24H': '65347433.84737655', 'acc_trade_value_24H': '261065745.7562', 'fluctate_24H': '-0.158', 'fluctate_rate_24H': '-3.84'}\n",
      "AERGO {'opening_price': '172.7', 'closing_price': '179.6', 'min_price': '170', 'max_price': '183.5', 'units_traded': '1808172.4072335', 'acc_trade_value': '324219809.711', 'prev_closing_price': '172.7', 'units_traded_24H': '5389275.11525575', 'acc_trade_value_24H': '985269460.4824', 'fluctate_24H': '-4.6', 'fluctate_rate_24H': '-2.5'}\n",
      "EVZ {'opening_price': '9.315', 'closing_price': '9.282', 'min_price': '9.277', 'max_price': '9.759', 'units_traded': '18331493.44645606', 'acc_trade_value': '172280839.1799', 'prev_closing_price': '9.283', 'units_traded_24H': '80135140.44012855', 'acc_trade_value_24H': '757340246.9376', 'fluctate_24H': '0.181', 'fluctate_rate_24H': '1.99'}\n",
      "QTCON {'opening_price': '2.042', 'closing_price': '2.015', 'min_price': '2.004', 'max_price': '2.056', 'units_traded': '89126000.3585255', 'acc_trade_value': '180400730.2336', 'prev_closing_price': '2.053', 'units_traded_24H': '260332284.29189437', 'acc_trade_value_24H': '529843212.0925', 'fluctate_24H': '-0.07', 'fluctate_rate_24H': '-3.36'}\n",
      "UNI {'opening_price': '5605', 'closing_price': '5655', 'min_price': '5445', 'max_price': '5695', 'units_traded': '21424.98577287', 'acc_trade_value': '119003298.9774', 'prev_closing_price': '5615', 'units_traded_24H': '62935.60129815', 'acc_trade_value_24H': '354877726.4284', 'fluctate_24H': '-75', 'fluctate_rate_24H': '-1.31'}\n",
      "YFI {'opening_price': '7725000', 'closing_price': '7783000', 'min_price': '7516000', 'max_price': '7785000', 'units_traded': '24.64379785', 'acc_trade_value': '188278847.0999', 'prev_closing_price': '7761000', 'units_traded_24H': '85.31554823', 'acc_trade_value_24H': '664137510.3999', 'fluctate_24H': '-270000', 'fluctate_rate_24H': '-3.35'}\n",
      "UMA {'opening_price': '1989', 'closing_price': '2011', 'min_price': '1934', 'max_price': '2011', 'units_traded': '9662.7052276', 'acc_trade_value': '19141353.905', 'prev_closing_price': '2005', 'units_traded_24H': '45737.13013919', 'acc_trade_value_24H': '93072126.5073', 'fluctate_24H': '-76', 'fluctate_rate_24H': '-3.64'}\n",
      "AAVE {'opening_price': '110700', 'closing_price': '111400', 'min_price': '108300', 'max_price': '111400', 'units_traded': '1160.02322713', 'acc_trade_value': '127099511.8299', 'prev_closing_price': '111200', 'units_traded_24H': '2245.98681482', 'acc_trade_value_24H': '248639268.4999', 'fluctate_24H': '-2700', 'fluctate_rate_24H': '-2.37'}\n",
      "COMP {'opening_price': '62250', 'closing_price': '62350', 'min_price': '60300', 'max_price': '62350', 'units_traded': '945.12875806', 'acc_trade_value': '58479895.5649', 'prev_closing_price': '62450', 'units_traded_24H': '2957.73403291', 'acc_trade_value_24H': '186885147.8749', 'fluctate_24H': '-2600', 'fluctate_rate_24H': '-4.00'}\n",
      "BAL {'opening_price': '4606', 'closing_price': '4666', 'min_price': '4518', 'max_price': '4666', 'units_traded': '3386.36851633', 'acc_trade_value': '15467668.446', 'prev_closing_price': '4606', 'units_traded_24H': '117308.37847564', 'acc_trade_value_24H': '549953575.2422', 'fluctate_24H': '-84', 'fluctate_rate_24H': '-1.77'}\n",
      "RSR {'opening_price': '2.769', 'closing_price': '2.787', 'min_price': '2.677', 'max_price': '2.791', 'units_traded': '35286050.89265113', 'acc_trade_value': '96486738.9591', 'prev_closing_price': '2.769', 'units_traded_24H': '103939708.3322657', 'acc_trade_value_24H': '294326475.8937', 'fluctate_24H': '-0.182', 'fluctate_rate_24H': '-6.13'}\n",
      "NMR {'opening_price': '18690', 'closing_price': '18880', 'min_price': '18000', 'max_price': '18880', 'units_traded': '3692.30161808', 'acc_trade_value': '68626128.4039', 'prev_closing_price': '18710', 'units_traded_24H': '13359.002414', 'acc_trade_value_24H': '253790506.7129', 'fluctate_24H': '-600', 'fluctate_rate_24H': '-3.08'}\n",
      "RLC {'opening_price': '1541', 'closing_price': '1547', 'min_price': '1516', 'max_price': '1547', 'units_traded': '16926.21176577', 'acc_trade_value': '26005419.146', 'prev_closing_price': '1543', 'units_traded_24H': '77132.15616204', 'acc_trade_value_24H': '121898679.0384', 'fluctate_24H': '-65', 'fluctate_rate_24H': '-4.03'}\n",
      "UOS {'opening_price': '235.6', 'closing_price': '230', 'min_price': '230', 'max_price': '238.8', 'units_traded': '298620.18554351', 'acc_trade_value': '69654628.9105', 'prev_closing_price': '235.3', 'units_traded_24H': '860209.47699615', 'acc_trade_value_24H': '203603108.5898', 'fluctate_24H': '-14', 'fluctate_rate_24H': '-5.74'}\n",
      "SAND {'opening_price': '466.2', 'closing_price': '471.4', 'min_price': '454.7', 'max_price': '472.8', 'units_traded': '4496012.37712509', 'acc_trade_value': '2079511796.5202', 'prev_closing_price': '466.1', 'units_traded_24H': '11744720.06229914', 'acc_trade_value_24H': '5528448643.5084', 'fluctate_24H': '-17.1', 'fluctate_rate_24H': '-3.50'}\n",
      "STPT {'opening_price': '89.77', 'closing_price': '91', 'min_price': '87', 'max_price': '93.41', 'units_traded': '5510895.51786873', 'acc_trade_value': '498209905.168', 'prev_closing_price': '89.79', 'units_traded_24H': '21552444.2015729', 'acc_trade_value_24H': '2002295940.1342', 'fluctate_24H': '-1.03', 'fluctate_rate_24H': '-1.12'}\n",
      "BEL {'opening_price': '852', 'closing_price': '849.8', 'min_price': '816.7', 'max_price': '852.9', 'units_traded': '24265.83411767', 'acc_trade_value': '20313584.8861', 'prev_closing_price': '852', 'units_traded_24H': '83586.00369907', 'acc_trade_value_24H': '72182387.776', 'fluctate_24H': '-15.3', 'fluctate_rate_24H': '-1.77'}\n",
      "OBSR {'opening_price': '1.822', 'closing_price': '1.848', 'min_price': '1.807', 'max_price': '1.85', 'units_traded': '6970608.26494897', 'acc_trade_value': '12711924.7066', 'prev_closing_price': '1.823', 'units_traded_24H': '33529829.30925189', 'acc_trade_value_24H': '61481658.1081', 'fluctate_24H': '-0.005', 'fluctate_rate_24H': '-0.27'}\n",
      "ORC {'opening_price': '73.23', 'closing_price': '75.15', 'min_price': '71.04', 'max_price': '75.16', 'units_traded': '1079531.13493118', 'acc_trade_value': '79071130.6663', 'prev_closing_price': '73.8', 'units_traded_24H': '2314629.45297692', 'acc_trade_value_24H': '170530897.2573', 'fluctate_24H': '-0.12', 'fluctate_rate_24H': '-0.16'}\n",
      "POLA {'opening_price': '17.35', 'closing_price': '16.74', 'min_price': '16.23', 'max_price': '17.35', 'units_traded': '18405302.54301667', 'acc_trade_value': '305228619.7113', 'prev_closing_price': '17.25', 'units_traded_24H': '44951166.98382482', 'acc_trade_value_24H': '767490211.395', 'fluctate_24H': '-0.99', 'fluctate_rate_24H': '-5.58'}\n",
      "ADP {'opening_price': '1.998', 'closing_price': '2', 'min_price': '1.983', 'max_price': '2.168', 'units_traded': '72478240.19502458', 'acc_trade_value': '146747878.9125', 'prev_closing_price': '1.999', 'units_traded_24H': '99777918.37651752', 'acc_trade_value_24H': '201309157.8064', 'fluctate_24H': '0.019', 'fluctate_rate_24H': '0.96'}\n",
      "DVI {'opening_price': '14.91', 'closing_price': '14.35', 'min_price': '14.07', 'max_price': '14.91', 'units_traded': '7887209.9373', 'acc_trade_value': '113231016.3285', 'prev_closing_price': '14.95', 'units_traded_24H': '12695578.75577869', 'acc_trade_value_24H': '185190193.9035', 'fluctate_24H': '-0.7', 'fluctate_rate_24H': '-4.65'}\n",
      "GHX {'opening_price': '8.757', 'closing_price': '8.43', 'min_price': '8.427', 'max_price': '8.799', 'units_traded': '12989665.94697835', 'acc_trade_value': '111583380.0483', 'prev_closing_price': '8.701', 'units_traded_24H': '22343240.19344923', 'acc_trade_value_24H': '194245403.2168', 'fluctate_24H': '-0.38', 'fluctate_rate_24H': '-4.31'}\n",
      "MVC {'opening_price': '2.493', 'closing_price': '2.489', 'min_price': '2.467', 'max_price': '2.508', 'units_traded': '4928760.80229587', 'acc_trade_value': '12228440.6027', 'prev_closing_price': '2.494', 'units_traded_24H': '17670525.06069587', 'acc_trade_value_24H': '43931208.5931', 'fluctate_24H': '0.002', 'fluctate_rate_24H': '0.08'}\n",
      "BLY {'opening_price': '6.113', 'closing_price': '6.094', 'min_price': '6.003', 'max_price': '6.129', 'units_traded': '1780579.8143', 'acc_trade_value': '10778954.6587', 'prev_closing_price': '6.157', 'units_traded_24H': '5675817.661507', 'acc_trade_value_24H': '34480755.7078', 'fluctate_24H': '-0.035', 'fluctate_rate_24H': '-0.57'}\n",
      "WOZX {'opening_price': '29.79', 'closing_price': '29.79', 'min_price': '29.6', 'max_price': '30.38', 'units_traded': '1645919.85686728', 'acc_trade_value': '49162894.6872', 'prev_closing_price': '29.79', 'units_traded_24H': '3545183.33315401', 'acc_trade_value_24H': '105960469.1208', 'fluctate_24H': '-0.59', 'fluctate_rate_24H': '-1.94'}\n",
      "ANV {'opening_price': '22.64', 'closing_price': '21.2', 'min_price': '20.2', 'max_price': '25.74', 'units_traded': '118992662.35349439', 'acc_trade_value': '2710658981.199', 'prev_closing_price': '22.64', 'units_traded_24H': '455596950.13023903', 'acc_trade_value_24H': '10724413382.9176', 'fluctate_24H': '1.88', 'fluctate_rate_24H': '9.73'}\n",
      "GRT {'opening_price': '140.2', 'closing_price': '143', 'min_price': '134.7', 'max_price': '143.2', 'units_traded': '1265325.97086069', 'acc_trade_value': '174404465.3061', 'prev_closing_price': '139.8', 'units_traded_24H': '2299884.61878014', 'acc_trade_value_24H': '324375837.8095', 'fluctate_24H': '-6', 'fluctate_rate_24H': '-4.03'}\n",
      "BIOT {'opening_price': '1.324', 'closing_price': '1.334', 'min_price': '1.29', 'max_price': '1.346', 'units_traded': '56721645.2105766', 'acc_trade_value': '74773838.8825', 'prev_closing_price': '1.325', 'units_traded_24H': '252829585.12541065', 'acc_trade_value_24H': '335335343.1276', 'fluctate_24H': '-0.027', 'fluctate_rate_24H': '-1.98'}\n",
      "SNX {'opening_price': '3087', 'closing_price': '3072', 'min_price': '2990', 'max_price': '3087', 'units_traded': '20077.00867712', 'acc_trade_value': '60890028.2961', 'prev_closing_price': '3092', 'units_traded_24H': '35126.36846849', 'acc_trade_value_24H': '107601058.6927', 'fluctate_24H': '-90', 'fluctate_rate_24H': '-2.85'}\n",
      "SOFI {'opening_price': '30.71', 'closing_price': '30.94', 'min_price': '30.5', 'max_price': '31.02', 'units_traded': '712025.41176081', 'acc_trade_value': '21848195.4701', 'prev_closing_price': '30.97', 'units_traded_24H': '2919048.99417828', 'acc_trade_value_24H': '89658533.5858', 'fluctate_24H': '0.28', 'fluctate_rate_24H': '0.91'}\n",
      "GRACY {'opening_price': '34.69', 'closing_price': '34.88', 'min_price': '34', 'max_price': '35.94', 'units_traded': '981452.61703459', 'acc_trade_value': '34231560.0914', 'prev_closing_price': '34.69', 'units_traded_24H': '2251538.72085667', 'acc_trade_value_24H': '78257725.1833', 'fluctate_24H': '0.06', 'fluctate_rate_24H': '0.17'}\n",
      "OXT {'opening_price': '92.58', 'closing_price': '92.63', 'min_price': '89.68', 'max_price': '92.95', 'units_traded': '1253780.99614096', 'acc_trade_value': '115134332.6929', 'prev_closing_price': '92.51', 'units_traded_24H': '2813424.11780157', 'acc_trade_value_24H': '263105852.0472', 'fluctate_24H': '-2.75', 'fluctate_rate_24H': '-2.88'}\n",
      "MAP {'opening_price': '10.43', 'closing_price': '10.33', 'min_price': '10.29', 'max_price': '10.51', 'units_traded': '2872644.90541499', 'acc_trade_value': '29811824.9284', 'prev_closing_price': '10.4', 'units_traded_24H': '13875833.56120163', 'acc_trade_value_24H': '144930757.1854', 'fluctate_24H': '-0.11', 'fluctate_rate_24H': '-1.05'}\n",
      "AQT {'opening_price': '1500', 'closing_price': '1531', 'min_price': '1471', 'max_price': '1548', 'units_traded': '50356.4799', 'acc_trade_value': '76522643.0955', 'prev_closing_price': '1491', 'units_traded_24H': '122490.05733732', 'acc_trade_value_24H': '188279453.5076', 'fluctate_24H': '-43', 'fluctate_rate_24H': '-2.73'}\n",
      "PLA {'opening_price': '242', 'closing_price': '248.2', 'min_price': '239', 'max_price': '251.3', 'units_traded': '344425.93528643', 'acc_trade_value': '84851758.1858', 'prev_closing_price': '242.1', 'units_traded_24H': '874467.3850825', 'acc_trade_value_24H': '217409102.2047', 'fluctate_24H': '-8.2', 'fluctate_rate_24H': '-3.2'}\n",
      "WIKEN {'opening_price': '8.499', 'closing_price': '8.561', 'min_price': '8.44', 'max_price': '8.61', 'units_traded': '2468273.3743', 'acc_trade_value': '20989927.4281', 'prev_closing_price': '8.613', 'units_traded_24H': '4454082.99784505', 'acc_trade_value_24H': '37963685.146', 'fluctate_24H': '-0.038', 'fluctate_rate_24H': '-0.44'}\n",
      "CTSI {'opening_price': '197.5', 'closing_price': '199.3', 'min_price': '193.1', 'max_price': '199.8', 'units_traded': '150275.14352044', 'acc_trade_value': '29755837.5908', 'prev_closing_price': '201.6', 'units_traded_24H': '300802.37641108', 'acc_trade_value_24H': '60715767.4391', 'fluctate_24H': '-9.9', 'fluctate_rate_24H': '-4.73'}\n",
      "MANA {'opening_price': '490.5', 'closing_price': '494.2', 'min_price': '477.3', 'max_price': '494.9', 'units_traded': '387503.43804635', 'acc_trade_value': '189344723.41', 'prev_closing_price': '493.1', 'units_traded_24H': '856640.42607264', 'acc_trade_value_24H': '425331019.1862', 'fluctate_24H': '-17.9', 'fluctate_rate_24H': '-3.5'}\n",
      "LPT {'opening_price': '8435', 'closing_price': '8430', 'min_price': '8125', 'max_price': '8460', 'units_traded': '7666.17049449', 'acc_trade_value': '63709143.8874', 'prev_closing_price': '8460', 'units_traded_24H': '21055.3173021', 'acc_trade_value_24H': '180145963.2354', 'fluctate_24H': '-400', 'fluctate_rate_24H': '-4.53'}\n",
      "MKR {'opening_price': '1852000', 'closing_price': '1856000', 'min_price': '1824000', 'max_price': '1867000', 'units_traded': '13.54993695', 'acc_trade_value': '24940853.9999', 'prev_closing_price': '1869000', 'units_traded_24H': '37.71859405', 'acc_trade_value_24H': '70548230.0999', 'fluctate_24H': '-57000', 'fluctate_rate_24H': '-2.98'}\n",
      "SUSHI {'opening_price': '1029', 'closing_price': '1054', 'min_price': '961.6', 'max_price': '1069', 'units_traded': '241306.62991946', 'acc_trade_value': '246434258.4798', 'prev_closing_price': '1029', 'units_traded_24H': '841194.5671728', 'acc_trade_value_24H': '828477621.0686', 'fluctate_24H': '171', 'fluctate_rate_24H': '19.37'}\n",
      "ASM {'opening_price': '28.65', 'closing_price': '29.54', 'min_price': '28.48', 'max_price': '30.5', 'units_traded': '6103756.49039316', 'acc_trade_value': '178836526.4857', 'prev_closing_price': '28.61', 'units_traded_24H': '8480078.00199076', 'acc_trade_value_24H': '246646255.217', 'fluctate_24H': '0.46', 'fluctate_rate_24H': '1.58'}\n",
      "PUNDIX {'opening_price': '568.6', 'closing_price': '595.4', 'min_price': '555.4', 'max_price': '606.1', 'units_traded': '549541.25012064', 'acc_trade_value': '322649287.5131', 'prev_closing_price': '569.4', 'units_traded_24H': '2245473.43854599', 'acc_trade_value_24H': '1357374895.2238', 'fluctate_24H': '-21.7', 'fluctate_rate_24H': '-3.52'}\n",
      "CELR {'opening_price': '18.67', 'closing_price': '19.17', 'min_price': '18.37', 'max_price': '19.17', 'units_traded': '1440856.4481864', 'acc_trade_value': '26761136.6194', 'prev_closing_price': '18.9', 'units_traded_24H': '2978373.78451108', 'acc_trade_value_24H': '56256271.8578', 'fluctate_24H': '-0.34', 'fluctate_rate_24H': '-1.74'}\n",
      "FRONT {'opening_price': '436.5', 'closing_price': '449.9', 'min_price': '410.3', 'max_price': '452.6', 'units_traded': '650474.81036425', 'acc_trade_value': '280289411.2559', 'prev_closing_price': '434.8', 'units_traded_24H': '2147410.97432433', 'acc_trade_value_24H': '995850684.0219', 'fluctate_24H': '-59', 'fluctate_rate_24H': '-11.59'}\n",
      "RLY {'opening_price': '7.952', 'closing_price': '8.002', 'min_price': '7.91', 'max_price': '8.6', 'units_traded': '21797143.19431658', 'acc_trade_value': '178229486.7635', 'prev_closing_price': '7.975', 'units_traded_24H': '29676170.37490181', 'acc_trade_value_24H': '241643020.7183', 'fluctate_24H': '-0.069', 'fluctate_rate_24H': '-0.85'}\n",
      "OCEAN {'opening_price': '492.1', 'closing_price': '518.1', 'min_price': '475', 'max_price': '518.4', 'units_traded': '76126.86593164', 'acc_trade_value': '36928667.9539', 'prev_closing_price': '494.8', 'units_traded_24H': '184967.8406738', 'acc_trade_value_24H': '92429265.5019', 'fluctate_24H': '-10.8', 'fluctate_rate_24H': '-2.04'}\n",
      "BFC {'opening_price': '60', 'closing_price': '59.64', 'min_price': '58.9', 'max_price': '60.27', 'units_traded': '1045522.8872764', 'acc_trade_value': '62101301.0742', 'prev_closing_price': '60.29', 'units_traded_24H': '3668834.1295306', 'acc_trade_value_24H': '221375608.447', 'fluctate_24H': '0.2', 'fluctate_rate_24H': '0.34'}\n",
      "ALICE {'opening_price': '1174', 'closing_price': '1181', 'min_price': '1144', 'max_price': '1181', 'units_traded': '17776.17473292', 'acc_trade_value': '20625450.9028', 'prev_closing_price': '1186', 'units_traded_24H': '66661.65852927', 'acc_trade_value_24H': '79177622.5664', 'fluctate_24H': '-57', 'fluctate_rate_24H': '-4.60'}\n",
      "OGN {'opening_price': '160.1', 'closing_price': '162', 'min_price': '154.5', 'max_price': '162', 'units_traded': '358457.99304928', 'acc_trade_value': '56671593.5255', 'prev_closing_price': '160.1', 'units_traded_24H': '742393.12364143', 'acc_trade_value_24H': '119386507.7352', 'fluctate_24H': '-4.3', 'fluctate_rate_24H': '-2.59'}\n",
      "COTI {'opening_price': '61.23', 'closing_price': '62.31', 'min_price': '59.85', 'max_price': '62.54', 'units_traded': '124143.7638', 'acc_trade_value': '7591075.9905', 'prev_closing_price': '61.9', 'units_traded_24H': '1103595.24129124', 'acc_trade_value_24H': '69107475.2612', 'fluctate_24H': '-1.59', 'fluctate_rate_24H': '-2.49'}\n",
      "CAKE {'opening_price': '1664', 'closing_price': '1689', 'min_price': '1640', 'max_price': '1689', 'units_traded': '8064.11010292', 'acc_trade_value': '13439813.6249', 'prev_closing_price': '1670', 'units_traded_24H': '34069.493316', 'acc_trade_value_24H': '57103517.5546', 'fluctate_24H': '4', 'fluctate_rate_24H': '0.24'}\n",
      "BNT {'opening_price': '719.9', 'closing_price': '726.9', 'min_price': '700', 'max_price': '727.5', 'units_traded': '272896.45576235', 'acc_trade_value': '195797682.7975', 'prev_closing_price': '722.8', 'units_traded_24H': '875452.66936078', 'acc_trade_value_24H': '639851708.206', 'fluctate_24H': '-20.7', 'fluctate_rate_24H': '-2.77'}\n",
      "XVS {'opening_price': '7080', 'closing_price': '7195', 'min_price': '6935', 'max_price': '7195', 'units_traded': '5650.45141146', 'acc_trade_value': '40001027.4599', 'prev_closing_price': '7100', 'units_traded_24H': '15667.50212546', 'acc_trade_value_24H': '113239900.7984', 'fluctate_24H': '-315', 'fluctate_rate_24H': '-4.19'}\n",
      "SWAP {'opening_price': '129.2', 'closing_price': '130', 'min_price': '127.5', 'max_price': '136.6', 'units_traded': '1097543.97977183', 'acc_trade_value': '144372476.8551', 'prev_closing_price': '129.2', 'units_traded_24H': '1386247.36641456', 'acc_trade_value_24H': '181265276.0091', 'fluctate_24H': '0', 'fluctate_rate_24H': '0.00'}\n",
      "CHZ {'opening_price': '89.08', 'closing_price': '91.4', 'min_price': '86.01', 'max_price': '91.4', 'units_traded': '2115118.46836361', 'acc_trade_value': '187787736.3385', 'prev_closing_price': '89.11', 'units_traded_24H': '4405128.88869499', 'acc_trade_value_24H': '396072890.6628', 'fluctate_24H': '-1.07', 'fluctate_rate_24H': '-1.16'}\n",
      "AXS {'opening_price': '7445', 'closing_price': '7385', 'min_price': '7145', 'max_price': '7470', 'units_traded': '97225.34484937', 'acc_trade_value': '710631954.0644', 'prev_closing_price': '7455', 'units_traded_24H': '302410.11567332', 'acc_trade_value_24H': '2259682662.3374', 'fluctate_24H': '-365', 'fluctate_rate_24H': '-4.71'}\n",
      "DAO {'opening_price': '876.2', 'closing_price': '817.2', 'min_price': '811.2', 'max_price': '882.1', 'units_traded': '245388.49741592', 'acc_trade_value': '204550279.4687', 'prev_closing_price': '882', 'units_traded_24H': '732377.18087305', 'acc_trade_value_24H': '631621960.9046', 'fluctate_24H': '-76.8', 'fluctate_rate_24H': '-8.59'}\n",
      "SIX {'opening_price': '34.54', 'closing_price': '32.06', 'min_price': '30.77', 'max_price': '34.61', 'units_traded': '25070319.35774235', 'acc_trade_value': '826050584.3358', 'prev_closing_price': '34.25', 'units_traded_24H': '42971866.02325011', 'acc_trade_value_24H': '1435870784.5132', 'fluctate_24H': '-2.26', 'fluctate_rate_24H': '-6.61'}\n",
      "DAI {'opening_price': '1356', 'closing_price': '1358', 'min_price': '1351', 'max_price': '1358', 'units_traded': '445240.1751', 'acc_trade_value': '603323566.1342', 'prev_closing_price': '1355', 'units_traded_24H': '974594.42523795', 'acc_trade_value_24H': '1321709465.9155', 'fluctate_24H': '4', 'fluctate_rate_24H': '0.3'}\n",
      "SHIB {'opening_price': '0.0105', 'closing_price': '0.0107', 'min_price': '0.0103', 'max_price': '0.0107', 'units_traded': '6514301525.56475095', 'acc_trade_value': '68078782.2651', 'prev_closing_price': '0.0106', 'units_traded_24H': '19185006288.04221321', 'acc_trade_value_24H': '203779381.4989', 'fluctate_24H': '-0.0001', 'fluctate_rate_24H': '-0.93'}\n",
      "MATIC {'opening_price': '859.6', 'closing_price': '870', 'min_price': '841', 'max_price': '871.8', 'units_traded': '695704.61659254', 'acc_trade_value': '596089886.8612', 'prev_closing_price': '859.6', 'units_traded_24H': '2027950.96253141', 'acc_trade_value_24H': '1763597125.6635', 'fluctate_24H': '-16', 'fluctate_rate_24H': '-1.81'}\n",
      "WOO {'opening_price': '283.1', 'closing_price': '293.2', 'min_price': '282.6', 'max_price': '304.9', 'units_traded': '122538.8287', 'acc_trade_value': '35451574.2808', 'prev_closing_price': '291.3', 'units_traded_24H': '675110.07540422', 'acc_trade_value_24H': '200900409.8053', 'fluctate_24H': '-10.5', 'fluctate_rate_24H': '-3.46'}\n",
      "ACH {'opening_price': '21.73', 'closing_price': '21.77', 'min_price': '21.05', 'max_price': '21.77', 'units_traded': '8865046.08826883', 'acc_trade_value': '190328287.6894', 'prev_closing_price': '21.73', 'units_traded_24H': '20403434.38724098', 'acc_trade_value_24H': '445975254.4637', 'fluctate_24H': '-0.73', 'fluctate_rate_24H': '-3.24'}\n",
      "VELO {'opening_price': '3.651', 'closing_price': '3.538', 'min_price': '3.498', 'max_price': '3.87', 'units_traded': '419634739.14159368', 'acc_trade_value': '1533751683.6517', 'prev_closing_price': '3.651', 'units_traded_24H': '1011675234.31411674', 'acc_trade_value_24H': '3732747353.8555', 'fluctate_24H': '-0.239', 'fluctate_rate_24H': '-6.33'}\n",
      "XLM {'opening_price': '163.1', 'closing_price': '163.2', 'min_price': '159.5', 'max_price': '165.1', 'units_traded': '13745946.80038091', 'acc_trade_value': '2243310285.5549', 'prev_closing_price': '163', 'units_traded_24H': '49468172.26758409', 'acc_trade_value_24H': '8116665706.0174', 'fluctate_24H': '1.2', 'fluctate_rate_24H': '0.74'}\n",
      "ONT {'opening_price': '263.1', 'closing_price': '279.7', 'min_price': '257.4', 'max_price': '288.3', 'units_traded': '975580.807007', 'acc_trade_value': '266353352.443', 'prev_closing_price': '264.3', 'units_traded_24H': '1649215.3268339', 'acc_trade_value_24H': '448261404.5421', 'fluctate_24H': '3.5', 'fluctate_rate_24H': '1.27'}\n",
      "META {'opening_price': '53.17', 'closing_price': '56.72', 'min_price': '48.93', 'max_price': '60.05', 'units_traded': '27054581.05315827', 'acc_trade_value': '1501002350.9897', 'prev_closing_price': '53.38', 'units_traded_24H': '83206635.05698208', 'acc_trade_value_24H': '4668582704.3546', 'fluctate_24H': '2.22', 'fluctate_rate_24H': '4.07'}\n",
      "KLAY {'opening_price': '181', 'closing_price': '181.6', 'min_price': '177.7', 'max_price': '182', 'units_traded': '6707427.24699587', 'acc_trade_value': '1203253888.3508', 'prev_closing_price': '181.2', 'units_traded_24H': '17023611.68116976', 'acc_trade_value_24H': '3096935166.8472', 'fluctate_24H': '-2.5', 'fluctate_rate_24H': '-1.36'}\n",
      "ONG {'opening_price': '409.1', 'closing_price': '436', 'min_price': '400.6', 'max_price': '461.4', 'units_traded': '4314093.24647827', 'acc_trade_value': '1889799214.8632', 'prev_closing_price': '408.5', 'units_traded_24H': '7108966.62592701', 'acc_trade_value_24H': '3085859514.5044', 'fluctate_24H': '-10.2', 'fluctate_rate_24H': '-2.28'}\n",
      "ALGO {'opening_price': '147.9', 'closing_price': '149.5', 'min_price': '143.7', 'max_price': '150.4', 'units_traded': '707259.441052', 'acc_trade_value': '103864692.5276', 'prev_closing_price': '146.9', 'units_traded_24H': '2621230.229338', 'acc_trade_value_24H': '391077023.2229', 'fluctate_24H': '-3.8', 'fluctate_rate_24H': '-2.48'}\n",
      "JST {'opening_price': '39.43', 'closing_price': '41.66', 'min_price': '38.9', 'max_price': '42.74', 'units_traded': '12082867.95514423', 'acc_trade_value': '503080714.2699', 'prev_closing_price': '39.44', 'units_traded_24H': '16366257.17390853', 'acc_trade_value_24H': '676029133.8174', 'fluctate_24H': '0.8', 'fluctate_rate_24H': '1.96'}\n",
      "XTZ {'opening_price': '993.1', 'closing_price': '1034', 'min_price': '978.1', 'max_price': '1040', 'units_traded': '41614.0242', 'acc_trade_value': '42599562.039', 'prev_closing_price': '997.3', 'units_traded_24H': '77215.770959', 'acc_trade_value_24H': '78843356.8838', 'fluctate_24H': '5', 'fluctate_rate_24H': '0.49'}\n",
      "MLK {'opening_price': '382', 'closing_price': '392.9', 'min_price': '378.4', 'max_price': '395.8', 'units_traded': '425449.91888308', 'acc_trade_value': '164022041.4403', 'prev_closing_price': '382', 'units_traded_24H': '2001733.81579009', 'acc_trade_value_24H': '795335550.6128', 'fluctate_24H': '-4.1', 'fluctate_rate_24H': '-1.03'}\n",
      "DOT {'opening_price': '5975', 'closing_price': '6085', 'min_price': '5810', 'max_price': '6110', 'units_traded': '111805.97507744', 'acc_trade_value': '668524763.9847', 'prev_closing_price': '5970', 'units_traded_24H': '431344.58999699', 'acc_trade_value_24H': '2611315576.4132', 'fluctate_24H': '-130', 'fluctate_rate_24H': '-2.09'}\n",
      "ATOM {'opening_price': '10820', 'closing_price': '10820', 'min_price': '10400', 'max_price': '10960', 'units_traded': '84567.70658982', 'acc_trade_value': '904553603.7322', 'prev_closing_price': '10810', 'units_traded_24H': '298115.60126314', 'acc_trade_value_24H': '3229273558.555', 'fluctate_24H': '-70', 'fluctate_rate_24H': '-0.64'}\n",
      "SSX {'opening_price': '24.29', 'closing_price': '26.43', 'min_price': '23.8', 'max_price': '28.8', 'units_traded': '17002827.42265387', 'acc_trade_value': '451683647.687', 'prev_closing_price': '24.27', 'units_traded_24H': '22075393.63806017', 'acc_trade_value_24H': '578624525.3939', 'fluctate_24H': '0.74', 'fluctate_rate_24H': '2.88'}\n",
      "TEMCO {'opening_price': '2.397', 'closing_price': '2.392', 'min_price': '2.373', 'max_price': '2.425', 'units_traded': '7039473.79124227', 'acc_trade_value': '16817005.6582', 'prev_closing_price': '2.397', 'units_traded_24H': '27085623.19324379', 'acc_trade_value_24H': '65180745.7621', 'fluctate_24H': '-0.027', 'fluctate_rate_24H': '-1.12'}\n",
      "DOGE {'opening_price': '93.06', 'closing_price': '92.81', 'min_price': '89.52', 'max_price': '93.16', 'units_traded': '64796283.10805224', 'acc_trade_value': '5948461966.7767', 'prev_closing_price': '93.13', 'units_traded_24H': '152293456.35699285', 'acc_trade_value_24H': '14193304358.5604', 'fluctate_24H': '-1.8', 'fluctate_rate_24H': '-1.90'}\n",
      "KSM {'opening_price': '29160', 'closing_price': '29350', 'min_price': '28360', 'max_price': '29490', 'units_traded': '831.06098493', 'acc_trade_value': '24096181.4509', 'prev_closing_price': '29150', 'units_traded_24H': '3134.19037418', 'acc_trade_value_24H': '92504364.5659', 'fluctate_24H': '-790', 'fluctate_rate_24H': '-2.62'}\n",
      "CTK {'opening_price': '640', 'closing_price': '652.1', 'min_price': '623', 'max_price': '655.5', 'units_traded': '20446.82958933', 'acc_trade_value': '13060936.662', 'prev_closing_price': '644', 'units_traded_24H': '65918.15778221', 'acc_trade_value_24H': '42816741.1533', 'fluctate_24H': '-6.4', 'fluctate_rate_24H': '-0.97'}\n",
      "BNB {'opening_price': '306400', 'closing_price': '308000', 'min_price': '304000', 'max_price': '308100', 'units_traded': '411.8068097', 'acc_trade_value': '125816449.246', 'prev_closing_price': '306400', 'units_traded_24H': '1559.08721983', 'acc_trade_value_24H': '479161109.1828', 'fluctate_24H': '-2200', 'fluctate_rate_24H': '-0.71'}\n",
      "NFT {'opening_price': '0.0005', 'closing_price': '0.0004', 'min_price': '0.0004', 'max_price': '0.0005', 'units_traded': '58079495931.6989', 'acc_trade_value': '26316898.6011', 'prev_closing_price': '0.0005', 'units_traded_24H': '68432466480.0865', 'acc_trade_value_24H': '31165506.4487', 'fluctate_24H': '0', 'fluctate_rate_24H': '0.00'}\n",
      "SUN {'opening_price': '8.63', 'closing_price': '8.748', 'min_price': '8.51', 'max_price': '8.767', 'units_traded': '4370435.8929', 'acc_trade_value': '37646807.5537', 'prev_closing_price': '8.657', 'units_traded_24H': '9002002.13895556', 'acc_trade_value_24H': '78039979.6413', 'fluctate_24H': '0.04', 'fluctate_rate_24H': '0.46'}\n",
      "XEC {'opening_price': '0.0377', 'closing_price': '0.0381', 'min_price': '0.0366', 'max_price': '0.0382', 'units_traded': '8842040521.2429513', 'acc_trade_value': '332478821.8244', 'prev_closing_price': '0.0377', 'units_traded_24H': '44971082004.60840495', 'acc_trade_value_24H': '1714699771.4666', 'fluctate_24H': '-0.0008', 'fluctate_rate_24H': '-2.06'}\n",
      "AGIX {'opening_price': '309', 'closing_price': '311.7', 'min_price': '298.2', 'max_price': '312.3', 'units_traded': '252203.81036284', 'acc_trade_value': '76631622.1812', 'prev_closing_price': '310.2', 'units_traded_24H': '506241.72011468', 'acc_trade_value_24H': '158100811.8887', 'fluctate_24H': '-14.3', 'fluctate_rate_24H': '-4.39'}\n",
      "SOL {'opening_price': '49100', 'closing_price': '52200', 'min_price': '48430', 'max_price': '52450', 'units_traded': '389512.66642034', 'acc_trade_value': '19594134139.1737', 'prev_closing_price': '49090', 'units_traded_24H': '1137765.82175477', 'acc_trade_value_24H': '56365472774.7388', 'fluctate_24H': '3790', 'fluctate_rate_24H': '7.83'}\n",
      "FNSA {'opening_price': '33630', 'closing_price': '34370', 'min_price': '31110', 'max_price': '34740', 'units_traded': '6003.15388619', 'acc_trade_value': '196746497.2193', 'prev_closing_price': '33680', 'units_traded_24H': '29369.4464011', 'acc_trade_value_24H': '1030507193.9118', 'fluctate_24H': '-1520', 'fluctate_rate_24H': '-4.24'}\n",
      "EGLD {'opening_price': '40550', 'closing_price': '40920', 'min_price': '39440', 'max_price': '42070', 'units_traded': '472.58172474', 'acc_trade_value': '19024660.8169', 'prev_closing_price': '40300', 'units_traded_24H': '1268.72924801', 'acc_trade_value_24H': '52017716.7639', 'fluctate_24H': '-1120', 'fluctate_rate_24H': '-2.66'}\n",
      "MASK {'opening_price': '3972', 'closing_price': '4008', 'min_price': '3860', 'max_price': '4008', 'units_traded': '9783.58268398', 'acc_trade_value': '38610009.2961', 'prev_closing_price': '3983', 'units_traded_24H': '28740.46083817', 'acc_trade_value_24H': '116145077.9335', 'fluctate_24H': '-171', 'fluctate_rate_24H': '-4.09'}\n",
      "DFA {'opening_price': '28.78', 'closing_price': '28.48', 'min_price': '28.08', 'max_price': '29.59', 'units_traded': '661409.37584727', 'acc_trade_value': '18756021.6814', 'prev_closing_price': '29.58', 'units_traded_24H': '2260709.6960177', 'acc_trade_value_24H': '65709675.8377', 'fluctate_24H': '-1.59', 'fluctate_rate_24H': '-5.29'}\n",
      "C98 {'opening_price': '246.9', 'closing_price': '247.5', 'min_price': '234.3', 'max_price': '247.7', 'units_traded': '498499.57415558', 'acc_trade_value': '119770899.2552', 'prev_closing_price': '247', 'units_traded_24H': '1493650.32441246', 'acc_trade_value_24H': '371699025.1522', 'fluctate_24H': '-9.5', 'fluctate_rate_24H': '-3.7'}\n",
      "MED {'opening_price': '13.98', 'closing_price': '14.45', 'min_price': '13.9', 'max_price': '14.59', 'units_traded': '1290152.13486558', 'acc_trade_value': '18372180.9311', 'prev_closing_price': '14.06', 'units_traded_24H': '9307713.98494549', 'acc_trade_value_24H': '133431152.4359', 'fluctate_24H': '0.02', 'fluctate_rate_24H': '0.14'}\n",
      "1INCH {'opening_price': '387', 'closing_price': '401', 'min_price': '378.7', 'max_price': '401', 'units_traded': '44851.09558018', 'acc_trade_value': '17435226.7101', 'prev_closing_price': '387.5', 'units_traded_24H': '175558.60307298', 'acc_trade_value_24H': '69265147.8298', 'fluctate_24H': '-4', 'fluctate_rate_24H': '-0.99'}\n",
      "CRV {'opening_price': '648.7', 'closing_price': '659.8', 'min_price': '631.7', 'max_price': '659.8', 'units_traded': '79009.76303275', 'acc_trade_value': '50988097.5046', 'prev_closing_price': '648.6', 'units_traded_24H': '239433.87360165', 'acc_trade_value_24H': '156681804.1862', 'fluctate_24H': '-8.8', 'fluctate_rate_24H': '-1.32'}\n",
      "BOBA {'opening_price': '161.9', 'closing_price': '163.2', 'min_price': '161.1', 'max_price': '164.6', 'units_traded': '23404.41570381', 'acc_trade_value': '3794506.8355', 'prev_closing_price': '161.9', 'units_traded_24H': '90859.81830576', 'acc_trade_value_24H': '14785108.2379', 'fluctate_24H': '-0.4', 'fluctate_rate_24H': '-0.24'}\n",
      "DYDX {'opening_price': '3146', 'closing_price': '3161', 'min_price': '3033', 'max_price': '3161', 'units_traded': '62004.49142878', 'acc_trade_value': '190674652.9947', 'prev_closing_price': '3160', 'units_traded_24H': '99994.53842878', 'acc_trade_value_24H': '313974564.1993', 'fluctate_24H': '-201', 'fluctate_rate_24H': '-5.98'}\n",
      "FLOW {'opening_price': '698', 'closing_price': '708.7', 'min_price': '679.7', 'max_price': '711.6', 'units_traded': '237520.1998', 'acc_trade_value': '164894942.415', 'prev_closing_price': '698.5', 'units_traded_24H': '653239.79195978', 'acc_trade_value_24H': '462022271.7802', 'fluctate_24H': '-28.2', 'fluctate_rate_24H': '-3.83'}\n",
      "JOE {'opening_price': '358.5', 'closing_price': '362.8', 'min_price': '352.8', 'max_price': '363.6', 'units_traded': '113055.2494719', 'acc_trade_value': '40180499.1493', 'prev_closing_price': '359.3', 'units_traded_24H': '277739.221665', 'acc_trade_value_24H': '100845653.2534', 'fluctate_24H': '2.6', 'fluctate_rate_24H': '0.72'}\n",
      "GALA {'opening_price': '26.31', 'closing_price': '26.01', 'min_price': '24.79', 'max_price': '26.38', 'units_traded': '27096606.00860254', 'acc_trade_value': '695282650.944', 'prev_closing_price': '26.45', 'units_traded_24H': '85010225.22881546', 'acc_trade_value_24H': '2266791172.0768', 'fluctate_24H': '-1.72', 'fluctate_rate_24H': '-6.20'}\n",
      "BTT {'opening_price': '0.0006', 'closing_price': '0.0007', 'min_price': '0.0006', 'max_price': '0.0007', 'units_traded': '38424000055.22209999', 'acc_trade_value': '25567035.1876', 'prev_closing_price': '0.0007', 'units_traded_24H': '85286204413.45694285', 'acc_trade_value_24H': '57519604.4687', 'fluctate_24H': '0.0001', 'fluctate_rate_24H': '16.67'}\n",
      "JASMY {'opening_price': '5.24', 'closing_price': '5.281', 'min_price': '5.109', 'max_price': '5.331', 'units_traded': '4333281.82576121', 'acc_trade_value': '22452633.2716', 'prev_closing_price': '5.303', 'units_traded_24H': '15047481.05928531', 'acc_trade_value_24H': '80012038.0084', 'fluctate_24H': '-0.211', 'fluctate_rate_24H': '-3.84'}\n",
      "TITAN {'opening_price': '20.7', 'closing_price': '20.36', 'min_price': '20.07', 'max_price': '21.2', 'units_traded': '4210759.20644132', 'acc_trade_value': '86433446.7421', 'prev_closing_price': '20.5', 'units_traded_24H': '6737323.52719207', 'acc_trade_value_24H': '138086301.746', 'fluctate_24H': '0', 'fluctate_rate_24H': '0.00'}\n",
      "REQ {'opening_price': '99.67', 'closing_price': '100.8', 'min_price': '97.08', 'max_price': '102', 'units_traded': '259348.61510099', 'acc_trade_value': '25645829.2301', 'prev_closing_price': '99.67', 'units_traded_24H': '1068931.70880742', 'acc_trade_value_24H': '107968322.1963', 'fluctate_24H': '-0.1', 'fluctate_rate_24H': '-0.1'}\n",
      "CSPR {'opening_price': '44.83', 'closing_price': '46.01', 'min_price': '44.44', 'max_price': '46.06', 'units_traded': '610650.1819', 'acc_trade_value': '27715867.9919', 'prev_closing_price': '44.83', 'units_traded_24H': '1945799.77215243', 'acc_trade_value_24H': '88092498.4812', 'fluctate_24H': '-0.46', 'fluctate_rate_24H': '-0.99'}\n",
      "AVAX {'opening_price': '15350', 'closing_price': '15420', 'min_price': '14980', 'max_price': '15440', 'units_traded': '9219.07959255', 'acc_trade_value': '140863097.5419', 'prev_closing_price': '15350', 'units_traded_24H': '48590.93624911', 'acc_trade_value_24H': '759067132.5309', 'fluctate_24H': '-280', 'fluctate_rate_24H': '-1.78'}\n",
      "TDROP {'opening_price': '1.66', 'closing_price': '1.696', 'min_price': '1.628', 'max_price': '1.696', 'units_traded': '29718700.6308862', 'acc_trade_value': '49221369.8209', 'prev_closing_price': '1.68', 'units_traded_24H': '58577006.26386169', 'acc_trade_value_24H': '97128131.51', 'fluctate_24H': '0.008', 'fluctate_rate_24H': '0.47'}\n",
      "HBAR {'opening_price': '68.99', 'closing_price': '71.36', 'min_price': '68.3', 'max_price': '71.36', 'units_traded': '125294.33892554', 'acc_trade_value': '8658976.9161', 'prev_closing_price': '70.28', 'units_traded_24H': '844318.28440789', 'acc_trade_value_24H': '60120752.3949', 'fluctate_24H': '-0.94', 'fluctate_rate_24H': '-1.30'}\n",
      "FANC {'opening_price': '19.67', 'closing_price': '19.78', 'min_price': '19.51', 'max_price': '20.66', 'units_traded': '9015203.09037972', 'acc_trade_value': '180255260.3357', 'prev_closing_price': '19.64', 'units_traded_24H': '23436740.23270897', 'acc_trade_value_24H': '470244867.7027', 'fluctate_24H': '-0.25', 'fluctate_rate_24H': '-1.25'}\n",
      "NPT {'opening_price': '409.2', 'closing_price': '418.2', 'min_price': '402.6', 'max_price': '419.8', 'units_traded': '99557.15233606', 'acc_trade_value': '40801627.9435', 'prev_closing_price': '406.4', 'units_traded_24H': '304868.19278691', 'acc_trade_value_24H': '124477918.3093', 'fluctate_24H': '12.8', 'fluctate_rate_24H': '3.16'}\n",
      "REI {'opening_price': '35.22', 'closing_price': '36.14', 'min_price': '34.94', 'max_price': '36.14', 'units_traded': '2056620.5271', 'acc_trade_value': '72935302.5192', 'prev_closing_price': '35.27', 'units_traded_24H': '5422975.68180623', 'acc_trade_value_24H': '193080977.8632', 'fluctate_24H': '0.2', 'fluctate_rate_24H': '0.56'}\n",
      "T {'opening_price': '29.87', 'closing_price': '33.3', 'min_price': '29.13', 'max_price': '33.76', 'units_traded': '31063609.36850157', 'acc_trade_value': '992537353.0948', 'prev_closing_price': '29.87', 'units_traded_24H': '53338091.14301452', 'acc_trade_value_24H': '1678265808.095', 'fluctate_24H': '1.49', 'fluctate_rate_24H': '4.68'}\n",
      "MBX {'opening_price': '811.9', 'closing_price': '810.4', 'min_price': '805', 'max_price': '818.8', 'units_traded': '126165.04563787', 'acc_trade_value': '102093267.5513', 'prev_closing_price': '806.2', 'units_traded_24H': '343382.75587131', 'acc_trade_value_24H': '278246845.2884', 'fluctate_24H': '-0.3', 'fluctate_rate_24H': '-0.04'}\n",
      "GMT {'opening_price': '245.4', 'closing_price': '250.7', 'min_price': '235.8', 'max_price': '252.6', 'units_traded': '1403553.87738542', 'acc_trade_value': '343865570.6868', 'prev_closing_price': '244.7', 'units_traded_24H': '4578596.73789361', 'acc_trade_value_24H': '1154260496.5876', 'fluctate_24H': '-14.6', 'fluctate_rate_24H': '-5.50'}\n",
      "TAVA {'opening_price': '65.49', 'closing_price': '64.99', 'min_price': '63.99', 'max_price': '68.43', 'units_traded': '2243877.45554056', 'acc_trade_value': '148685327.873', 'prev_closing_price': '65.53', 'units_traded_24H': '2699310.06583153', 'acc_trade_value_24H': '178199878.6154', 'fluctate_24H': '0.05', 'fluctate_rate_24H': '0.08'}\n",
      "DAR {'opening_price': '131.4', 'closing_price': '131.8', 'min_price': '126.5', 'max_price': '132.5', 'units_traded': '304098.63736556', 'acc_trade_value': '39344632.1456', 'prev_closing_price': '130.5', 'units_traded_24H': '944037.17330201', 'acc_trade_value_24H': '126153519.8721', 'fluctate_24H': '-7.1', 'fluctate_rate_24H': '-5.11'}\n",
      "APE {'opening_price': '1793', 'closing_price': '1799', 'min_price': '1743', 'max_price': '1801', 'units_traded': '7317.70590849', 'acc_trade_value': '13024149.6048', 'prev_closing_price': '1793', 'units_traded_24H': '18113.14663376', 'acc_trade_value_24H': '32831565.5057', 'fluctate_24H': '-68', 'fluctate_rate_24H': '-3.64'}\n",
      "WNCG {'opening_price': '122.2', 'closing_price': '106.7', 'min_price': '100', 'max_price': '124', 'units_traded': '15596938.63786407', 'acc_trade_value': '1681999632.8108', 'prev_closing_price': '122.2', 'units_traded_24H': '41831216.38259329', 'acc_trade_value_24H': '4836033421.9123', 'fluctate_24H': '-16.3', 'fluctate_rate_24H': '-13.25'}\n",
      "ALT {'opening_price': '395.7', 'closing_price': '388.4', 'min_price': '384.6', 'max_price': '395.7', 'units_traded': '490159.14557968', 'acc_trade_value': '190470459.3606', 'prev_closing_price': '394.1', 'units_traded_24H': '1524312.70830068', 'acc_trade_value_24H': '596542543.3901', 'fluctate_24H': '-3.5', 'fluctate_rate_24H': '-0.89'}\n",
      "XCN {'opening_price': '1.039', 'closing_price': '1.036', 'min_price': '1.026', 'max_price': '1.05', 'units_traded': '23603896.57985138', 'acc_trade_value': '24436319.7849', 'prev_closing_price': '1.04', 'units_traded_24H': '52811435.0328832', 'acc_trade_value_24H': '55074008.8748', 'fluctate_24H': '-0.023', 'fluctate_rate_24H': '-2.17'}\n",
      "GXA {'opening_price': '6.094', 'closing_price': '6', 'min_price': '5.94', 'max_price': '6.161', 'units_traded': '5783670.87660161', 'acc_trade_value': '34718253.7972', 'prev_closing_price': '6.155', 'units_traded_24H': '22009855.6047065', 'acc_trade_value_24H': '133616196.467', 'fluctate_24H': '-0.239', 'fluctate_rate_24H': '-3.83'}\n",
      "AZIT {'opening_price': '59.87', 'closing_price': '59.3', 'min_price': '58.27', 'max_price': '60.1', 'units_traded': '1362637.67237202', 'acc_trade_value': '81011965.9543', 'prev_closing_price': '60.08', 'units_traded_24H': '3395894.09517453', 'acc_trade_value_24H': '202895392.5587', 'fluctate_24H': '-1.24', 'fluctate_rate_24H': '-2.05'}\n",
      "FLR {'opening_price': '14.11', 'closing_price': '14.2', 'min_price': '13.89', 'max_price': '14.39', 'units_traded': '1924861.76164752', 'acc_trade_value': '27043579.1172', 'prev_closing_price': '14.12', 'units_traded_24H': '6766259.97423783', 'acc_trade_value_24H': '96084635.7895', 'fluctate_24H': '-0.28', 'fluctate_rate_24H': '-1.93'}\n",
      "SFP {'opening_price': '942.5', 'closing_price': '952.7', 'min_price': '910.3', 'max_price': '952.7', 'units_traded': '27949.12104258', 'acc_trade_value': '26139726.6273', 'prev_closing_price': '944', 'units_traded_24H': '96759.504259', 'acc_trade_value_24H': '93032710.6472', 'fluctate_24H': '-21.3', 'fluctate_rate_24H': '-2.19'}\n",
      "FITFI {'opening_price': '7.015', 'closing_price': '6.961', 'min_price': '6.599', 'max_price': '7.043', 'units_traded': '30659571.11106597', 'acc_trade_value': '209926284.3237', 'prev_closing_price': '7.029', 'units_traded_24H': '85395989.15819956', 'acc_trade_value_24H': '614645685.7155', 'fluctate_24H': '-0.869', 'fluctate_rate_24H': '-11.1'}\n",
      "STAT {'opening_price': '104', 'closing_price': '97.87', 'min_price': '95.9', 'max_price': '104', 'units_traded': '2726723.38316272', 'acc_trade_value': '269791755.3258', 'prev_closing_price': '104', 'units_traded_24H': '6088766.93270854', 'acc_trade_value_24H': '615925397.0324', 'fluctate_24H': '-5.13', 'fluctate_rate_24H': '-4.98'}\n",
      "CRTS {'opening_price': '0.2288', 'closing_price': '0.2295', 'min_price': '0.2281', 'max_price': '0.2309', 'units_traded': '933033910.4977045', 'acc_trade_value': '213497404.2944', 'prev_closing_price': '0.2288', 'units_traded_24H': '2405159419.69197541', 'acc_trade_value_24H': '551106158.6709', 'fluctate_24H': '-0.0033', 'fluctate_rate_24H': '-1.42'}\n",
      "VIX {'opening_price': '7.461', 'closing_price': '7.522', 'min_price': '7.41', 'max_price': '7.551', 'units_traded': '1390373.38247313', 'acc_trade_value': '10375623.7391', 'prev_closing_price': '7.454', 'units_traded_24H': '7764235.33961792', 'acc_trade_value_24H': '58311719.2892', 'fluctate_24H': '-0.119', 'fluctate_rate_24H': '-1.56'}\n",
      "LBL {'opening_price': '2.272', 'closing_price': '2.247', 'min_price': '2.207', 'max_price': '2.276', 'units_traded': '14656380.44483021', 'acc_trade_value': '32724502.2555', 'prev_closing_price': '2.272', 'units_traded_24H': '31028552.15214186', 'acc_trade_value_24H': '69703787.884', 'fluctate_24H': '-0.027', 'fluctate_rate_24H': '-1.19'}\n",
      "FLZ {'opening_price': '3508', 'closing_price': '3419', 'min_price': '3334', 'max_price': '3647', 'units_traded': '57650.33183936', 'acc_trade_value': '199819908.3335', 'prev_closing_price': '3508', 'units_traded_24H': '93340.05859259', 'acc_trade_value_24H': '326041205.7821', 'fluctate_24H': '-103', 'fluctate_rate_24H': '-2.92'}\n",
      "LM {'opening_price': '11.87', 'closing_price': '11.52', 'min_price': '11.4', 'max_price': '11.89', 'units_traded': '51823088.49522327', 'acc_trade_value': '600208461.4859', 'prev_closing_price': '11.86', 'units_traded_24H': '142759088.83684022', 'acc_trade_value_24H': '1679357306.643', 'fluctate_24H': '-0.33', 'fluctate_rate_24H': '-2.78'}\n",
      "GRND {'opening_price': '193.4', 'closing_price': '192.8', 'min_price': '191.3', 'max_price': '196.6', 'units_traded': '237958.6185', 'acc_trade_value': '45968447.7615', 'prev_closing_price': '194.1', 'units_traded_24H': '573022.08812169', 'acc_trade_value_24H': '111849111.3516', 'fluctate_24H': '-4.2', 'fluctate_rate_24H': '-2.13'}\n",
      "APT {'opening_price': '9470', 'closing_price': '9535', 'min_price': '9155', 'max_price': '9660', 'units_traded': '32502.69026523', 'acc_trade_value': '304772076.6541', 'prev_closing_price': '9465', 'units_traded_24H': '236535.69102384', 'acc_trade_value_24H': '2302744126.7391', 'fluctate_24H': '-475', 'fluctate_rate_24H': '-4.75'}\n",
      "BLUR {'opening_price': '317.5', 'closing_price': '321.4', 'min_price': '308.3', 'max_price': '323.5', 'units_traded': '1324684.2603091', 'acc_trade_value': '420675347.4147', 'prev_closing_price': '317.3', 'units_traded_24H': '5945107.53635509', 'acc_trade_value_24H': '1954950762.6347', 'fluctate_24H': '-23.3', 'fluctate_rate_24H': '-6.76'}\n",
      "OAS {'opening_price': '61', 'closing_price': '60.1', 'min_price': '59.24', 'max_price': '63', 'units_traded': '488644.61885425', 'acc_trade_value': '29425828.3157', 'prev_closing_price': '61.19', 'units_traded_24H': '1186981.38696725', 'acc_trade_value_24H': '72528909.145', 'fluctate_24H': '-0.4', 'fluctate_rate_24H': '-0.66'}\n",
      "HOOK {'opening_price': '1247', 'closing_price': '1256', 'min_price': '1207', 'max_price': '1282', 'units_traded': '31393.5019', 'acc_trade_value': '38956213.7835', 'prev_closing_price': '1247', 'units_traded_24H': '96463.82323934', 'acc_trade_value_24H': '123030757.1389', 'fluctate_24H': '-89', 'fluctate_rate_24H': '-6.62'}\n",
      "ENTC {'opening_price': '241.3', 'closing_price': '238.3', 'min_price': '232.7', 'max_price': '243.1', 'units_traded': '14617974.63379516', 'acc_trade_value': '3439996880.1352', 'prev_closing_price': '241', 'units_traded_24H': '51295488.70943454', 'acc_trade_value_24H': '12348415716.6141', 'fluctate_24H': '-6.2', 'fluctate_rate_24H': '-2.54'}\n",
      "ONIT {'opening_price': '33.31', 'closing_price': '32.65', 'min_price': '32.65', 'max_price': '33.5', 'units_traded': '407579.772', 'acc_trade_value': '13384895.9901', 'prev_closing_price': '33.7', 'units_traded_24H': '917308.0462206', 'acc_trade_value_24H': '30472203.7699', 'fluctate_24H': '-1.34', 'fluctate_rate_24H': '-3.94'}\n",
      "OP {'opening_price': '1870', 'closing_price': '1912', 'min_price': '1816', 'max_price': '1919', 'units_traded': '49179.74455966', 'acc_trade_value': '92230913.8959', 'prev_closing_price': '1871', 'units_traded_24H': '156908.80383448', 'acc_trade_value_24H': '298290566.154', 'fluctate_24H': '-30', 'fluctate_rate_24H': '-1.54'}\n",
      "ROA {'opening_price': '273.2', 'closing_price': '269.2', 'min_price': '260.5', 'max_price': '298.6', 'units_traded': '2887337.59252463', 'acc_trade_value': '787444976.9092', 'prev_closing_price': '273.2', 'units_traded_24H': '7876728.03060451', 'acc_trade_value_24H': '2167479021.6396', 'fluctate_24H': '-17', 'fluctate_rate_24H': '-5.94'}\n",
      "EVER {'opening_price': '33.08', 'closing_price': '30.18', 'min_price': '29.52', 'max_price': '33.08', 'units_traded': '7067580.06012262', 'acc_trade_value': '217825740.4992', 'prev_closing_price': '32.6', 'units_traded_24H': '16606522.74058537', 'acc_trade_value_24H': '537655369.2825', 'fluctate_24H': '-3.69', 'fluctate_rate_24H': '-10.89'}\n",
      "GMX {'opening_price': '60150', 'closing_price': '61150', 'min_price': '59000', 'max_price': '61150', 'units_traded': '51.06215928', 'acc_trade_value': '3054342.3449', 'prev_closing_price': '60100', 'units_traded_24H': '380.62907003', 'acc_trade_value_24H': '23028426.0149', 'fluctate_24H': '250', 'fluctate_rate_24H': '0.41'}\n",
      "STX {'opening_price': '837.4', 'closing_price': '847.2', 'min_price': '804.8', 'max_price': '852.1', 'units_traded': '353594.06041118', 'acc_trade_value': '294640492.9319', 'prev_closing_price': '837.4', 'units_traded_24H': '1016184.69044855', 'acc_trade_value_24H': '860621750.4929', 'fluctate_24H': '-17.9', 'fluctate_rate_24H': '-2.07'}\n",
      "XPLA {'opening_price': '253.7', 'closing_price': '253', 'min_price': '247', 'max_price': '290.8', 'units_traded': '1694972.23220606', 'acc_trade_value': '445276390.6638', 'prev_closing_price': '251.4', 'units_traded_24H': '2471709.49520874', 'acc_trade_value_24H': '642269996.8145', 'fluctate_24H': '-0.9', 'fluctate_rate_24H': '-0.35'}\n",
      "ARB {'opening_price': '1276', 'closing_price': '1307', 'min_price': '1234', 'max_price': '1308', 'units_traded': '353860.06409763', 'acc_trade_value': '449786045.5368', 'prev_closing_price': '1279', 'units_traded_24H': '711245.99520974', 'acc_trade_value_24H': '914295963.6541', 'fluctate_24H': '-17', 'fluctate_rate_24H': '-1.28'}\n",
      "INJ {'opening_price': '18000', 'closing_price': '19110', 'min_price': '17380', 'max_price': '19370', 'units_traded': '27478.76985479', 'acc_trade_value': '505578919.0579', 'prev_closing_price': '18030', 'units_traded_24H': '42156.30945754', 'acc_trade_value_24H': '771911899.9869', 'fluctate_24H': '1030', 'fluctate_rate_24H': '5.7'}\n",
      "HFT {'opening_price': '362.5', 'closing_price': '358.4', 'min_price': '345.5', 'max_price': '362.5', 'units_traded': '211343.98888647', 'acc_trade_value': '74734386.2687', 'prev_closing_price': '364.2', 'units_traded_24H': '396772.24595766', 'acc_trade_value_24H': '143935318.9817', 'fluctate_24H': '-27.1', 'fluctate_rate_24H': '-7.03'}\n",
      "RPL {'opening_price': '32130', 'closing_price': '31760', 'min_price': '30820', 'max_price': '32130', 'units_traded': '154.86766585', 'acc_trade_value': '4846415.5949', 'prev_closing_price': '32130', 'units_traded_24H': '1865.59443136', 'acc_trade_value_24H': '58919273.4859', 'fluctate_24H': '-210', 'fluctate_rate_24H': '-0.66'}\n",
      "IMX {'opening_price': '878.5', 'closing_price': '889', 'min_price': '854.2', 'max_price': '897.2', 'units_traded': '13304.53636327', 'acc_trade_value': '11571351.2256', 'prev_closing_price': '883.9', 'units_traded_24H': '67115.16171042', 'acc_trade_value_24H': '60255188.0126', 'fluctate_24H': '-38.5', 'fluctate_rate_24H': '-4.15'}\n",
      "CFX {'opening_price': '222.6', 'closing_price': '231.8', 'min_price': '214.2', 'max_price': '238.9', 'units_traded': '974891.2760573', 'acc_trade_value': '222263070.3042', 'prev_closing_price': '222.3', 'units_traded_24H': '2976786.747441', 'acc_trade_value_24H': '674260207.8001', 'fluctate_24H': '9.9', 'fluctate_rate_24H': '4.46'}\n",
      "ACS {'opening_price': '2.84', 'closing_price': '2.82', 'min_price': '2.784', 'max_price': '2.849', 'units_traded': '3586668.71601091', 'acc_trade_value': '10084644.499', 'prev_closing_price': '2.84', 'units_traded_24H': '13661310.60793703', 'acc_trade_value_24H': '38879388.1118', 'fluctate_24H': '-0.051', 'fluctate_rate_24H': '-1.78'}\n",
      "FXS {'opening_price': '7885', 'closing_price': '7885', 'min_price': '7715', 'max_price': '7950', 'units_traded': '4575.66167163', 'acc_trade_value': '35881767.9229', 'prev_closing_price': '7940', 'units_traded_24H': '9003.91767163', 'acc_trade_value_24H': '71885106.0884', 'fluctate_24H': '-395', 'fluctate_rate_24H': '-4.77'}\n",
      "CELO {'opening_price': '648.4', 'closing_price': '663.6', 'min_price': '633.3', 'max_price': '663.6', 'units_traded': '68727.94860338', 'acc_trade_value': '44332509.098', 'prev_closing_price': '651', 'units_traded_24H': '203158.27552342', 'acc_trade_value_24H': '134514744.3542', 'fluctate_24H': '-21.4', 'fluctate_rate_24H': '-3.12'}\n",
      "LDO {'opening_price': '2411', 'closing_price': '2505', 'min_price': '2349', 'max_price': '2505', 'units_traded': '8429.25226898', 'acc_trade_value': '20245333.8691', 'prev_closing_price': '2411', 'units_traded_24H': '19332.18969207', 'acc_trade_value_24H': '47123913.0067', 'fluctate_24H': '-3', 'fluctate_rate_24H': '-0.12'}\n",
      "FTM {'opening_price': '330.4', 'closing_price': '332.7', 'min_price': '322.2', 'max_price': '333.4', 'units_traded': '27440.8577', 'acc_trade_value': '8922789.8814', 'prev_closing_price': '331', 'units_traded_24H': '102406.33101941', 'acc_trade_value_24H': '33779146.3566', 'fluctate_24H': '2.6', 'fluctate_rate_24H': '0.79'}\n",
      "FET {'opening_price': '489.9', 'closing_price': '493', 'min_price': '458.3', 'max_price': '495.5', 'units_traded': '195242.33690454', 'acc_trade_value': '93095108.2563', 'prev_closing_price': '490.9', 'units_traded_24H': '604821.81490844', 'acc_trade_value_24H': '298133213.5028', 'fluctate_24H': '2.1', 'fluctate_rate_24H': '0.43'}\n",
      "SUI {'opening_price': '598', 'closing_price': '606.6', 'min_price': '575', 'max_price': '607.5', 'units_traded': '1771997.40266673', 'acc_trade_value': '1046204725.7596', 'prev_closing_price': '596.5', 'units_traded_24H': '4478155.76024596', 'acc_trade_value_24H': '2713990074.3028', 'fluctate_24H': '-32.4', 'fluctate_rate_24H': '-5.07'}\n",
      "NCT {'opening_price': '10.29', 'closing_price': '10.09', 'min_price': '9.979', 'max_price': '10.33', 'units_traded': '187152192.33403595', 'acc_trade_value': '1889270971.675', 'prev_closing_price': '10.28', 'units_traded_24H': '222406364.04114531', 'acc_trade_value_24H': '2247504351.5276', 'fluctate_24H': '-0.06', 'fluctate_rate_24H': '-0.59'}\n",
      "FLOKI {'opening_price': '0.0448', 'closing_price': '0.0442', 'min_price': '0.0426', 'max_price': '0.045', 'units_traded': '2963470535.70520619', 'acc_trade_value': '129967564.9886', 'prev_closing_price': '0.0447', 'units_traded_24H': '15900169687.30372309', 'acc_trade_value_24H': '734739058.7564', 'fluctate_24H': '-0.005', 'fluctate_rate_24H': '-10.16'}\n",
      "ALEX {'opening_price': '69', 'closing_price': '67', 'min_price': '65.61', 'max_price': '69.1', 'units_traded': '1572611.351354', 'acc_trade_value': '105407645.662', 'prev_closing_price': '69.1', 'units_traded_24H': '3995711.92610614', 'acc_trade_value_24H': '272496208.4787', 'fluctate_24H': '-1.9', 'fluctate_rate_24H': '-2.76'}\n",
      "ID {'opening_price': '332.5', 'closing_price': '336.3', 'min_price': '322.4', 'max_price': '338.1', 'units_traded': '203091.27885016', 'acc_trade_value': '67094341.1623', 'prev_closing_price': '334.1', 'units_traded_24H': '1900196.86698564', 'acc_trade_value_24H': '672581474.9482', 'fluctate_24H': '-30.7', 'fluctate_rate_24H': '-8.37'}\n",
      "RNDR {'opening_price': '3177', 'closing_price': '3256', 'min_price': '3125', 'max_price': '3256', 'units_traded': '13108.9467', 'acc_trade_value': '41673539.907', 'prev_closing_price': '3179', 'units_traded_24H': '34217.82049109', 'acc_trade_value_24H': '111497572.4136', 'fluctate_24H': '-134', 'fluctate_rate_24H': '-3.95'}\n",
      "STG {'opening_price': '642', 'closing_price': '636.3', 'min_price': '621.2', 'max_price': '642', 'units_traded': '172046.0651', 'acc_trade_value': '108272154.957', 'prev_closing_price': '642.5', 'units_traded_24H': '324149.54945654', 'acc_trade_value_24H': '208245263.7676', 'fluctate_24H': '-47.7', 'fluctate_rate_24H': '-6.97'}\n",
      "GAL {'opening_price': '1837', 'closing_price': '1865', 'min_price': '1768', 'max_price': '1936', 'units_traded': '57865.93950251', 'acc_trade_value': '107495153.4273', 'prev_closing_price': '1839', 'units_traded_24H': '100596.86629068', 'acc_trade_value_24H': '185475880.8172', 'fluctate_24H': '33', 'fluctate_rate_24H': '1.80'}\n",
      "ILV {'opening_price': '66100', 'closing_price': '66600', 'min_price': '60800', 'max_price': '66750', 'units_traded': '674.57174018', 'acc_trade_value': '44309912.6299', 'prev_closing_price': '66400', 'units_traded_24H': '1551.01193435', 'acc_trade_value_24H': '103062143.9199', 'fluctate_24H': '-700', 'fluctate_rate_24H': '-1.04'}\n",
      "MAV {'opening_price': '319.5', 'closing_price': '318.2', 'min_price': '305.8', 'max_price': '319.5', 'units_traded': '51046.31499719', 'acc_trade_value': '15939329.3868', 'prev_closing_price': '319.3', 'units_traded_24H': '252126.08007737', 'acc_trade_value_24H': '81508462.5156', 'fluctate_24H': '-13.2', 'fluctate_rate_24H': '-3.98'}\n",
      "RSS3 {'opening_price': '120', 'closing_price': '119', 'min_price': '116.6', 'max_price': '120.1', 'units_traded': '328272.80296978', 'acc_trade_value': '39094555.0538', 'prev_closing_price': '121', 'units_traded_24H': '941537.03585028', 'acc_trade_value_24H': '113588298.6624', 'fluctate_24H': '-0.6', 'fluctate_rate_24H': '-0.50'}\n",
      "AGI {'opening_price': '20.4', 'closing_price': '18.96', 'min_price': '18.63', 'max_price': '20.79', 'units_traded': '19268057.31143565', 'acc_trade_value': '368531684.0891', 'prev_closing_price': '20.28', 'units_traded_24H': '53257628.17335246', 'acc_trade_value_24H': '1054299677.066', 'fluctate_24H': '-1.3', 'fluctate_rate_24H': '-6.42'}\n",
      "RDNT {'opening_price': '337', 'closing_price': '336.8', 'min_price': '324', 'max_price': '337.4', 'units_traded': '267010.0604217', 'acc_trade_value': '88276454.0663', 'prev_closing_price': '335.7', 'units_traded_24H': '879716.69212243', 'acc_trade_value_24H': '295329079.3996', 'fluctate_24H': '-0.9', 'fluctate_rate_24H': '-0.27'}\n",
      "ASTR {'opening_price': '73.72', 'closing_price': '74.38', 'min_price': '70.37', 'max_price': '74.38', 'units_traded': '1040745.55276241', 'acc_trade_value': '74683283.6219', 'prev_closing_price': '73.77', 'units_traded_24H': '1864885.81771484', 'acc_trade_value_24H': '136444555.8566', 'fluctate_24H': '0.27', 'fluctate_rate_24H': '0.36'}\n",
      "WLD {'opening_price': '2709', 'closing_price': '2770', 'min_price': '2620', 'max_price': '2779', 'units_traded': '482978.81339739', 'acc_trade_value': '1315807032.3321', 'prev_closing_price': '2706', 'units_traded_24H': '1722056.26627687', 'acc_trade_value_24H': '4606914677.5169', 'fluctate_24H': '170', 'fluctate_rate_24H': '6.54'}\n",
      "FLUX {'opening_price': '503.3', 'closing_price': '499.4', 'min_price': '480.3', 'max_price': '522.7', 'units_traded': '93368.10696204', 'acc_trade_value': '46057352.4624', 'prev_closing_price': '508.2', 'units_traded_24H': '657673.99924785', 'acc_trade_value_24H': '338860350.5313', 'fluctate_24H': '-37.1', 'fluctate_rate_24H': '-6.92'}\n",
      "LEVER {'opening_price': '1.835', 'closing_price': '1.839', 'min_price': '1.774', 'max_price': '1.89', 'units_traded': '87920555.77314177', 'acc_trade_value': '159252149.651', 'prev_closing_price': '1.852', 'units_traded_24H': '228069212.54003122', 'acc_trade_value_24H': '425164131.6445', 'fluctate_24H': '-0.106', 'fluctate_rate_24H': '-5.45'}\n",
      "EDU {'opening_price': '689', 'closing_price': '695.7', 'min_price': '676', 'max_price': '695.7', 'units_traded': '15150.69616437', 'acc_trade_value': '10404478.6521', 'prev_closing_price': '689', 'units_traded_24H': '65688.12558192', 'acc_trade_value_24H': '47030916.2654', 'fluctate_24H': '-49.3', 'fluctate_rate_24H': '-6.62'}\n",
      "SEI {'opening_price': '151', 'closing_price': '151.9', 'min_price': '146', 'max_price': '152.7', 'units_traded': '4617346.8563112', 'acc_trade_value': '689805049.6494', 'prev_closing_price': '150.9', 'units_traded_24H': '10936874.38224131', 'acc_trade_value_24H': '1665098219.2317', 'fluctate_24H': '-3.5', 'fluctate_rate_24H': '-2.25'}\n",
      "PEPE {'opening_price': '0.0016', 'closing_price': '0.0016', 'min_price': '0.0015', 'max_price': '0.0016', 'units_traded': '38865632893.7877', 'acc_trade_value': '58396836.8237', 'prev_closing_price': '0.0016', 'units_traded_24H': '149458820567.89298235', 'acc_trade_value_24H': '234532606.8332', 'fluctate_24H': '-0.0001', 'fluctate_rate_24H': '-5.88'}\n",
      "CYBER {'opening_price': '9675', 'closing_price': '9420', 'min_price': '9135', 'max_price': '9880', 'units_traded': '183552.65375402', 'acc_trade_value': '1752956291.141', 'prev_closing_price': '9710', 'units_traded_24H': '854712.64681641', 'acc_trade_value_24H': '8275551648.9671', 'fluctate_24H': '670', 'fluctate_rate_24H': '7.66'}\n",
      "ARKM {'opening_price': '512.3', 'closing_price': '504.3', 'min_price': '482', 'max_price': '512.3', 'units_traded': '138519.35790234', 'acc_trade_value': '68708638.9521', 'prev_closing_price': '511.6', 'units_traded_24H': '463978.99301056', 'acc_trade_value_24H': '242862060.0942', 'fluctate_24H': '-42.5', 'fluctate_rate_24H': '-7.77'}\n",
      "PYR {'opening_price': '5420', 'closing_price': '5390', 'min_price': '5035', 'max_price': '5560', 'units_traded': '87371.06791347', 'acc_trade_value': '462983183.9509', 'prev_closing_price': '5420', 'units_traded_24H': '134739.20467315', 'acc_trade_value_24H': '723278888.3629', 'fluctate_24H': '-145', 'fluctate_rate_24H': '-2.62'}\n",
      "ZTX {'opening_price': '14.59', 'closing_price': '14', 'min_price': '13.5', 'max_price': '14.66', 'units_traded': '26388038.30024443', 'acc_trade_value': '365744330.882', 'prev_closing_price': '14.59', 'units_traded_24H': '55122537.29954603', 'acc_trade_value_24H': '795162545.5877', 'fluctate_24H': '-1.66', 'fluctate_rate_24H': '-10.60'}\n",
      "TIA {'opening_price': '3299', 'closing_price': '3172', 'min_price': '2976', 'max_price': '27070', 'units_traded': '5125057.01176766', 'acc_trade_value': '24399033851.2977', 'prev_closing_price': '3299', 'units_traded_24H': '5125057.01176766', 'acc_trade_value_24H': '24399033851.2977', 'fluctate_24H': '-127', 'fluctate_rate_24H': '-3.85'}\n"
     ]
    }
   ],
   "source": [
    "all = pybithumb.get_current_price('ALL')\n",
    "for ticker, price in all.items():\n",
    "    print(ticker, price)"
   ]
  },
  {
   "cell_type": "code",
   "execution_count": 29,
   "metadata": {},
   "outputs": [
    {
     "name": "stdout",
     "output_type": "stream",
     "text": [
      "BTC 46925000\n",
      "ETH 2478000\n",
      "ETC 24250\n",
      "XRP 810.6\n",
      "BCH 332400\n",
      "QTUM 4232\n",
      "BTG 20530\n",
      "EOS 865.2\n",
      "ICX 299\n",
      "TRX 132.4\n",
      "ELF 488.3\n",
      "KNC 1023\n",
      "GLM 297.2\n",
      "ZIL 26.67\n",
      "WAXP 83.9\n",
      "POWR 318.4\n",
      "LRC 269.6\n",
      "STEEM 299.9\n",
      "STRAX 1311\n",
      "ZRX 378.7\n",
      "SNT 69.78\n",
      "ADA 398.8\n",
      "CTXC 185.4\n",
      "BAT 285\n",
      "THETA 1038\n",
      "LOOM 161.5\n",
      "WAVES 2408\n",
      "LINK 15440\n",
      "ENJ 334.1\n",
      "VET 25.77\n",
      "MTL 2135\n",
      "IOST 11.23\n",
      "AMO 0.6688\n",
      "BSV 66150\n",
      "ORBS 59.66\n",
      "TFUEL 54.31\n",
      "VALOR 172\n",
      "CON 7.596\n",
      "ANKR 31.44\n",
      "MIX 1.669\n",
      "CRO 82.92\n",
      "FX 172.9\n",
      "CHR 157.9\n",
      "MBL 4.97\n",
      "MXC 8.845\n",
      "FCT2 85.47\n",
      "WOM 21\n",
      "BOA 12.77\n",
      "MEV 6.145\n",
      "SXP 419.5\n",
      "COS 6.591\n",
      "EL 2.682\n",
      "HIVE 457.4\n",
      "XPR 0.8969\n",
      "VRA 8.347\n",
      "FIT 0.5329\n",
      "EGG 4.358\n",
      "BORA 174\n",
      "ARPA 64.88\n",
      "CTC 218.2\n",
      "APM 7.892\n",
      "CKB 3.958\n",
      "AERGO 179.6\n",
      "EVZ 9.282\n",
      "QTCON 2.015\n",
      "UNI 5655\n",
      "YFI 7783000\n",
      "UMA 2011\n",
      "AAVE 111400\n",
      "COMP 62350\n",
      "BAL 4666\n",
      "RSR 2.787\n",
      "NMR 18880\n",
      "RLC 1547\n",
      "UOS 230\n",
      "SAND 471.4\n",
      "STPT 91\n",
      "BEL 849.8\n",
      "OBSR 1.848\n",
      "ORC 75.15\n",
      "POLA 16.74\n",
      "ADP 2\n",
      "DVI 14.35\n",
      "GHX 8.43\n",
      "MVC 2.489\n",
      "BLY 6.094\n",
      "WOZX 29.79\n",
      "ANV 21.2\n",
      "GRT 143\n",
      "BIOT 1.334\n",
      "SNX 3072\n",
      "SOFI 30.94\n",
      "GRACY 34.88\n",
      "OXT 92.63\n",
      "MAP 10.33\n",
      "AQT 1531\n",
      "PLA 248.2\n",
      "WIKEN 8.561\n",
      "CTSI 199.3\n",
      "MANA 494.2\n",
      "LPT 8430\n",
      "MKR 1856000\n",
      "SUSHI 1054\n",
      "ASM 29.54\n",
      "PUNDIX 595.4\n",
      "CELR 19.17\n",
      "FRONT 449.9\n",
      "RLY 8.002\n",
      "OCEAN 518.1\n",
      "BFC 59.64\n",
      "ALICE 1181\n",
      "OGN 162\n",
      "COTI 62.31\n",
      "CAKE 1689\n",
      "BNT 726.9\n",
      "XVS 7195\n",
      "SWAP 130\n",
      "CHZ 91.4\n",
      "AXS 7385\n",
      "DAO 817.2\n",
      "SIX 32.06\n",
      "DAI 1358\n",
      "SHIB 0.0107\n",
      "MATIC 870\n",
      "WOO 293.2\n",
      "ACH 21.77\n",
      "VELO 3.538\n",
      "XLM 163.2\n",
      "ONT 279.7\n",
      "META 56.72\n",
      "KLAY 181.6\n",
      "ONG 436\n",
      "ALGO 149.5\n",
      "JST 41.66\n",
      "XTZ 1034\n",
      "MLK 392.9\n",
      "DOT 6085\n",
      "ATOM 10820\n",
      "SSX 26.43\n",
      "TEMCO 2.392\n",
      "DOGE 92.81\n",
      "KSM 29350\n",
      "CTK 652.1\n",
      "BNB 308000\n",
      "NFT 0.0004\n",
      "SUN 8.748\n",
      "XEC 0.0381\n",
      "AGIX 311.7\n",
      "SOL 52200\n",
      "FNSA 34370\n",
      "EGLD 40920\n",
      "MASK 4008\n",
      "DFA 28.48\n",
      "C98 247.5\n",
      "MED 14.45\n",
      "1INCH 401\n",
      "CRV 659.8\n",
      "BOBA 163.2\n",
      "DYDX 3161\n",
      "FLOW 708.7\n",
      "JOE 362.8\n",
      "GALA 26.01\n",
      "BTT 0.0007\n",
      "JASMY 5.281\n",
      "TITAN 20.36\n",
      "REQ 100.8\n",
      "CSPR 46.01\n",
      "AVAX 15420\n",
      "TDROP 1.696\n",
      "HBAR 71.36\n",
      "FANC 19.78\n",
      "NPT 418.2\n",
      "REI 36.14\n",
      "T 33.3\n",
      "MBX 810.4\n",
      "GMT 250.7\n",
      "TAVA 64.99\n",
      "DAR 131.8\n",
      "APE 1799\n",
      "WNCG 106.7\n",
      "ALT 388.4\n",
      "XCN 1.036\n",
      "GXA 6\n",
      "AZIT 59.3\n",
      "FLR 14.2\n",
      "SFP 952.7\n",
      "FITFI 6.961\n",
      "STAT 97.87\n",
      "CRTS 0.2295\n",
      "VIX 7.522\n",
      "LBL 2.247\n",
      "FLZ 3419\n",
      "LM 11.52\n",
      "GRND 192.8\n",
      "APT 9535\n",
      "BLUR 321.4\n",
      "OAS 60.1\n",
      "HOOK 1256\n",
      "ENTC 238.3\n",
      "ONIT 32.65\n",
      "OP 1912\n",
      "ROA 269.2\n",
      "EVER 30.18\n",
      "GMX 61150\n",
      "STX 847.2\n",
      "XPLA 253\n",
      "ARB 1307\n",
      "INJ 19110\n",
      "HFT 358.4\n",
      "RPL 31760\n",
      "IMX 889\n",
      "CFX 231.8\n",
      "ACS 2.82\n",
      "FXS 7885\n",
      "CELO 663.6\n",
      "LDO 2505\n",
      "FTM 332.7\n",
      "FET 493\n",
      "SUI 606.6\n",
      "NCT 10.09\n",
      "FLOKI 0.0442\n",
      "ALEX 67\n",
      "ID 336.3\n",
      "RNDR 3256\n",
      "STG 636.3\n",
      "GAL 1865\n",
      "ILV 66600\n",
      "MAV 318.2\n",
      "RSS3 119\n",
      "AGI 18.96\n",
      "RDNT 336.8\n",
      "ASTR 74.38\n",
      "WLD 2770\n",
      "FLUX 499.4\n",
      "LEVER 1.839\n",
      "EDU 695.7\n",
      "SEI 151.9\n",
      "PEPE 0.0016\n",
      "CYBER 9420\n",
      "ARKM 504.3\n",
      "PYR 5390\n",
      "ZTX 14\n",
      "TIA 3172\n"
     ]
    }
   ],
   "source": [
    "for ticker, data in all.items():\n",
    "    print(ticker, data['closing_price'])"
   ]
  },
  {
   "cell_type": "markdown",
   "metadata": {},
   "source": [
    "### 5.1.7 예외처리"
   ]
  },
  {
   "cell_type": "code",
   "execution_count": 31,
   "metadata": {},
   "outputs": [
    {
     "name": "stdout",
     "output_type": "stream",
     "text": [
      "print-1\n"
     ]
    },
    {
     "ename": "KeyError",
     "evalue": "'open1'",
     "output_type": "error",
     "traceback": [
      "\u001b[1;31m---------------------------------------------------------------------------\u001b[0m",
      "\u001b[1;31mKeyError\u001b[0m                                  Traceback (most recent call last)",
      "\u001b[1;32m<ipython-input-31-161adf3d8b66>\u001b[0m in \u001b[0;36m<module>\u001b[1;34m\u001b[0m\n\u001b[0;32m      1\u001b[0m \u001b[0mprice\u001b[0m \u001b[1;33m=\u001b[0m \u001b[1;33m{\u001b[0m\u001b[1;34m'open'\u001b[0m\u001b[1;33m:\u001b[0m \u001b[1;36m100\u001b[0m\u001b[1;33m,\u001b[0m \u001b[1;34m'high'\u001b[0m\u001b[1;33m:\u001b[0m \u001b[1;36m150\u001b[0m\u001b[1;33m,\u001b[0m \u001b[1;34m'low'\u001b[0m\u001b[1;33m:\u001b[0m \u001b[1;36m90\u001b[0m\u001b[1;33m,\u001b[0m \u001b[1;34m'close'\u001b[0m\u001b[1;33m:\u001b[0m \u001b[1;36m130\u001b[0m\u001b[1;33m}\u001b[0m\u001b[1;33m\u001b[0m\u001b[1;33m\u001b[0m\u001b[0m\n\u001b[0;32m      2\u001b[0m \u001b[0mprint\u001b[0m\u001b[1;33m(\u001b[0m\u001b[1;34m'print-1'\u001b[0m\u001b[1;33m)\u001b[0m\u001b[1;33m\u001b[0m\u001b[1;33m\u001b[0m\u001b[0m\n\u001b[1;32m----> 3\u001b[1;33m \u001b[0mopen\u001b[0m \u001b[1;33m=\u001b[0m \u001b[0mprice\u001b[0m\u001b[1;33m[\u001b[0m\u001b[1;34m'open1'\u001b[0m\u001b[1;33m]\u001b[0m\u001b[1;33m\u001b[0m\u001b[1;33m\u001b[0m\u001b[0m\n\u001b[0m\u001b[0;32m      4\u001b[0m \u001b[0mprint\u001b[0m\u001b[1;33m(\u001b[0m\u001b[1;34m'print-2'\u001b[0m\u001b[1;33m)\u001b[0m\u001b[1;33m\u001b[0m\u001b[1;33m\u001b[0m\u001b[0m\n",
      "\u001b[1;31mKeyError\u001b[0m: 'open1'"
     ]
    }
   ],
   "source": [
    "price = {'open': 100, 'high': 150, 'low': 90, 'close': 130}\n",
    "print('print-1')\n",
    "open = price['open1']\n",
    "print('print-2')"
   ]
  },
  {
   "cell_type": "code",
   "execution_count": 32,
   "metadata": {},
   "outputs": [
    {
     "name": "stdout",
     "output_type": "stream",
     "text": [
      "4695300.0\n",
      "4695300.0\n",
      "4695300.0\n",
      "4695300.0\n",
      "4694600.0\n",
      "4694600.0\n",
      "4695000.0\n",
      "4694500.0\n",
      "4694600.0\n",
      "4694500.0\n"
     ]
    },
    {
     "ename": "KeyboardInterrupt",
     "evalue": "",
     "output_type": "error",
     "traceback": [
      "\u001b[1;31m---------------------------------------------------------------------------\u001b[0m",
      "\u001b[1;31mKeyboardInterrupt\u001b[0m                         Traceback (most recent call last)",
      "\u001b[1;32m<ipython-input-32-782b5bdde496>\u001b[0m in \u001b[0;36m<module>\u001b[1;34m\u001b[0m\n\u001b[0;32m      2\u001b[0m     \u001b[0mprice\u001b[0m \u001b[1;33m=\u001b[0m \u001b[0mpybithumb\u001b[0m\u001b[1;33m.\u001b[0m\u001b[0mget_current_price\u001b[0m\u001b[1;33m(\u001b[0m\u001b[1;34m'BTC'\u001b[0m\u001b[1;33m)\u001b[0m\u001b[1;33m\u001b[0m\u001b[1;33m\u001b[0m\u001b[0m\n\u001b[0;32m      3\u001b[0m     \u001b[0mprint\u001b[0m\u001b[1;33m(\u001b[0m\u001b[0mprice\u001b[0m \u001b[1;33m/\u001b[0m \u001b[1;36m10\u001b[0m\u001b[1;33m)\u001b[0m\u001b[1;33m\u001b[0m\u001b[1;33m\u001b[0m\u001b[0m\n\u001b[1;32m----> 4\u001b[1;33m     \u001b[0mtime\u001b[0m\u001b[1;33m.\u001b[0m\u001b[0msleep\u001b[0m\u001b[1;33m(\u001b[0m\u001b[1;36m0.2\u001b[0m\u001b[1;33m)\u001b[0m\u001b[1;33m\u001b[0m\u001b[1;33m\u001b[0m\u001b[0m\n\u001b[0m",
      "\u001b[1;31mKeyboardInterrupt\u001b[0m: "
     ]
    }
   ],
   "source": [
    "# 예외처리 전\n",
    "while True:\n",
    "    price = pybithumb.get_current_price('BTC')\n",
    "    print(price / 10)\n",
    "    time.sleep(0.2)"
   ]
  },
  {
   "cell_type": "code",
   "execution_count": 33,
   "metadata": {},
   "outputs": [
    {
     "name": "stdout",
     "output_type": "stream",
     "text": [
      "4693700.0\n",
      "4693700.0\n",
      "4693700.0\n",
      "4693700.0\n",
      "4693700.0\n",
      "4693700.0\n",
      "4694700.0\n",
      "4693900.0\n",
      "4693700.0\n",
      "4693900.0\n",
      "4694700.0\n",
      "4693700.0\n",
      "4694700.0\n",
      "4693900.0\n"
     ]
    },
    {
     "ename": "KeyboardInterrupt",
     "evalue": "",
     "output_type": "error",
     "traceback": [
      "\u001b[1;31m---------------------------------------------------------------------------\u001b[0m",
      "\u001b[1;31mKeyboardInterrupt\u001b[0m                         Traceback (most recent call last)",
      "\u001b[1;32m<ipython-input-33-302e823e3afa>\u001b[0m in \u001b[0;36m<module>\u001b[1;34m\u001b[0m\n\u001b[0;32m      1\u001b[0m \u001b[1;31m# 예외처리 후\u001b[0m\u001b[1;33m\u001b[0m\u001b[1;33m\u001b[0m\u001b[1;33m\u001b[0m\u001b[0m\n\u001b[0;32m      2\u001b[0m \u001b[1;32mwhile\u001b[0m \u001b[1;32mTrue\u001b[0m\u001b[1;33m:\u001b[0m\u001b[1;33m\u001b[0m\u001b[1;33m\u001b[0m\u001b[0m\n\u001b[1;32m----> 3\u001b[1;33m     \u001b[0mprice\u001b[0m \u001b[1;33m=\u001b[0m \u001b[0mpybithumb\u001b[0m\u001b[1;33m.\u001b[0m\u001b[0mget_current_price\u001b[0m\u001b[1;33m(\u001b[0m\u001b[1;34m'BTC'\u001b[0m\u001b[1;33m)\u001b[0m\u001b[1;33m\u001b[0m\u001b[1;33m\u001b[0m\u001b[0m\n\u001b[0m\u001b[0;32m      4\u001b[0m     \u001b[1;32mif\u001b[0m \u001b[0mprice\u001b[0m \u001b[1;32mis\u001b[0m \u001b[1;32mnot\u001b[0m \u001b[1;32mNone\u001b[0m\u001b[1;33m:\u001b[0m\u001b[1;33m\u001b[0m\u001b[1;33m\u001b[0m\u001b[0m\n\u001b[0;32m      5\u001b[0m         \u001b[0mprint\u001b[0m\u001b[1;33m(\u001b[0m\u001b[0mprice\u001b[0m \u001b[1;33m/\u001b[0m \u001b[1;36m10\u001b[0m\u001b[1;33m)\u001b[0m\u001b[1;33m\u001b[0m\u001b[1;33m\u001b[0m\u001b[0m\n",
      "\u001b[1;32m~\\anaconda3\\lib\\site-packages\\pybithumb\\__init__.py\u001b[0m in \u001b[0;36mget_current_price\u001b[1;34m(order_currency, payment_currency)\u001b[0m\n\u001b[0;32m     15\u001b[0m \u001b[1;33m\u001b[0m\u001b[0m\n\u001b[0;32m     16\u001b[0m \u001b[1;32mdef\u001b[0m \u001b[0mget_current_price\u001b[0m\u001b[1;33m(\u001b[0m\u001b[0morder_currency\u001b[0m\u001b[1;33m,\u001b[0m \u001b[0mpayment_currency\u001b[0m\u001b[1;33m=\u001b[0m\u001b[1;34m\"KRW\"\u001b[0m\u001b[1;33m)\u001b[0m\u001b[1;33m:\u001b[0m\u001b[1;33m\u001b[0m\u001b[1;33m\u001b[0m\u001b[0m\n\u001b[1;32m---> 17\u001b[1;33m     \u001b[1;32mreturn\u001b[0m \u001b[0mBithumb\u001b[0m\u001b[1;33m.\u001b[0m\u001b[0mget_current_price\u001b[0m\u001b[1;33m(\u001b[0m\u001b[0morder_currency\u001b[0m\u001b[1;33m,\u001b[0m \u001b[0mpayment_currency\u001b[0m\u001b[1;33m)\u001b[0m\u001b[1;33m\u001b[0m\u001b[1;33m\u001b[0m\u001b[0m\n\u001b[0m\u001b[0;32m     18\u001b[0m \u001b[1;33m\u001b[0m\u001b[0m\n\u001b[0;32m     19\u001b[0m \u001b[1;33m\u001b[0m\u001b[0m\n",
      "\u001b[1;32m~\\anaconda3\\lib\\site-packages\\pybithumb\\client.py\u001b[0m in \u001b[0;36mget_current_price\u001b[1;34m(order_currency, payment_currency)\u001b[0m\n\u001b[0;32m     97\u001b[0m         \u001b[0mresp\u001b[0m \u001b[1;33m=\u001b[0m \u001b[1;32mNone\u001b[0m\u001b[1;33m\u001b[0m\u001b[1;33m\u001b[0m\u001b[0m\n\u001b[0;32m     98\u001b[0m         \u001b[1;32mtry\u001b[0m\u001b[1;33m:\u001b[0m\u001b[1;33m\u001b[0m\u001b[1;33m\u001b[0m\u001b[0m\n\u001b[1;32m---> 99\u001b[1;33m             \u001b[0mresp\u001b[0m \u001b[1;33m=\u001b[0m \u001b[0mPublicApi\u001b[0m\u001b[1;33m.\u001b[0m\u001b[0mticker\u001b[0m\u001b[1;33m(\u001b[0m\u001b[0morder_currency\u001b[0m\u001b[1;33m,\u001b[0m \u001b[0mpayment_currency\u001b[0m\u001b[1;33m)\u001b[0m\u001b[1;33m\u001b[0m\u001b[1;33m\u001b[0m\u001b[0m\n\u001b[0m\u001b[0;32m    100\u001b[0m             \u001b[1;32mif\u001b[0m \u001b[0morder_currency\u001b[0m \u001b[1;33m!=\u001b[0m \u001b[1;34m\"ALL\"\u001b[0m\u001b[1;33m:\u001b[0m\u001b[1;33m\u001b[0m\u001b[1;33m\u001b[0m\u001b[0m\n\u001b[0;32m    101\u001b[0m                 \u001b[1;32mreturn\u001b[0m \u001b[0mfloat\u001b[0m\u001b[1;33m(\u001b[0m\u001b[0mresp\u001b[0m\u001b[1;33m[\u001b[0m\u001b[1;34m'data'\u001b[0m\u001b[1;33m]\u001b[0m\u001b[1;33m[\u001b[0m\u001b[1;34m'closing_price'\u001b[0m\u001b[1;33m]\u001b[0m\u001b[1;33m)\u001b[0m\u001b[1;33m\u001b[0m\u001b[1;33m\u001b[0m\u001b[0m\n",
      "\u001b[1;32m~\\anaconda3\\lib\\site-packages\\pybithumb\\core.py\u001b[0m in \u001b[0;36mticker\u001b[1;34m(order_currency, payment_currency)\u001b[0m\n\u001b[0;32m     13\u001b[0m     \u001b[1;32mdef\u001b[0m \u001b[0mticker\u001b[0m\u001b[1;33m(\u001b[0m\u001b[0morder_currency\u001b[0m\u001b[1;33m,\u001b[0m \u001b[0mpayment_currency\u001b[0m\u001b[1;33m=\u001b[0m\u001b[1;34m\"KRW\"\u001b[0m\u001b[1;33m)\u001b[0m\u001b[1;33m:\u001b[0m\u001b[1;33m\u001b[0m\u001b[1;33m\u001b[0m\u001b[0m\n\u001b[0;32m     14\u001b[0m         \u001b[0muri\u001b[0m \u001b[1;33m=\u001b[0m \u001b[1;34m\"/public/ticker/{}_{}\"\u001b[0m\u001b[1;33m.\u001b[0m\u001b[0mformat\u001b[0m\u001b[1;33m(\u001b[0m\u001b[0morder_currency\u001b[0m\u001b[1;33m,\u001b[0m \u001b[0mpayment_currency\u001b[0m\u001b[1;33m)\u001b[0m\u001b[1;33m\u001b[0m\u001b[1;33m\u001b[0m\u001b[0m\n\u001b[1;32m---> 15\u001b[1;33m         \u001b[1;32mreturn\u001b[0m \u001b[0mBithumbHttp\u001b[0m\u001b[1;33m(\u001b[0m\u001b[1;33m)\u001b[0m\u001b[1;33m.\u001b[0m\u001b[0mget\u001b[0m\u001b[1;33m(\u001b[0m\u001b[0muri\u001b[0m\u001b[1;33m)\u001b[0m\u001b[1;33m\u001b[0m\u001b[1;33m\u001b[0m\u001b[0m\n\u001b[0m\u001b[0;32m     16\u001b[0m \u001b[1;33m\u001b[0m\u001b[0m\n\u001b[0;32m     17\u001b[0m     \u001b[1;33m@\u001b[0m\u001b[0mstaticmethod\u001b[0m\u001b[1;33m\u001b[0m\u001b[1;33m\u001b[0m\u001b[0m\n",
      "\u001b[1;32m~\\anaconda3\\lib\\site-packages\\pybithumb\\core.py\u001b[0m in \u001b[0;36mget\u001b[1;34m(self, path, timeout, **kwargs)\u001b[0m\n\u001b[0;32m    110\u001b[0m         \u001b[1;32mtry\u001b[0m\u001b[1;33m:\u001b[0m\u001b[1;33m\u001b[0m\u001b[1;33m\u001b[0m\u001b[0m\n\u001b[0;32m    111\u001b[0m             \u001b[0muri\u001b[0m \u001b[1;33m=\u001b[0m \u001b[0mself\u001b[0m\u001b[1;33m.\u001b[0m\u001b[0mbase_url\u001b[0m \u001b[1;33m+\u001b[0m \u001b[0mpath\u001b[0m\u001b[1;33m\u001b[0m\u001b[1;33m\u001b[0m\u001b[0m\n\u001b[1;32m--> 112\u001b[1;33m             \u001b[1;32mreturn\u001b[0m \u001b[0mself\u001b[0m\u001b[1;33m.\u001b[0m\u001b[0msession\u001b[0m\u001b[1;33m.\u001b[0m\u001b[0mget\u001b[0m\u001b[1;33m(\u001b[0m\u001b[0murl\u001b[0m\u001b[1;33m=\u001b[0m\u001b[0muri\u001b[0m\u001b[1;33m,\u001b[0m \u001b[0mparams\u001b[0m\u001b[1;33m=\u001b[0m\u001b[0mkwargs\u001b[0m\u001b[1;33m,\u001b[0m \u001b[0mtimeout\u001b[0m\u001b[1;33m=\u001b[0m\u001b[0mtimeout\u001b[0m\u001b[1;33m)\u001b[0m\u001b[1;33m.\u001b[0m\u001b[0;31m\\\u001b[0m\u001b[1;33m\u001b[0m\u001b[1;33m\u001b[0m\u001b[0m\n\u001b[0m\u001b[0;32m    113\u001b[0m                 \u001b[0mjson\u001b[0m\u001b[1;33m(\u001b[0m\u001b[1;33m)\u001b[0m\u001b[1;33m\u001b[0m\u001b[1;33m\u001b[0m\u001b[0m\n\u001b[0;32m    114\u001b[0m         \u001b[1;32mexcept\u001b[0m \u001b[0mException\u001b[0m \u001b[1;32mas\u001b[0m \u001b[0mx\u001b[0m\u001b[1;33m:\u001b[0m\u001b[1;33m\u001b[0m\u001b[1;33m\u001b[0m\u001b[0m\n",
      "\u001b[1;32m~\\anaconda3\\lib\\site-packages\\requests\\sessions.py\u001b[0m in \u001b[0;36mget\u001b[1;34m(self, url, **kwargs)\u001b[0m\n\u001b[0;32m    541\u001b[0m \u001b[1;33m\u001b[0m\u001b[0m\n\u001b[0;32m    542\u001b[0m         \u001b[0mkwargs\u001b[0m\u001b[1;33m.\u001b[0m\u001b[0msetdefault\u001b[0m\u001b[1;33m(\u001b[0m\u001b[1;34m'allow_redirects'\u001b[0m\u001b[1;33m,\u001b[0m \u001b[1;32mTrue\u001b[0m\u001b[1;33m)\u001b[0m\u001b[1;33m\u001b[0m\u001b[1;33m\u001b[0m\u001b[0m\n\u001b[1;32m--> 543\u001b[1;33m         \u001b[1;32mreturn\u001b[0m \u001b[0mself\u001b[0m\u001b[1;33m.\u001b[0m\u001b[0mrequest\u001b[0m\u001b[1;33m(\u001b[0m\u001b[1;34m'GET'\u001b[0m\u001b[1;33m,\u001b[0m \u001b[0murl\u001b[0m\u001b[1;33m,\u001b[0m \u001b[1;33m**\u001b[0m\u001b[0mkwargs\u001b[0m\u001b[1;33m)\u001b[0m\u001b[1;33m\u001b[0m\u001b[1;33m\u001b[0m\u001b[0m\n\u001b[0m\u001b[0;32m    544\u001b[0m \u001b[1;33m\u001b[0m\u001b[0m\n\u001b[0;32m    545\u001b[0m     \u001b[1;32mdef\u001b[0m \u001b[0moptions\u001b[0m\u001b[1;33m(\u001b[0m\u001b[0mself\u001b[0m\u001b[1;33m,\u001b[0m \u001b[0murl\u001b[0m\u001b[1;33m,\u001b[0m \u001b[1;33m**\u001b[0m\u001b[0mkwargs\u001b[0m\u001b[1;33m)\u001b[0m\u001b[1;33m:\u001b[0m\u001b[1;33m\u001b[0m\u001b[1;33m\u001b[0m\u001b[0m\n",
      "\u001b[1;32m~\\anaconda3\\lib\\site-packages\\requests\\sessions.py\u001b[0m in \u001b[0;36mrequest\u001b[1;34m(self, method, url, params, data, headers, cookies, files, auth, timeout, allow_redirects, proxies, hooks, stream, verify, cert, json)\u001b[0m\n\u001b[0;32m    528\u001b[0m         }\n\u001b[0;32m    529\u001b[0m         \u001b[0msend_kwargs\u001b[0m\u001b[1;33m.\u001b[0m\u001b[0mupdate\u001b[0m\u001b[1;33m(\u001b[0m\u001b[0msettings\u001b[0m\u001b[1;33m)\u001b[0m\u001b[1;33m\u001b[0m\u001b[1;33m\u001b[0m\u001b[0m\n\u001b[1;32m--> 530\u001b[1;33m         \u001b[0mresp\u001b[0m \u001b[1;33m=\u001b[0m \u001b[0mself\u001b[0m\u001b[1;33m.\u001b[0m\u001b[0msend\u001b[0m\u001b[1;33m(\u001b[0m\u001b[0mprep\u001b[0m\u001b[1;33m,\u001b[0m \u001b[1;33m**\u001b[0m\u001b[0msend_kwargs\u001b[0m\u001b[1;33m)\u001b[0m\u001b[1;33m\u001b[0m\u001b[1;33m\u001b[0m\u001b[0m\n\u001b[0m\u001b[0;32m    531\u001b[0m \u001b[1;33m\u001b[0m\u001b[0m\n\u001b[0;32m    532\u001b[0m         \u001b[1;32mreturn\u001b[0m \u001b[0mresp\u001b[0m\u001b[1;33m\u001b[0m\u001b[1;33m\u001b[0m\u001b[0m\n",
      "\u001b[1;32m~\\anaconda3\\lib\\site-packages\\requests\\sessions.py\u001b[0m in \u001b[0;36msend\u001b[1;34m(self, request, **kwargs)\u001b[0m\n\u001b[0;32m    641\u001b[0m \u001b[1;33m\u001b[0m\u001b[0m\n\u001b[0;32m    642\u001b[0m         \u001b[1;31m# Send the request\u001b[0m\u001b[1;33m\u001b[0m\u001b[1;33m\u001b[0m\u001b[1;33m\u001b[0m\u001b[0m\n\u001b[1;32m--> 643\u001b[1;33m         \u001b[0mr\u001b[0m \u001b[1;33m=\u001b[0m \u001b[0madapter\u001b[0m\u001b[1;33m.\u001b[0m\u001b[0msend\u001b[0m\u001b[1;33m(\u001b[0m\u001b[0mrequest\u001b[0m\u001b[1;33m,\u001b[0m \u001b[1;33m**\u001b[0m\u001b[0mkwargs\u001b[0m\u001b[1;33m)\u001b[0m\u001b[1;33m\u001b[0m\u001b[1;33m\u001b[0m\u001b[0m\n\u001b[0m\u001b[0;32m    644\u001b[0m \u001b[1;33m\u001b[0m\u001b[0m\n\u001b[0;32m    645\u001b[0m         \u001b[1;31m# Total elapsed time of the request (approximately)\u001b[0m\u001b[1;33m\u001b[0m\u001b[1;33m\u001b[0m\u001b[1;33m\u001b[0m\u001b[0m\n",
      "\u001b[1;32m~\\anaconda3\\lib\\site-packages\\requests\\adapters.py\u001b[0m in \u001b[0;36msend\u001b[1;34m(self, request, stream, timeout, verify, cert, proxies)\u001b[0m\n\u001b[0;32m    414\u001b[0m             \u001b[1;32mraise\u001b[0m \u001b[0mInvalidURL\u001b[0m\u001b[1;33m(\u001b[0m\u001b[0me\u001b[0m\u001b[1;33m,\u001b[0m \u001b[0mrequest\u001b[0m\u001b[1;33m=\u001b[0m\u001b[0mrequest\u001b[0m\u001b[1;33m)\u001b[0m\u001b[1;33m\u001b[0m\u001b[1;33m\u001b[0m\u001b[0m\n\u001b[0;32m    415\u001b[0m \u001b[1;33m\u001b[0m\u001b[0m\n\u001b[1;32m--> 416\u001b[1;33m         \u001b[0mself\u001b[0m\u001b[1;33m.\u001b[0m\u001b[0mcert_verify\u001b[0m\u001b[1;33m(\u001b[0m\u001b[0mconn\u001b[0m\u001b[1;33m,\u001b[0m \u001b[0mrequest\u001b[0m\u001b[1;33m.\u001b[0m\u001b[0murl\u001b[0m\u001b[1;33m,\u001b[0m \u001b[0mverify\u001b[0m\u001b[1;33m,\u001b[0m \u001b[0mcert\u001b[0m\u001b[1;33m)\u001b[0m\u001b[1;33m\u001b[0m\u001b[1;33m\u001b[0m\u001b[0m\n\u001b[0m\u001b[0;32m    417\u001b[0m         \u001b[0murl\u001b[0m \u001b[1;33m=\u001b[0m \u001b[0mself\u001b[0m\u001b[1;33m.\u001b[0m\u001b[0mrequest_url\u001b[0m\u001b[1;33m(\u001b[0m\u001b[0mrequest\u001b[0m\u001b[1;33m,\u001b[0m \u001b[0mproxies\u001b[0m\u001b[1;33m)\u001b[0m\u001b[1;33m\u001b[0m\u001b[1;33m\u001b[0m\u001b[0m\n\u001b[0;32m    418\u001b[0m         \u001b[0mself\u001b[0m\u001b[1;33m.\u001b[0m\u001b[0madd_headers\u001b[0m\u001b[1;33m(\u001b[0m\u001b[0mrequest\u001b[0m\u001b[1;33m,\u001b[0m \u001b[0mstream\u001b[0m\u001b[1;33m=\u001b[0m\u001b[0mstream\u001b[0m\u001b[1;33m,\u001b[0m \u001b[0mtimeout\u001b[0m\u001b[1;33m=\u001b[0m\u001b[0mtimeout\u001b[0m\u001b[1;33m,\u001b[0m \u001b[0mverify\u001b[0m\u001b[1;33m=\u001b[0m\u001b[0mverify\u001b[0m\u001b[1;33m,\u001b[0m \u001b[0mcert\u001b[0m\u001b[1;33m=\u001b[0m\u001b[0mcert\u001b[0m\u001b[1;33m,\u001b[0m \u001b[0mproxies\u001b[0m\u001b[1;33m=\u001b[0m\u001b[0mproxies\u001b[0m\u001b[1;33m)\u001b[0m\u001b[1;33m\u001b[0m\u001b[1;33m\u001b[0m\u001b[0m\n",
      "\u001b[1;32m~\\anaconda3\\lib\\site-packages\\requests\\adapters.py\u001b[0m in \u001b[0;36mcert_verify\u001b[1;34m(self, conn, url, verify, cert)\u001b[0m\n\u001b[0;32m    222\u001b[0m \u001b[1;33m\u001b[0m\u001b[0m\n\u001b[0;32m    223\u001b[0m             \u001b[1;32mif\u001b[0m \u001b[1;32mnot\u001b[0m \u001b[0mcert_loc\u001b[0m\u001b[1;33m:\u001b[0m\u001b[1;33m\u001b[0m\u001b[1;33m\u001b[0m\u001b[0m\n\u001b[1;32m--> 224\u001b[1;33m                 \u001b[0mcert_loc\u001b[0m \u001b[1;33m=\u001b[0m \u001b[0mextract_zipped_paths\u001b[0m\u001b[1;33m(\u001b[0m\u001b[0mDEFAULT_CA_BUNDLE_PATH\u001b[0m\u001b[1;33m)\u001b[0m\u001b[1;33m\u001b[0m\u001b[1;33m\u001b[0m\u001b[0m\n\u001b[0m\u001b[0;32m    225\u001b[0m \u001b[1;33m\u001b[0m\u001b[0m\n\u001b[0;32m    226\u001b[0m             \u001b[1;32mif\u001b[0m \u001b[1;32mnot\u001b[0m \u001b[0mcert_loc\u001b[0m \u001b[1;32mor\u001b[0m \u001b[1;32mnot\u001b[0m \u001b[0mos\u001b[0m\u001b[1;33m.\u001b[0m\u001b[0mpath\u001b[0m\u001b[1;33m.\u001b[0m\u001b[0mexists\u001b[0m\u001b[1;33m(\u001b[0m\u001b[0mcert_loc\u001b[0m\u001b[1;33m)\u001b[0m\u001b[1;33m:\u001b[0m\u001b[1;33m\u001b[0m\u001b[1;33m\u001b[0m\u001b[0m\n",
      "\u001b[1;32m~\\anaconda3\\lib\\site-packages\\requests\\utils.py\u001b[0m in \u001b[0;36mextract_zipped_paths\u001b[1;34m(path)\u001b[0m\n\u001b[0;32m    231\u001b[0m     \u001b[0mjust\u001b[0m \u001b[1;32mreturn\u001b[0m \u001b[0mthe\u001b[0m \u001b[0mprovided\u001b[0m \u001b[0mpath\u001b[0m \u001b[0munchanged\u001b[0m\u001b[1;33m.\u001b[0m\u001b[1;33m\u001b[0m\u001b[1;33m\u001b[0m\u001b[0m\n\u001b[0;32m    232\u001b[0m     \"\"\"\n\u001b[1;32m--> 233\u001b[1;33m     \u001b[1;32mif\u001b[0m \u001b[0mos\u001b[0m\u001b[1;33m.\u001b[0m\u001b[0mpath\u001b[0m\u001b[1;33m.\u001b[0m\u001b[0mexists\u001b[0m\u001b[1;33m(\u001b[0m\u001b[0mpath\u001b[0m\u001b[1;33m)\u001b[0m\u001b[1;33m:\u001b[0m\u001b[1;33m\u001b[0m\u001b[1;33m\u001b[0m\u001b[0m\n\u001b[0m\u001b[0;32m    234\u001b[0m         \u001b[1;31m# this is already a valid path, no need to do anything further\u001b[0m\u001b[1;33m\u001b[0m\u001b[1;33m\u001b[0m\u001b[1;33m\u001b[0m\u001b[0m\n\u001b[0;32m    235\u001b[0m         \u001b[1;32mreturn\u001b[0m \u001b[0mpath\u001b[0m\u001b[1;33m\u001b[0m\u001b[1;33m\u001b[0m\u001b[0m\n",
      "\u001b[1;32m~\\anaconda3\\lib\\genericpath.py\u001b[0m in \u001b[0;36mexists\u001b[1;34m(path)\u001b[0m\n\u001b[0;32m     17\u001b[0m     \u001b[1;34m\"\"\"Test whether a path exists.  Returns False for broken symbolic links\"\"\"\u001b[0m\u001b[1;33m\u001b[0m\u001b[1;33m\u001b[0m\u001b[0m\n\u001b[0;32m     18\u001b[0m     \u001b[1;32mtry\u001b[0m\u001b[1;33m:\u001b[0m\u001b[1;33m\u001b[0m\u001b[1;33m\u001b[0m\u001b[0m\n\u001b[1;32m---> 19\u001b[1;33m         \u001b[0mos\u001b[0m\u001b[1;33m.\u001b[0m\u001b[0mstat\u001b[0m\u001b[1;33m(\u001b[0m\u001b[0mpath\u001b[0m\u001b[1;33m)\u001b[0m\u001b[1;33m\u001b[0m\u001b[1;33m\u001b[0m\u001b[0m\n\u001b[0m\u001b[0;32m     20\u001b[0m     \u001b[1;32mexcept\u001b[0m \u001b[1;33m(\u001b[0m\u001b[0mOSError\u001b[0m\u001b[1;33m,\u001b[0m \u001b[0mValueError\u001b[0m\u001b[1;33m)\u001b[0m\u001b[1;33m:\u001b[0m\u001b[1;33m\u001b[0m\u001b[1;33m\u001b[0m\u001b[0m\n\u001b[0;32m     21\u001b[0m         \u001b[1;32mreturn\u001b[0m \u001b[1;32mFalse\u001b[0m\u001b[1;33m\u001b[0m\u001b[1;33m\u001b[0m\u001b[0m\n",
      "\u001b[1;31mKeyboardInterrupt\u001b[0m: "
     ]
    }
   ],
   "source": [
    "# 예외처리 후\n",
    "while True:\n",
    "    price = pybithumb.get_current_price('BTC')\n",
    "    if price is not None:\n",
    "        print(price / 10)\n",
    "    time.sleep(0.2)"
   ]
  },
  {
   "cell_type": "code",
   "execution_count": 34,
   "metadata": {},
   "outputs": [
    {
     "name": "stdout",
     "output_type": "stream",
     "text": [
      "4693100.0\n",
      "4693100.0\n",
      "4693100.0\n",
      "4693400.0\n",
      "4693100.0\n",
      "4693100.0\n",
      "4693600.0\n",
      "4693100.0\n",
      "4693400.0\n",
      "4693600.0\n",
      "4693400.0\n"
     ]
    },
    {
     "ename": "KeyboardInterrupt",
     "evalue": "",
     "output_type": "error",
     "traceback": [
      "\u001b[1;31m---------------------------------------------------------------------------\u001b[0m",
      "\u001b[1;31mKeyboardInterrupt\u001b[0m                         Traceback (most recent call last)",
      "\u001b[1;32m<ipython-input-34-84bf8f91de29>\u001b[0m in \u001b[0;36m<module>\u001b[1;34m\u001b[0m\n\u001b[0;32m      1\u001b[0m \u001b[1;31m# 예외처리 후 try except\u001b[0m\u001b[1;33m\u001b[0m\u001b[1;33m\u001b[0m\u001b[1;33m\u001b[0m\u001b[0m\n\u001b[0;32m      2\u001b[0m \u001b[1;32mwhile\u001b[0m \u001b[1;32mTrue\u001b[0m\u001b[1;33m:\u001b[0m\u001b[1;33m\u001b[0m\u001b[1;33m\u001b[0m\u001b[0m\n\u001b[1;32m----> 3\u001b[1;33m     \u001b[0mprice\u001b[0m \u001b[1;33m=\u001b[0m \u001b[0mpybithumb\u001b[0m\u001b[1;33m.\u001b[0m\u001b[0mget_current_price\u001b[0m\u001b[1;33m(\u001b[0m\u001b[1;34m'BTC'\u001b[0m\u001b[1;33m)\u001b[0m\u001b[1;33m\u001b[0m\u001b[1;33m\u001b[0m\u001b[0m\n\u001b[0m\u001b[0;32m      4\u001b[0m     \u001b[1;32mtry\u001b[0m\u001b[1;33m:\u001b[0m\u001b[1;33m\u001b[0m\u001b[1;33m\u001b[0m\u001b[0m\n\u001b[0;32m      5\u001b[0m         \u001b[0mprint\u001b[0m\u001b[1;33m(\u001b[0m\u001b[0mprice\u001b[0m \u001b[1;33m/\u001b[0m \u001b[1;36m10\u001b[0m\u001b[1;33m)\u001b[0m\u001b[1;33m\u001b[0m\u001b[1;33m\u001b[0m\u001b[0m\n",
      "\u001b[1;32m~\\anaconda3\\lib\\site-packages\\pybithumb\\__init__.py\u001b[0m in \u001b[0;36mget_current_price\u001b[1;34m(order_currency, payment_currency)\u001b[0m\n\u001b[0;32m     15\u001b[0m \u001b[1;33m\u001b[0m\u001b[0m\n\u001b[0;32m     16\u001b[0m \u001b[1;32mdef\u001b[0m \u001b[0mget_current_price\u001b[0m\u001b[1;33m(\u001b[0m\u001b[0morder_currency\u001b[0m\u001b[1;33m,\u001b[0m \u001b[0mpayment_currency\u001b[0m\u001b[1;33m=\u001b[0m\u001b[1;34m\"KRW\"\u001b[0m\u001b[1;33m)\u001b[0m\u001b[1;33m:\u001b[0m\u001b[1;33m\u001b[0m\u001b[1;33m\u001b[0m\u001b[0m\n\u001b[1;32m---> 17\u001b[1;33m     \u001b[1;32mreturn\u001b[0m \u001b[0mBithumb\u001b[0m\u001b[1;33m.\u001b[0m\u001b[0mget_current_price\u001b[0m\u001b[1;33m(\u001b[0m\u001b[0morder_currency\u001b[0m\u001b[1;33m,\u001b[0m \u001b[0mpayment_currency\u001b[0m\u001b[1;33m)\u001b[0m\u001b[1;33m\u001b[0m\u001b[1;33m\u001b[0m\u001b[0m\n\u001b[0m\u001b[0;32m     18\u001b[0m \u001b[1;33m\u001b[0m\u001b[0m\n\u001b[0;32m     19\u001b[0m \u001b[1;33m\u001b[0m\u001b[0m\n",
      "\u001b[1;32m~\\anaconda3\\lib\\site-packages\\pybithumb\\client.py\u001b[0m in \u001b[0;36mget_current_price\u001b[1;34m(order_currency, payment_currency)\u001b[0m\n\u001b[0;32m     97\u001b[0m         \u001b[0mresp\u001b[0m \u001b[1;33m=\u001b[0m \u001b[1;32mNone\u001b[0m\u001b[1;33m\u001b[0m\u001b[1;33m\u001b[0m\u001b[0m\n\u001b[0;32m     98\u001b[0m         \u001b[1;32mtry\u001b[0m\u001b[1;33m:\u001b[0m\u001b[1;33m\u001b[0m\u001b[1;33m\u001b[0m\u001b[0m\n\u001b[1;32m---> 99\u001b[1;33m             \u001b[0mresp\u001b[0m \u001b[1;33m=\u001b[0m \u001b[0mPublicApi\u001b[0m\u001b[1;33m.\u001b[0m\u001b[0mticker\u001b[0m\u001b[1;33m(\u001b[0m\u001b[0morder_currency\u001b[0m\u001b[1;33m,\u001b[0m \u001b[0mpayment_currency\u001b[0m\u001b[1;33m)\u001b[0m\u001b[1;33m\u001b[0m\u001b[1;33m\u001b[0m\u001b[0m\n\u001b[0m\u001b[0;32m    100\u001b[0m             \u001b[1;32mif\u001b[0m \u001b[0morder_currency\u001b[0m \u001b[1;33m!=\u001b[0m \u001b[1;34m\"ALL\"\u001b[0m\u001b[1;33m:\u001b[0m\u001b[1;33m\u001b[0m\u001b[1;33m\u001b[0m\u001b[0m\n\u001b[0;32m    101\u001b[0m                 \u001b[1;32mreturn\u001b[0m \u001b[0mfloat\u001b[0m\u001b[1;33m(\u001b[0m\u001b[0mresp\u001b[0m\u001b[1;33m[\u001b[0m\u001b[1;34m'data'\u001b[0m\u001b[1;33m]\u001b[0m\u001b[1;33m[\u001b[0m\u001b[1;34m'closing_price'\u001b[0m\u001b[1;33m]\u001b[0m\u001b[1;33m)\u001b[0m\u001b[1;33m\u001b[0m\u001b[1;33m\u001b[0m\u001b[0m\n",
      "\u001b[1;32m~\\anaconda3\\lib\\site-packages\\pybithumb\\core.py\u001b[0m in \u001b[0;36mticker\u001b[1;34m(order_currency, payment_currency)\u001b[0m\n\u001b[0;32m     13\u001b[0m     \u001b[1;32mdef\u001b[0m \u001b[0mticker\u001b[0m\u001b[1;33m(\u001b[0m\u001b[0morder_currency\u001b[0m\u001b[1;33m,\u001b[0m \u001b[0mpayment_currency\u001b[0m\u001b[1;33m=\u001b[0m\u001b[1;34m\"KRW\"\u001b[0m\u001b[1;33m)\u001b[0m\u001b[1;33m:\u001b[0m\u001b[1;33m\u001b[0m\u001b[1;33m\u001b[0m\u001b[0m\n\u001b[0;32m     14\u001b[0m         \u001b[0muri\u001b[0m \u001b[1;33m=\u001b[0m \u001b[1;34m\"/public/ticker/{}_{}\"\u001b[0m\u001b[1;33m.\u001b[0m\u001b[0mformat\u001b[0m\u001b[1;33m(\u001b[0m\u001b[0morder_currency\u001b[0m\u001b[1;33m,\u001b[0m \u001b[0mpayment_currency\u001b[0m\u001b[1;33m)\u001b[0m\u001b[1;33m\u001b[0m\u001b[1;33m\u001b[0m\u001b[0m\n\u001b[1;32m---> 15\u001b[1;33m         \u001b[1;32mreturn\u001b[0m \u001b[0mBithumbHttp\u001b[0m\u001b[1;33m(\u001b[0m\u001b[1;33m)\u001b[0m\u001b[1;33m.\u001b[0m\u001b[0mget\u001b[0m\u001b[1;33m(\u001b[0m\u001b[0muri\u001b[0m\u001b[1;33m)\u001b[0m\u001b[1;33m\u001b[0m\u001b[1;33m\u001b[0m\u001b[0m\n\u001b[0m\u001b[0;32m     16\u001b[0m \u001b[1;33m\u001b[0m\u001b[0m\n\u001b[0;32m     17\u001b[0m     \u001b[1;33m@\u001b[0m\u001b[0mstaticmethod\u001b[0m\u001b[1;33m\u001b[0m\u001b[1;33m\u001b[0m\u001b[0m\n",
      "\u001b[1;32m~\\anaconda3\\lib\\site-packages\\pybithumb\\core.py\u001b[0m in \u001b[0;36mget\u001b[1;34m(self, path, timeout, **kwargs)\u001b[0m\n\u001b[0;32m    110\u001b[0m         \u001b[1;32mtry\u001b[0m\u001b[1;33m:\u001b[0m\u001b[1;33m\u001b[0m\u001b[1;33m\u001b[0m\u001b[0m\n\u001b[0;32m    111\u001b[0m             \u001b[0muri\u001b[0m \u001b[1;33m=\u001b[0m \u001b[0mself\u001b[0m\u001b[1;33m.\u001b[0m\u001b[0mbase_url\u001b[0m \u001b[1;33m+\u001b[0m \u001b[0mpath\u001b[0m\u001b[1;33m\u001b[0m\u001b[1;33m\u001b[0m\u001b[0m\n\u001b[1;32m--> 112\u001b[1;33m             \u001b[1;32mreturn\u001b[0m \u001b[0mself\u001b[0m\u001b[1;33m.\u001b[0m\u001b[0msession\u001b[0m\u001b[1;33m.\u001b[0m\u001b[0mget\u001b[0m\u001b[1;33m(\u001b[0m\u001b[0murl\u001b[0m\u001b[1;33m=\u001b[0m\u001b[0muri\u001b[0m\u001b[1;33m,\u001b[0m \u001b[0mparams\u001b[0m\u001b[1;33m=\u001b[0m\u001b[0mkwargs\u001b[0m\u001b[1;33m,\u001b[0m \u001b[0mtimeout\u001b[0m\u001b[1;33m=\u001b[0m\u001b[0mtimeout\u001b[0m\u001b[1;33m)\u001b[0m\u001b[1;33m.\u001b[0m\u001b[0;31m\\\u001b[0m\u001b[1;33m\u001b[0m\u001b[1;33m\u001b[0m\u001b[0m\n\u001b[0m\u001b[0;32m    113\u001b[0m                 \u001b[0mjson\u001b[0m\u001b[1;33m(\u001b[0m\u001b[1;33m)\u001b[0m\u001b[1;33m\u001b[0m\u001b[1;33m\u001b[0m\u001b[0m\n\u001b[0;32m    114\u001b[0m         \u001b[1;32mexcept\u001b[0m \u001b[0mException\u001b[0m \u001b[1;32mas\u001b[0m \u001b[0mx\u001b[0m\u001b[1;33m:\u001b[0m\u001b[1;33m\u001b[0m\u001b[1;33m\u001b[0m\u001b[0m\n",
      "\u001b[1;32m~\\anaconda3\\lib\\site-packages\\requests\\sessions.py\u001b[0m in \u001b[0;36mget\u001b[1;34m(self, url, **kwargs)\u001b[0m\n\u001b[0;32m    541\u001b[0m \u001b[1;33m\u001b[0m\u001b[0m\n\u001b[0;32m    542\u001b[0m         \u001b[0mkwargs\u001b[0m\u001b[1;33m.\u001b[0m\u001b[0msetdefault\u001b[0m\u001b[1;33m(\u001b[0m\u001b[1;34m'allow_redirects'\u001b[0m\u001b[1;33m,\u001b[0m \u001b[1;32mTrue\u001b[0m\u001b[1;33m)\u001b[0m\u001b[1;33m\u001b[0m\u001b[1;33m\u001b[0m\u001b[0m\n\u001b[1;32m--> 543\u001b[1;33m         \u001b[1;32mreturn\u001b[0m \u001b[0mself\u001b[0m\u001b[1;33m.\u001b[0m\u001b[0mrequest\u001b[0m\u001b[1;33m(\u001b[0m\u001b[1;34m'GET'\u001b[0m\u001b[1;33m,\u001b[0m \u001b[0murl\u001b[0m\u001b[1;33m,\u001b[0m \u001b[1;33m**\u001b[0m\u001b[0mkwargs\u001b[0m\u001b[1;33m)\u001b[0m\u001b[1;33m\u001b[0m\u001b[1;33m\u001b[0m\u001b[0m\n\u001b[0m\u001b[0;32m    544\u001b[0m \u001b[1;33m\u001b[0m\u001b[0m\n\u001b[0;32m    545\u001b[0m     \u001b[1;32mdef\u001b[0m \u001b[0moptions\u001b[0m\u001b[1;33m(\u001b[0m\u001b[0mself\u001b[0m\u001b[1;33m,\u001b[0m \u001b[0murl\u001b[0m\u001b[1;33m,\u001b[0m \u001b[1;33m**\u001b[0m\u001b[0mkwargs\u001b[0m\u001b[1;33m)\u001b[0m\u001b[1;33m:\u001b[0m\u001b[1;33m\u001b[0m\u001b[1;33m\u001b[0m\u001b[0m\n",
      "\u001b[1;32m~\\anaconda3\\lib\\site-packages\\requests\\sessions.py\u001b[0m in \u001b[0;36mrequest\u001b[1;34m(self, method, url, params, data, headers, cookies, files, auth, timeout, allow_redirects, proxies, hooks, stream, verify, cert, json)\u001b[0m\n\u001b[0;32m    528\u001b[0m         }\n\u001b[0;32m    529\u001b[0m         \u001b[0msend_kwargs\u001b[0m\u001b[1;33m.\u001b[0m\u001b[0mupdate\u001b[0m\u001b[1;33m(\u001b[0m\u001b[0msettings\u001b[0m\u001b[1;33m)\u001b[0m\u001b[1;33m\u001b[0m\u001b[1;33m\u001b[0m\u001b[0m\n\u001b[1;32m--> 530\u001b[1;33m         \u001b[0mresp\u001b[0m \u001b[1;33m=\u001b[0m \u001b[0mself\u001b[0m\u001b[1;33m.\u001b[0m\u001b[0msend\u001b[0m\u001b[1;33m(\u001b[0m\u001b[0mprep\u001b[0m\u001b[1;33m,\u001b[0m \u001b[1;33m**\u001b[0m\u001b[0msend_kwargs\u001b[0m\u001b[1;33m)\u001b[0m\u001b[1;33m\u001b[0m\u001b[1;33m\u001b[0m\u001b[0m\n\u001b[0m\u001b[0;32m    531\u001b[0m \u001b[1;33m\u001b[0m\u001b[0m\n\u001b[0;32m    532\u001b[0m         \u001b[1;32mreturn\u001b[0m \u001b[0mresp\u001b[0m\u001b[1;33m\u001b[0m\u001b[1;33m\u001b[0m\u001b[0m\n",
      "\u001b[1;32m~\\anaconda3\\lib\\site-packages\\requests\\sessions.py\u001b[0m in \u001b[0;36msend\u001b[1;34m(self, request, **kwargs)\u001b[0m\n\u001b[0;32m    641\u001b[0m \u001b[1;33m\u001b[0m\u001b[0m\n\u001b[0;32m    642\u001b[0m         \u001b[1;31m# Send the request\u001b[0m\u001b[1;33m\u001b[0m\u001b[1;33m\u001b[0m\u001b[1;33m\u001b[0m\u001b[0m\n\u001b[1;32m--> 643\u001b[1;33m         \u001b[0mr\u001b[0m \u001b[1;33m=\u001b[0m \u001b[0madapter\u001b[0m\u001b[1;33m.\u001b[0m\u001b[0msend\u001b[0m\u001b[1;33m(\u001b[0m\u001b[0mrequest\u001b[0m\u001b[1;33m,\u001b[0m \u001b[1;33m**\u001b[0m\u001b[0mkwargs\u001b[0m\u001b[1;33m)\u001b[0m\u001b[1;33m\u001b[0m\u001b[1;33m\u001b[0m\u001b[0m\n\u001b[0m\u001b[0;32m    644\u001b[0m \u001b[1;33m\u001b[0m\u001b[0m\n\u001b[0;32m    645\u001b[0m         \u001b[1;31m# Total elapsed time of the request (approximately)\u001b[0m\u001b[1;33m\u001b[0m\u001b[1;33m\u001b[0m\u001b[1;33m\u001b[0m\u001b[0m\n",
      "\u001b[1;32m~\\anaconda3\\lib\\site-packages\\requests\\adapters.py\u001b[0m in \u001b[0;36msend\u001b[1;34m(self, request, stream, timeout, verify, cert, proxies)\u001b[0m\n\u001b[0;32m    437\u001b[0m         \u001b[1;32mtry\u001b[0m\u001b[1;33m:\u001b[0m\u001b[1;33m\u001b[0m\u001b[1;33m\u001b[0m\u001b[0m\n\u001b[0;32m    438\u001b[0m             \u001b[1;32mif\u001b[0m \u001b[1;32mnot\u001b[0m \u001b[0mchunked\u001b[0m\u001b[1;33m:\u001b[0m\u001b[1;33m\u001b[0m\u001b[1;33m\u001b[0m\u001b[0m\n\u001b[1;32m--> 439\u001b[1;33m                 resp = conn.urlopen(\n\u001b[0m\u001b[0;32m    440\u001b[0m                     \u001b[0mmethod\u001b[0m\u001b[1;33m=\u001b[0m\u001b[0mrequest\u001b[0m\u001b[1;33m.\u001b[0m\u001b[0mmethod\u001b[0m\u001b[1;33m,\u001b[0m\u001b[1;33m\u001b[0m\u001b[1;33m\u001b[0m\u001b[0m\n\u001b[0;32m    441\u001b[0m                     \u001b[0murl\u001b[0m\u001b[1;33m=\u001b[0m\u001b[0murl\u001b[0m\u001b[1;33m,\u001b[0m\u001b[1;33m\u001b[0m\u001b[1;33m\u001b[0m\u001b[0m\n",
      "\u001b[1;32m~\\anaconda3\\lib\\site-packages\\urllib3\\connectionpool.py\u001b[0m in \u001b[0;36murlopen\u001b[1;34m(self, method, url, body, headers, retries, redirect, assert_same_host, timeout, pool_timeout, release_conn, chunked, body_pos, **response_kw)\u001b[0m\n\u001b[0;32m    668\u001b[0m \u001b[1;33m\u001b[0m\u001b[0m\n\u001b[0;32m    669\u001b[0m             \u001b[1;31m# Make the request on the httplib connection object.\u001b[0m\u001b[1;33m\u001b[0m\u001b[1;33m\u001b[0m\u001b[1;33m\u001b[0m\u001b[0m\n\u001b[1;32m--> 670\u001b[1;33m             httplib_response = self._make_request(\n\u001b[0m\u001b[0;32m    671\u001b[0m                 \u001b[0mconn\u001b[0m\u001b[1;33m,\u001b[0m\u001b[1;33m\u001b[0m\u001b[1;33m\u001b[0m\u001b[0m\n\u001b[0;32m    672\u001b[0m                 \u001b[0mmethod\u001b[0m\u001b[1;33m,\u001b[0m\u001b[1;33m\u001b[0m\u001b[1;33m\u001b[0m\u001b[0m\n",
      "\u001b[1;32m~\\anaconda3\\lib\\site-packages\\urllib3\\connectionpool.py\u001b[0m in \u001b[0;36m_make_request\u001b[1;34m(self, conn, method, url, timeout, chunked, **httplib_request_kw)\u001b[0m\n\u001b[0;32m    424\u001b[0m                     \u001b[1;31m# Python 3 (including for exceptions like SystemExit).\u001b[0m\u001b[1;33m\u001b[0m\u001b[1;33m\u001b[0m\u001b[1;33m\u001b[0m\u001b[0m\n\u001b[0;32m    425\u001b[0m                     \u001b[1;31m# Otherwise it looks like a bug in the code.\u001b[0m\u001b[1;33m\u001b[0m\u001b[1;33m\u001b[0m\u001b[1;33m\u001b[0m\u001b[0m\n\u001b[1;32m--> 426\u001b[1;33m                     \u001b[0msix\u001b[0m\u001b[1;33m.\u001b[0m\u001b[0mraise_from\u001b[0m\u001b[1;33m(\u001b[0m\u001b[0me\u001b[0m\u001b[1;33m,\u001b[0m \u001b[1;32mNone\u001b[0m\u001b[1;33m)\u001b[0m\u001b[1;33m\u001b[0m\u001b[1;33m\u001b[0m\u001b[0m\n\u001b[0m\u001b[0;32m    427\u001b[0m         \u001b[1;32mexcept\u001b[0m \u001b[1;33m(\u001b[0m\u001b[0mSocketTimeout\u001b[0m\u001b[1;33m,\u001b[0m \u001b[0mBaseSSLError\u001b[0m\u001b[1;33m,\u001b[0m \u001b[0mSocketError\u001b[0m\u001b[1;33m)\u001b[0m \u001b[1;32mas\u001b[0m \u001b[0me\u001b[0m\u001b[1;33m:\u001b[0m\u001b[1;33m\u001b[0m\u001b[1;33m\u001b[0m\u001b[0m\n\u001b[0;32m    428\u001b[0m             \u001b[0mself\u001b[0m\u001b[1;33m.\u001b[0m\u001b[0m_raise_timeout\u001b[0m\u001b[1;33m(\u001b[0m\u001b[0merr\u001b[0m\u001b[1;33m=\u001b[0m\u001b[0me\u001b[0m\u001b[1;33m,\u001b[0m \u001b[0murl\u001b[0m\u001b[1;33m=\u001b[0m\u001b[0murl\u001b[0m\u001b[1;33m,\u001b[0m \u001b[0mtimeout_value\u001b[0m\u001b[1;33m=\u001b[0m\u001b[0mread_timeout\u001b[0m\u001b[1;33m)\u001b[0m\u001b[1;33m\u001b[0m\u001b[1;33m\u001b[0m\u001b[0m\n",
      "\u001b[1;32m~\\anaconda3\\lib\\site-packages\\urllib3\\packages\\six.py\u001b[0m in \u001b[0;36mraise_from\u001b[1;34m(value, from_value)\u001b[0m\n",
      "\u001b[1;32m~\\anaconda3\\lib\\site-packages\\urllib3\\connectionpool.py\u001b[0m in \u001b[0;36m_make_request\u001b[1;34m(self, conn, method, url, timeout, chunked, **httplib_request_kw)\u001b[0m\n\u001b[0;32m    419\u001b[0m                 \u001b[1;31m# Python 3\u001b[0m\u001b[1;33m\u001b[0m\u001b[1;33m\u001b[0m\u001b[1;33m\u001b[0m\u001b[0m\n\u001b[0;32m    420\u001b[0m                 \u001b[1;32mtry\u001b[0m\u001b[1;33m:\u001b[0m\u001b[1;33m\u001b[0m\u001b[1;33m\u001b[0m\u001b[0m\n\u001b[1;32m--> 421\u001b[1;33m                     \u001b[0mhttplib_response\u001b[0m \u001b[1;33m=\u001b[0m \u001b[0mconn\u001b[0m\u001b[1;33m.\u001b[0m\u001b[0mgetresponse\u001b[0m\u001b[1;33m(\u001b[0m\u001b[1;33m)\u001b[0m\u001b[1;33m\u001b[0m\u001b[1;33m\u001b[0m\u001b[0m\n\u001b[0m\u001b[0;32m    422\u001b[0m                 \u001b[1;32mexcept\u001b[0m \u001b[0mBaseException\u001b[0m \u001b[1;32mas\u001b[0m \u001b[0me\u001b[0m\u001b[1;33m:\u001b[0m\u001b[1;33m\u001b[0m\u001b[1;33m\u001b[0m\u001b[0m\n\u001b[0;32m    423\u001b[0m                     \u001b[1;31m# Remove the TypeError from the exception chain in\u001b[0m\u001b[1;33m\u001b[0m\u001b[1;33m\u001b[0m\u001b[1;33m\u001b[0m\u001b[0m\n",
      "\u001b[1;32m~\\anaconda3\\lib\\http\\client.py\u001b[0m in \u001b[0;36mgetresponse\u001b[1;34m(self)\u001b[0m\n\u001b[0;32m   1330\u001b[0m         \u001b[1;32mtry\u001b[0m\u001b[1;33m:\u001b[0m\u001b[1;33m\u001b[0m\u001b[1;33m\u001b[0m\u001b[0m\n\u001b[0;32m   1331\u001b[0m             \u001b[1;32mtry\u001b[0m\u001b[1;33m:\u001b[0m\u001b[1;33m\u001b[0m\u001b[1;33m\u001b[0m\u001b[0m\n\u001b[1;32m-> 1332\u001b[1;33m                 \u001b[0mresponse\u001b[0m\u001b[1;33m.\u001b[0m\u001b[0mbegin\u001b[0m\u001b[1;33m(\u001b[0m\u001b[1;33m)\u001b[0m\u001b[1;33m\u001b[0m\u001b[1;33m\u001b[0m\u001b[0m\n\u001b[0m\u001b[0;32m   1333\u001b[0m             \u001b[1;32mexcept\u001b[0m \u001b[0mConnectionError\u001b[0m\u001b[1;33m:\u001b[0m\u001b[1;33m\u001b[0m\u001b[1;33m\u001b[0m\u001b[0m\n\u001b[0;32m   1334\u001b[0m                 \u001b[0mself\u001b[0m\u001b[1;33m.\u001b[0m\u001b[0mclose\u001b[0m\u001b[1;33m(\u001b[0m\u001b[1;33m)\u001b[0m\u001b[1;33m\u001b[0m\u001b[1;33m\u001b[0m\u001b[0m\n",
      "\u001b[1;32m~\\anaconda3\\lib\\http\\client.py\u001b[0m in \u001b[0;36mbegin\u001b[1;34m(self)\u001b[0m\n\u001b[0;32m    301\u001b[0m         \u001b[1;31m# read until we get a non-100 response\u001b[0m\u001b[1;33m\u001b[0m\u001b[1;33m\u001b[0m\u001b[1;33m\u001b[0m\u001b[0m\n\u001b[0;32m    302\u001b[0m         \u001b[1;32mwhile\u001b[0m \u001b[1;32mTrue\u001b[0m\u001b[1;33m:\u001b[0m\u001b[1;33m\u001b[0m\u001b[1;33m\u001b[0m\u001b[0m\n\u001b[1;32m--> 303\u001b[1;33m             \u001b[0mversion\u001b[0m\u001b[1;33m,\u001b[0m \u001b[0mstatus\u001b[0m\u001b[1;33m,\u001b[0m \u001b[0mreason\u001b[0m \u001b[1;33m=\u001b[0m \u001b[0mself\u001b[0m\u001b[1;33m.\u001b[0m\u001b[0m_read_status\u001b[0m\u001b[1;33m(\u001b[0m\u001b[1;33m)\u001b[0m\u001b[1;33m\u001b[0m\u001b[1;33m\u001b[0m\u001b[0m\n\u001b[0m\u001b[0;32m    304\u001b[0m             \u001b[1;32mif\u001b[0m \u001b[0mstatus\u001b[0m \u001b[1;33m!=\u001b[0m \u001b[0mCONTINUE\u001b[0m\u001b[1;33m:\u001b[0m\u001b[1;33m\u001b[0m\u001b[1;33m\u001b[0m\u001b[0m\n\u001b[0;32m    305\u001b[0m                 \u001b[1;32mbreak\u001b[0m\u001b[1;33m\u001b[0m\u001b[1;33m\u001b[0m\u001b[0m\n",
      "\u001b[1;32m~\\anaconda3\\lib\\http\\client.py\u001b[0m in \u001b[0;36m_read_status\u001b[1;34m(self)\u001b[0m\n\u001b[0;32m    262\u001b[0m \u001b[1;33m\u001b[0m\u001b[0m\n\u001b[0;32m    263\u001b[0m     \u001b[1;32mdef\u001b[0m \u001b[0m_read_status\u001b[0m\u001b[1;33m(\u001b[0m\u001b[0mself\u001b[0m\u001b[1;33m)\u001b[0m\u001b[1;33m:\u001b[0m\u001b[1;33m\u001b[0m\u001b[1;33m\u001b[0m\u001b[0m\n\u001b[1;32m--> 264\u001b[1;33m         \u001b[0mline\u001b[0m \u001b[1;33m=\u001b[0m \u001b[0mstr\u001b[0m\u001b[1;33m(\u001b[0m\u001b[0mself\u001b[0m\u001b[1;33m.\u001b[0m\u001b[0mfp\u001b[0m\u001b[1;33m.\u001b[0m\u001b[0mreadline\u001b[0m\u001b[1;33m(\u001b[0m\u001b[0m_MAXLINE\u001b[0m \u001b[1;33m+\u001b[0m \u001b[1;36m1\u001b[0m\u001b[1;33m)\u001b[0m\u001b[1;33m,\u001b[0m \u001b[1;34m\"iso-8859-1\"\u001b[0m\u001b[1;33m)\u001b[0m\u001b[1;33m\u001b[0m\u001b[1;33m\u001b[0m\u001b[0m\n\u001b[0m\u001b[0;32m    265\u001b[0m         \u001b[1;32mif\u001b[0m \u001b[0mlen\u001b[0m\u001b[1;33m(\u001b[0m\u001b[0mline\u001b[0m\u001b[1;33m)\u001b[0m \u001b[1;33m>\u001b[0m \u001b[0m_MAXLINE\u001b[0m\u001b[1;33m:\u001b[0m\u001b[1;33m\u001b[0m\u001b[1;33m\u001b[0m\u001b[0m\n\u001b[0;32m    266\u001b[0m             \u001b[1;32mraise\u001b[0m \u001b[0mLineTooLong\u001b[0m\u001b[1;33m(\u001b[0m\u001b[1;34m\"status line\"\u001b[0m\u001b[1;33m)\u001b[0m\u001b[1;33m\u001b[0m\u001b[1;33m\u001b[0m\u001b[0m\n",
      "\u001b[1;32m~\\anaconda3\\lib\\socket.py\u001b[0m in \u001b[0;36mreadinto\u001b[1;34m(self, b)\u001b[0m\n\u001b[0;32m    667\u001b[0m         \u001b[1;32mwhile\u001b[0m \u001b[1;32mTrue\u001b[0m\u001b[1;33m:\u001b[0m\u001b[1;33m\u001b[0m\u001b[1;33m\u001b[0m\u001b[0m\n\u001b[0;32m    668\u001b[0m             \u001b[1;32mtry\u001b[0m\u001b[1;33m:\u001b[0m\u001b[1;33m\u001b[0m\u001b[1;33m\u001b[0m\u001b[0m\n\u001b[1;32m--> 669\u001b[1;33m                 \u001b[1;32mreturn\u001b[0m \u001b[0mself\u001b[0m\u001b[1;33m.\u001b[0m\u001b[0m_sock\u001b[0m\u001b[1;33m.\u001b[0m\u001b[0mrecv_into\u001b[0m\u001b[1;33m(\u001b[0m\u001b[0mb\u001b[0m\u001b[1;33m)\u001b[0m\u001b[1;33m\u001b[0m\u001b[1;33m\u001b[0m\u001b[0m\n\u001b[0m\u001b[0;32m    670\u001b[0m             \u001b[1;32mexcept\u001b[0m \u001b[0mtimeout\u001b[0m\u001b[1;33m:\u001b[0m\u001b[1;33m\u001b[0m\u001b[1;33m\u001b[0m\u001b[0m\n\u001b[0;32m    671\u001b[0m                 \u001b[0mself\u001b[0m\u001b[1;33m.\u001b[0m\u001b[0m_timeout_occurred\u001b[0m \u001b[1;33m=\u001b[0m \u001b[1;32mTrue\u001b[0m\u001b[1;33m\u001b[0m\u001b[1;33m\u001b[0m\u001b[0m\n",
      "\u001b[1;32m~\\anaconda3\\lib\\ssl.py\u001b[0m in \u001b[0;36mrecv_into\u001b[1;34m(self, buffer, nbytes, flags)\u001b[0m\n\u001b[0;32m   1239\u001b[0m                   \u001b[1;34m\"non-zero flags not allowed in calls to recv_into() on %s\"\u001b[0m \u001b[1;33m%\u001b[0m\u001b[1;33m\u001b[0m\u001b[1;33m\u001b[0m\u001b[0m\n\u001b[0;32m   1240\u001b[0m                   self.__class__)\n\u001b[1;32m-> 1241\u001b[1;33m             \u001b[1;32mreturn\u001b[0m \u001b[0mself\u001b[0m\u001b[1;33m.\u001b[0m\u001b[0mread\u001b[0m\u001b[1;33m(\u001b[0m\u001b[0mnbytes\u001b[0m\u001b[1;33m,\u001b[0m \u001b[0mbuffer\u001b[0m\u001b[1;33m)\u001b[0m\u001b[1;33m\u001b[0m\u001b[1;33m\u001b[0m\u001b[0m\n\u001b[0m\u001b[0;32m   1242\u001b[0m         \u001b[1;32melse\u001b[0m\u001b[1;33m:\u001b[0m\u001b[1;33m\u001b[0m\u001b[1;33m\u001b[0m\u001b[0m\n\u001b[0;32m   1243\u001b[0m             \u001b[1;32mreturn\u001b[0m \u001b[0msuper\u001b[0m\u001b[1;33m(\u001b[0m\u001b[1;33m)\u001b[0m\u001b[1;33m.\u001b[0m\u001b[0mrecv_into\u001b[0m\u001b[1;33m(\u001b[0m\u001b[0mbuffer\u001b[0m\u001b[1;33m,\u001b[0m \u001b[0mnbytes\u001b[0m\u001b[1;33m,\u001b[0m \u001b[0mflags\u001b[0m\u001b[1;33m)\u001b[0m\u001b[1;33m\u001b[0m\u001b[1;33m\u001b[0m\u001b[0m\n",
      "\u001b[1;32m~\\anaconda3\\lib\\ssl.py\u001b[0m in \u001b[0;36mread\u001b[1;34m(self, len, buffer)\u001b[0m\n\u001b[0;32m   1097\u001b[0m         \u001b[1;32mtry\u001b[0m\u001b[1;33m:\u001b[0m\u001b[1;33m\u001b[0m\u001b[1;33m\u001b[0m\u001b[0m\n\u001b[0;32m   1098\u001b[0m             \u001b[1;32mif\u001b[0m \u001b[0mbuffer\u001b[0m \u001b[1;32mis\u001b[0m \u001b[1;32mnot\u001b[0m \u001b[1;32mNone\u001b[0m\u001b[1;33m:\u001b[0m\u001b[1;33m\u001b[0m\u001b[1;33m\u001b[0m\u001b[0m\n\u001b[1;32m-> 1099\u001b[1;33m                 \u001b[1;32mreturn\u001b[0m \u001b[0mself\u001b[0m\u001b[1;33m.\u001b[0m\u001b[0m_sslobj\u001b[0m\u001b[1;33m.\u001b[0m\u001b[0mread\u001b[0m\u001b[1;33m(\u001b[0m\u001b[0mlen\u001b[0m\u001b[1;33m,\u001b[0m \u001b[0mbuffer\u001b[0m\u001b[1;33m)\u001b[0m\u001b[1;33m\u001b[0m\u001b[1;33m\u001b[0m\u001b[0m\n\u001b[0m\u001b[0;32m   1100\u001b[0m             \u001b[1;32melse\u001b[0m\u001b[1;33m:\u001b[0m\u001b[1;33m\u001b[0m\u001b[1;33m\u001b[0m\u001b[0m\n\u001b[0;32m   1101\u001b[0m                 \u001b[1;32mreturn\u001b[0m \u001b[0mself\u001b[0m\u001b[1;33m.\u001b[0m\u001b[0m_sslobj\u001b[0m\u001b[1;33m.\u001b[0m\u001b[0mread\u001b[0m\u001b[1;33m(\u001b[0m\u001b[0mlen\u001b[0m\u001b[1;33m)\u001b[0m\u001b[1;33m\u001b[0m\u001b[1;33m\u001b[0m\u001b[0m\n",
      "\u001b[1;31mKeyboardInterrupt\u001b[0m: "
     ]
    }
   ],
   "source": [
    "# 예외처리 후 try except\n",
    "while True:\n",
    "    price = pybithumb.get_current_price('BTC')\n",
    "    try:\n",
    "        print(price / 10)\n",
    "    except:\n",
    "        print('에러 발생', price)\n",
    "    time.sleep(0.2)"
   ]
  },
  {
   "cell_type": "code",
   "execution_count": null,
   "metadata": {},
   "outputs": [],
   "source": []
  }
 ],
 "metadata": {
  "kernelspec": {
   "display_name": "Python 3",
   "language": "python",
   "name": "python3"
  },
  "language_info": {
   "codemirror_mode": {
    "name": "ipython",
    "version": 3
   },
   "file_extension": ".py",
   "mimetype": "text/x-python",
   "name": "python",
   "nbconvert_exporter": "python",
   "pygments_lexer": "ipython3",
   "version": "3.8.3"
  }
 },
 "nbformat": 4,
 "nbformat_minor": 4
}
