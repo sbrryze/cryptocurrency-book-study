{
 "cells": [
  {
   "cell_type": "markdown",
   "metadata": {},
   "source": [
    "### 5.2.1 이동평균을 사용한 상승장/하락장 구분\n",
    "* 상승장: 이동평균보다 현재가가 높은 경우\n",
    "* 하락장: 이동평균보다 현재가가 낮은 경우"
   ]
  },
  {
   "cell_type": "markdown",
   "metadata": {},
   "source": [
    "### 5.2.2 거래소 과거 시세 얻어오기"
   ]
  },
  {
   "cell_type": "code",
   "execution_count": 1,
   "metadata": {},
   "outputs": [],
   "source": [
    "import pybithumb"
   ]
  },
  {
   "cell_type": "code",
   "execution_count": 2,
   "metadata": {},
   "outputs": [
    {
     "data": {
      "text/html": [
       "<div>\n",
       "<style scoped>\n",
       "    .dataframe tbody tr th:only-of-type {\n",
       "        vertical-align: middle;\n",
       "    }\n",
       "\n",
       "    .dataframe tbody tr th {\n",
       "        vertical-align: top;\n",
       "    }\n",
       "\n",
       "    .dataframe thead th {\n",
       "        text-align: right;\n",
       "    }\n",
       "</style>\n",
       "<table border=\"1\" class=\"dataframe\">\n",
       "  <thead>\n",
       "    <tr style=\"text-align: right;\">\n",
       "      <th></th>\n",
       "      <th>open</th>\n",
       "      <th>high</th>\n",
       "      <th>low</th>\n",
       "      <th>close</th>\n",
       "      <th>volume</th>\n",
       "    </tr>\n",
       "    <tr>\n",
       "      <th>time</th>\n",
       "      <th></th>\n",
       "      <th></th>\n",
       "      <th></th>\n",
       "      <th></th>\n",
       "      <th></th>\n",
       "    </tr>\n",
       "  </thead>\n",
       "  <tbody>\n",
       "    <tr>\n",
       "      <th>2013-12-27 00:00:00</th>\n",
       "      <td>737000.0</td>\n",
       "      <td>755000.0</td>\n",
       "      <td>737000.0</td>\n",
       "      <td>755000.0</td>\n",
       "      <td>3.780000</td>\n",
       "    </tr>\n",
       "    <tr>\n",
       "      <th>2013-12-28 00:00:00</th>\n",
       "      <td>750000.0</td>\n",
       "      <td>750000.0</td>\n",
       "      <td>750000.0</td>\n",
       "      <td>750000.0</td>\n",
       "      <td>12.000000</td>\n",
       "    </tr>\n",
       "    <tr>\n",
       "      <th>2013-12-29 00:00:00</th>\n",
       "      <td>750000.0</td>\n",
       "      <td>750000.0</td>\n",
       "      <td>728000.0</td>\n",
       "      <td>739000.0</td>\n",
       "      <td>19.058000</td>\n",
       "    </tr>\n",
       "    <tr>\n",
       "      <th>2013-12-30 00:00:00</th>\n",
       "      <td>740000.0</td>\n",
       "      <td>772000.0</td>\n",
       "      <td>740000.0</td>\n",
       "      <td>768000.0</td>\n",
       "      <td>9.488973</td>\n",
       "    </tr>\n",
       "    <tr>\n",
       "      <th>2013-12-31 00:00:00</th>\n",
       "      <td>768000.0</td>\n",
       "      <td>800000.0</td>\n",
       "      <td>763000.0</td>\n",
       "      <td>768000.0</td>\n",
       "      <td>18.650350</td>\n",
       "    </tr>\n",
       "    <tr>\n",
       "      <th>...</th>\n",
       "      <td>...</td>\n",
       "      <td>...</td>\n",
       "      <td>...</td>\n",
       "      <td>...</td>\n",
       "      <td>...</td>\n",
       "    </tr>\n",
       "    <tr>\n",
       "      <th>2023-10-28 00:00:00</th>\n",
       "      <td>45856000.0</td>\n",
       "      <td>46725000.0</td>\n",
       "      <td>45438000.0</td>\n",
       "      <td>46408000.0</td>\n",
       "      <td>2578.422990</td>\n",
       "    </tr>\n",
       "    <tr>\n",
       "      <th>2023-10-29 00:00:00</th>\n",
       "      <td>46409000.0</td>\n",
       "      <td>46887000.0</td>\n",
       "      <td>46262000.0</td>\n",
       "      <td>46805000.0</td>\n",
       "      <td>2137.862388</td>\n",
       "    </tr>\n",
       "    <tr>\n",
       "      <th>2023-10-30 00:00:00</th>\n",
       "      <td>46805000.0</td>\n",
       "      <td>47150000.0</td>\n",
       "      <td>46437000.0</td>\n",
       "      <td>46892000.0</td>\n",
       "      <td>3661.971194</td>\n",
       "    </tr>\n",
       "    <tr>\n",
       "      <th>2023-10-31 00:00:00</th>\n",
       "      <td>46888000.0</td>\n",
       "      <td>47047000.0</td>\n",
       "      <td>46330000.0</td>\n",
       "      <td>46503000.0</td>\n",
       "      <td>3892.038520</td>\n",
       "    </tr>\n",
       "    <tr>\n",
       "      <th>2023-11-01 11:00:00</th>\n",
       "      <td>46506000.0</td>\n",
       "      <td>47050000.0</td>\n",
       "      <td>46390000.0</td>\n",
       "      <td>46934000.0</td>\n",
       "      <td>2134.236953</td>\n",
       "    </tr>\n",
       "  </tbody>\n",
       "</table>\n",
       "<p>3507 rows × 5 columns</p>\n",
       "</div>"
      ],
      "text/plain": [
       "                           open        high         low       close  \\\n",
       "time                                                                  \n",
       "2013-12-27 00:00:00    737000.0    755000.0    737000.0    755000.0   \n",
       "2013-12-28 00:00:00    750000.0    750000.0    750000.0    750000.0   \n",
       "2013-12-29 00:00:00    750000.0    750000.0    728000.0    739000.0   \n",
       "2013-12-30 00:00:00    740000.0    772000.0    740000.0    768000.0   \n",
       "2013-12-31 00:00:00    768000.0    800000.0    763000.0    768000.0   \n",
       "...                         ...         ...         ...         ...   \n",
       "2023-10-28 00:00:00  45856000.0  46725000.0  45438000.0  46408000.0   \n",
       "2023-10-29 00:00:00  46409000.0  46887000.0  46262000.0  46805000.0   \n",
       "2023-10-30 00:00:00  46805000.0  47150000.0  46437000.0  46892000.0   \n",
       "2023-10-31 00:00:00  46888000.0  47047000.0  46330000.0  46503000.0   \n",
       "2023-11-01 11:00:00  46506000.0  47050000.0  46390000.0  46934000.0   \n",
       "\n",
       "                          volume  \n",
       "time                              \n",
       "2013-12-27 00:00:00     3.780000  \n",
       "2013-12-28 00:00:00    12.000000  \n",
       "2013-12-29 00:00:00    19.058000  \n",
       "2013-12-30 00:00:00     9.488973  \n",
       "2013-12-31 00:00:00    18.650350  \n",
       "...                          ...  \n",
       "2023-10-28 00:00:00  2578.422990  \n",
       "2023-10-29 00:00:00  2137.862388  \n",
       "2023-10-30 00:00:00  3661.971194  \n",
       "2023-10-31 00:00:00  3892.038520  \n",
       "2023-11-01 11:00:00  2134.236953  \n",
       "\n",
       "[3507 rows x 5 columns]"
      ]
     },
     "execution_count": 2,
     "metadata": {},
     "output_type": "execute_result"
    }
   ],
   "source": [
    "btc = pybithumb.get_ohlcv('BTC') # 일봉 데이터를 가져옴\n",
    "btc"
   ]
  },
  {
   "cell_type": "code",
   "execution_count": 4,
   "metadata": {},
   "outputs": [
    {
     "data": {
      "text/plain": [
       "time\n",
       "2013-12-27 00:00:00      755000.0\n",
       "2013-12-28 00:00:00      750000.0\n",
       "2013-12-29 00:00:00      739000.0\n",
       "2013-12-30 00:00:00      768000.0\n",
       "2013-12-31 00:00:00      768000.0\n",
       "                          ...    \n",
       "2023-10-28 00:00:00    46408000.0\n",
       "2023-10-29 00:00:00    46805000.0\n",
       "2023-10-30 00:00:00    46892000.0\n",
       "2023-10-31 00:00:00    46503000.0\n",
       "2023-11-01 11:00:00    46934000.0\n",
       "Name: close, Length: 3507, dtype: float64"
      ]
     },
     "execution_count": 4,
     "metadata": {},
     "output_type": "execute_result"
    }
   ],
   "source": [
    "close = btc['close']\n",
    "close # 날짜 & 종가"
   ]
  },
  {
   "cell_type": "markdown",
   "metadata": {},
   "source": [
    "### 5.2.3 이동평균 계산하기"
   ]
  },
  {
   "cell_type": "code",
   "execution_count": 5,
   "metadata": {},
   "outputs": [
    {
     "name": "stdout",
     "output_type": "stream",
     "text": [
      "756000.0\n",
      "760400.0\n",
      "766000.0\n"
     ]
    }
   ],
   "source": [
    "# 5일 이동평균선\n",
    "print((close[0] + close[1] + close[2] + close[3] + close[4]) / 5)\n",
    "print((close[1] + close[2] + close[3] + close[4] + close[5]) / 5)\n",
    "print((close[2] + close[3] + close[4] + close[5] + close[6]) / 5)"
   ]
  },
  {
   "cell_type": "code",
   "execution_count": 6,
   "metadata": {},
   "outputs": [
    {
     "name": "stdout",
     "output_type": "stream",
     "text": [
      "time\n",
      "2013-12-27 00:00:00           NaN\n",
      "2013-12-28 00:00:00           NaN\n",
      "2013-12-29 00:00:00           NaN\n",
      "2013-12-30 00:00:00           NaN\n",
      "2013-12-31 00:00:00      756000.0\n",
      "                          ...    \n",
      "2023-10-28 00:00:00    46252800.0\n",
      "2023-10-29 00:00:00    46410400.0\n",
      "2023-10-30 00:00:00    46427800.0\n",
      "2023-10-31 00:00:00    46492800.0\n",
      "2023-11-01 11:00:00    46708400.0\n",
      "Name: close, Length: 3507, dtype: float64\n"
     ]
    }
   ],
   "source": [
    "window = close.rolling(5) # 5일씩 모든 데이터 그룹화\n",
    "ma5 = window.mean()\n",
    "print(ma5)"
   ]
  },
  {
   "cell_type": "code",
   "execution_count": 8,
   "metadata": {},
   "outputs": [
    {
     "data": {
      "text/plain": [
       "time\n",
       "2013-12-27 00:00:00           NaN\n",
       "2013-12-28 00:00:00           NaN\n",
       "2013-12-29 00:00:00           NaN\n",
       "2013-12-30 00:00:00           NaN\n",
       "2013-12-31 00:00:00      756000.0\n",
       "                          ...    \n",
       "2023-10-28 00:00:00    46252800.0\n",
       "2023-10-29 00:00:00    46410400.0\n",
       "2023-10-30 00:00:00    46427800.0\n",
       "2023-10-31 00:00:00    46492800.0\n",
       "2023-11-01 11:00:00    46708400.0\n",
       "Name: close, Length: 3507, dtype: float64"
      ]
     },
     "execution_count": 8,
     "metadata": {},
     "output_type": "execute_result"
    }
   ],
   "source": [
    "ma5 = close.rolling(5).mean()\n",
    "ma5"
   ]
  },
  {
   "cell_type": "markdown",
   "metadata": {},
   "source": [
    "### 5.2.4 상승장/하락장 구분하는 함수 구현하기"
   ]
  },
  {
   "cell_type": "code",
   "execution_count": 9,
   "metadata": {},
   "outputs": [
    {
     "name": "stdout",
     "output_type": "stream",
     "text": [
      "상승장\n"
     ]
    }
   ],
   "source": [
    "df = pybithumb.get_ohlcv('BTC')\n",
    "ma5 = df['close'].rolling(window=5).mean()\n",
    "last_ma5 = ma5[-2]\n",
    "\n",
    "price = pybithumb.get_current_price('BTC')\n",
    "\n",
    "if price > last_ma5:\n",
    "    print('상승장')\n",
    "else:\n",
    "    print('하락장')"
   ]
  },
  {
   "cell_type": "markdown",
   "metadata": {},
   "source": [
    "### 5.2.5 가상화폐별 상승장/하락장 판단하기"
   ]
  },
  {
   "cell_type": "code",
   "execution_count": 11,
   "metadata": {},
   "outputs": [],
   "source": [
    "# 입력받은 티커의 이동평균과 현재가를 계산하여 비교\n",
    "def bull_market(ticker):\n",
    "    df = pybithumb.get_ohlcv(ticker)\n",
    "    ma5 = df['close'].rolling(window=5).mean()\n",
    "    last_ma5 = ma5[-2]\n",
    "\n",
    "    price = pybithumb.get_current_price(ticker)\n",
    "\n",
    "    if price > last_ma5:\n",
    "        return True\n",
    "    else:\n",
    "        return False"
   ]
  },
  {
   "cell_type": "code",
   "execution_count": 12,
   "metadata": {},
   "outputs": [
    {
     "name": "stdout",
     "output_type": "stream",
     "text": [
      "상승장\n"
     ]
    }
   ],
   "source": [
    "is_bull = bull_market('BTC')\n",
    "if is_bull:\n",
    "    print('상승장')"
   ]
  },
  {
   "cell_type": "code",
   "execution_count": null,
   "metadata": {},
   "outputs": [
    {
     "name": "stdout",
     "output_type": "stream",
     "text": [
      "BTC 상승장\n",
      "ETH 상승장\n",
      "ETC 상승장\n",
      "XRP 상승장\n",
      "BCH 상승장\n",
      "QTUM 상승장\n",
      "BTG 상승장\n",
      "EOS 상승장\n",
      "ICX 상승장\n",
      "TRX 상승장\n",
      "ELF 하락장\n",
      "KNC 상승장\n",
      "GLM 상승장\n",
      "ZIL 상승장\n",
      "WAXP 상승장\n",
      "POWR 하락장\n",
      "LRC 상승장\n",
      "STEEM 상승장\n",
      "STRAX 상승장\n",
      "ZRX 상승장\n",
      "SNT 상승장\n",
      "ADA 하락장\n",
      "CTXC 상승장\n",
      "BAT 상승장\n",
      "THETA 상승장\n",
      "LOOM 하락장\n",
      "WAVES 상승장\n",
      "LINK 상승장\n",
      "ENJ 상승장\n",
      "VET 하락장\n",
      "MTL 상승장\n",
      "IOST 상승장\n",
      "AMO 하락장\n",
      "BSV 상승장\n",
      "ORBS 상승장\n",
      "TFUEL 상승장\n",
      "VALOR 하락장\n",
      "CON 하락장\n",
      "ANKR 상승장\n",
      "MIX 상승장\n",
      "CRO 상승장\n",
      "FX 하락장\n",
      "CHR 상승장\n",
      "MBL 상승장\n",
      "MXC 상승장\n",
      "FCT2 상승장\n",
      "WOM 상승장\n",
      "BOA 하락장\n",
      "MEV 하락장\n",
      "SXP 상승장\n",
      "COS 상승장\n",
      "EL 상승장\n",
      "HIVE 상승장\n"
     ]
    }
   ],
   "source": [
    "tickers = pybithumb.get_tickers()\n",
    "for ticker in tickers:\n",
    "    is_bull = bull_market(ticker)\n",
    "    if is_bull:\n",
    "        print(ticker, '상승장')\n",
    "    else:\n",
    "        print(ticker, '하락장')"
   ]
  },
  {
   "cell_type": "code",
   "execution_count": null,
   "metadata": {},
   "outputs": [],
   "source": []
  }
 ],
 "metadata": {
  "kernelspec": {
   "display_name": "Python 3",
   "language": "python",
   "name": "python3"
  },
  "language_info": {
   "codemirror_mode": {
    "name": "ipython",
    "version": 3
   },
   "file_extension": ".py",
   "mimetype": "text/x-python",
   "name": "python",
   "nbconvert_exporter": "python",
   "pygments_lexer": "ipython3",
   "version": "3.8.3"
  }
 },
 "nbformat": 4,
 "nbformat_minor": 4
}
