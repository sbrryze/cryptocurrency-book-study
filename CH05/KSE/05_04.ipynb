{
 "cells": [
  {
   "cell_type": "markdown",
   "metadata": {},
   "source": [
    "### 5.4.1 스레드 기본 코드"
   ]
  },
  {
   "cell_type": "code",
   "execution_count": 1,
   "metadata": {},
   "outputs": [],
   "source": [
    "from PyQt5.QtCore import *"
   ]
  },
  {
   "cell_type": "code",
   "execution_count": 2,
   "metadata": {},
   "outputs": [],
   "source": [
    "class Worker(QThread):\n",
    "    def run(self):\n",
    "        while True:\n",
    "            print('안녕하세요')\n",
    "            self.sleep(1)"
   ]
  },
  {
   "cell_type": "code",
   "execution_count": 3,
   "metadata": {},
   "outputs": [],
   "source": [
    "import sys\n",
    "from PyQt5.QtWidgets import *\n",
    "from PyQt5.QtCore import *"
   ]
  },
  {
   "cell_type": "code",
   "execution_count": 4,
   "metadata": {},
   "outputs": [],
   "source": [
    "class Worker(QThread):\n",
    "    def run(self):\n",
    "        while True:\n",
    "            print('안녕하세요')\n",
    "            self.sleep(1)\n",
    "            \n",
    "class MyWindow(QMainWindow):\n",
    "    def __init__(self):\n",
    "        super().__init__()\n",
    "        \n",
    "        self.worker = Worker()\n",
    "        self.worker.start()"
   ]
  },
  {
   "cell_type": "code",
   "execution_count": null,
   "metadata": {},
   "outputs": [
    {
     "name": "stdout",
     "output_type": "stream",
     "text": [
      "안녕하세요\n",
      "안녕하세요\n",
      "안녕하세요\n",
      "안녕하세요\n"
     ]
    }
   ],
   "source": [
    "app = QApplication(sys.argv)\n",
    "mywindow = MyWindow()\n",
    "mywindow.show()\n",
    "app.exec_()"
   ]
  },
  {
   "cell_type": "markdown",
   "metadata": {},
   "source": [
    "### 5.4.2 스레드 적용하기"
   ]
  },
  {
   "cell_type": "code",
   "execution_count": 1,
   "metadata": {},
   "outputs": [],
   "source": [
    "import sys\n",
    "from PyQt5.QtWidgets import *\n",
    "from PyQt5 import uic\n",
    "from PyQt5.QtCore import *\n",
    "import pybithumb\n",
    "import time"
   ]
  },
  {
   "cell_type": "code",
   "execution_count": 2,
   "metadata": {},
   "outputs": [],
   "source": [
    "tickers = ['BTC', 'ETH', 'BCH', 'ETC']"
   ]
  },
  {
   "cell_type": "code",
   "execution_count": 3,
   "metadata": {},
   "outputs": [],
   "source": [
    "form_class = uic.loadUiType('bull.ui')[0]"
   ]
  },
  {
   "cell_type": "code",
   "execution_count": 4,
   "metadata": {},
   "outputs": [],
   "source": [
    "class Worker(QThread):\n",
    "    def run(self):\n",
    "        while True:\n",
    "            data = {}\n",
    "            \n",
    "            for ticker in tickers:\n",
    "                data[ticker] = self.get_market_infos(ticker)\n",
    "                \n",
    "            print(data)\n",
    "            time.sleep(5)\n",
    "            \n",
    "    def get_market_infos(self, ticker):\n",
    "        try:\n",
    "            df = pybithumb.get_ohlcv(ticker)\n",
    "            ma5 = df['close'].rolling(window=5).mean()\n",
    "            last_ma5 = ma5[-2]\n",
    "            \n",
    "            price = pybithumb.get_current_price(ticker)\n",
    "            \n",
    "            state = None\n",
    "            if price > last_ma5:\n",
    "                state = '상승장'\n",
    "            else:\n",
    "                state = '하락장'\n",
    "                \n",
    "            return price, last_ma5, state\n",
    "        except:\n",
    "            return None, None, None            "
   ]
  },
  {
   "cell_type": "code",
   "execution_count": 5,
   "metadata": {},
   "outputs": [],
   "source": [
    "class MyWindow(QMainWindow, form_class):\n",
    "    def __init__(self):\n",
    "        super().__init__()\n",
    "        self.setupUi(self)\n",
    "        \n",
    "        self.worker = Worker()\n",
    "        self.worker.start()"
   ]
  },
  {
   "cell_type": "code",
   "execution_count": null,
   "metadata": {},
   "outputs": [
    {
     "name": "stdout",
     "output_type": "stream",
     "text": [
      "{'BTC': (46910000.0, 46492800.0, '상승장'), 'ETH': (2463000.0, 2434000.0, '상승장'), 'BCH': (330500.0, 331460.0, '하락장'), 'ETC': (23980.0, 22580.0, '상승장')}\n",
      "{'BTC': (46910000.0, 46492800.0, '상승장'), 'ETH': (2463000.0, 2434000.0, '상승장'), 'BCH': (330500.0, 331460.0, '하락장'), 'ETC': (23980.0, 22580.0, '상승장')}\n",
      "{'BTC': (46910000.0, 46492800.0, '상승장'), 'ETH': (2463000.0, 2434000.0, '상승장'), 'BCH': (330600.0, 331460.0, '하락장'), 'ETC': (23980.0, 22580.0, '상승장')}\n",
      "{'BTC': (46904000.0, 46492800.0, '상승장'), 'ETH': (2463000.0, 2434000.0, '상승장'), 'BCH': (330600.0, 331460.0, '하락장'), 'ETC': (23980.0, 22580.0, '상승장')}\n",
      "{'BTC': (46904000.0, 46492800.0, '상승장'), 'ETH': (2464000.0, 2434000.0, '상승장'), 'BCH': (330600.0, 331460.0, '하락장'), 'ETC': (24010.0, 22580.0, '상승장')}\n"
     ]
    }
   ],
   "source": [
    "app = QApplication(sys.argv)\n",
    "mywindow = MyWindow()\n",
    "mywindow.show()\n",
    "app.exec_()"
   ]
  },
  {
   "cell_type": "code",
   "execution_count": 4,
   "metadata": {},
   "outputs": [],
   "source": [
    "class Worker(QThread):\n",
    "    finished = pyqtSignal(dict)\n",
    "\n",
    "    def run(self):\n",
    "        while True:\n",
    "            data = {}\n",
    "\n",
    "            for ticker in tickers:\n",
    "                data[ticker] = self.get_market_infos(ticker)\n",
    "\n",
    "            self.finished.emit(data)\n",
    "            time.sleep(2)\n",
    "\n",
    "    def get_market_infos(self, ticker):\n",
    "        try:\n",
    "            df = pybithumb.get_ohlcv(ticker)\n",
    "            ma5 = df['close'].rolling(window=5).mean()\n",
    "            last_ma5 = ma5[-2]\n",
    "            price = pybithumb.get_current_price(ticker)\n",
    "\n",
    "            state = None\n",
    "            if price > last_ma5:\n",
    "                state = \"상승장\"\n",
    "            else:\n",
    "                state = \"하락장\"\n",
    "\n",
    "            return price, last_ma5, state\n",
    "        except:\n",
    "            return None, None, None\n",
    "\n",
    "class MyWindow(QMainWindow, form_class):\n",
    "    def __init__(self):\n",
    "        super().__init__()\n",
    "        self.setupUi(self)\n",
    "\n",
    "        self.worker = Worker()\n",
    "        self.worker.finished.connect(self.update_table_widget)\n",
    "        self.worker.start()\n",
    "\n",
    "    @pyqtSlot(dict)\n",
    "    def update_table_widget(self, data):\n",
    "        try:\n",
    "            for ticker, infos in data.items():\n",
    "                index = tickers.index(ticker)\n",
    "\n",
    "                self.tableWidget.setItem(index, 0, QTableWidgetItem(ticker))\n",
    "                self.tableWidget.setItem(index, 1, QTableWidgetItem(str(infos[0])))\n",
    "                self.tableWidget.setItem(index, 2, QTableWidgetItem(str(infos[1])))\n",
    "                self.tableWidget.setItem(index, 3, QTableWidgetItem(str(infos[2])))\n",
    "        except:\n",
    "            pass"
   ]
  },
  {
   "cell_type": "code",
   "execution_count": 5,
   "metadata": {},
   "outputs": [
    {
     "data": {
      "text/plain": [
       "0"
      ]
     },
     "execution_count": 5,
     "metadata": {},
     "output_type": "execute_result"
    }
   ],
   "source": [
    "app = QApplication(sys.argv)\n",
    "window = MyWindow()\n",
    "window.show()\n",
    "app.exec_()"
   ]
  },
  {
   "attachments": {
    "image.png": {
     "image/png": "[encoded data removed]"
    }
   },
   "cell_type": "markdown",
   "metadata": {},
   "source": [
    "![image.png](attachment:image.png)"
   ]
  },
  {
   "cell_type": "code",
   "execution_count": null,
   "metadata": {},
   "outputs": [],
   "source": []
  }
 ],
 "metadata": {
  "kernelspec": {
   "display_name": "Python 3",
   "language": "python",
   "name": "python3"
  },
  "language_info": {
   "codemirror_mode": {
    "name": "ipython",
    "version": 3
   },
   "file_extension": ".py",
   "mimetype": "text/x-python",
   "name": "python",
   "nbconvert_exporter": "python",
   "pygments_lexer": "ipython3",
   "version": "3.8.3"
  }
 },
 "nbformat": 4,
 "nbformat_minor": 4
}
